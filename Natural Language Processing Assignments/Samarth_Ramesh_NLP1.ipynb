{
  "nbformat": 4,
  "nbformat_minor": 0,
  "metadata": {
    "colab": {
      "name": "Samarth Ramesh NLP1.ipynb",
      "provenance": [],
      "collapsed_sections": []
    },
    "kernelspec": {
      "name": "python3",
      "display_name": "Python 3"
    }
  },
  "cells": [
    {
      "cell_type": "markdown",
      "metadata": {
        "id": "RrptjV2IcSwp"
      },
      "source": [
        "# NLP Assignment 1\r\n",
        "Samarth Ramesh\r\n",
        "\r\n",
        "BMC201722"
      ]
    },
    {
      "cell_type": "code",
      "metadata": {
        "id": "vtFs6Zv-xdW6"
      },
      "source": [
        "import json\r\n",
        "import os\r\n",
        "import re\r\n",
        "from matplotlib import pyplot as plt\r\n",
        "from IPython.display import HTML, display\r\n",
        "import time\r\n",
        "import math\r\n",
        "import csv"
      ],
      "execution_count": null,
      "outputs": []
    },
    {
      "cell_type": "code",
      "metadata": {
        "id": "UN1f0LWTh1Kv"
      },
      "source": [
        "def progress(value, max=100):\r\n",
        "  '''\r\n",
        "  This defines the progress bar used later.\r\n",
        "  '''\r\n",
        "  return HTML(\"\"\"\r\n",
        "        <progress\r\n",
        "            value='{value}'\r\n",
        "            max='{max}',\r\n",
        "            style='width: 100%'\r\n",
        "        >\r\n",
        "            {value}\r\n",
        "        </progress>\r\n",
        "    \"\"\".format(value=value, max=max))"
      ],
      "execution_count": null,
      "outputs": []
    },
    {
      "cell_type": "code",
      "metadata": {
        "id": "wrd6Qk1j2wfg"
      },
      "source": [
        "def extract_text(filename,output_as_list=False):\r\n",
        "    '''\r\n",
        "    Extract the text from the file name (json file) and\r\n",
        "    index the content from paper_id, title, abstract and body_text fields\r\n",
        "    Retuns - if output_as_list = True\r\n",
        "                list of all the above values,\r\n",
        "             else\r\n",
        "                text of title, abstract and bodt_text\r\n",
        "    '''\r\n",
        "\r\n",
        "    file = open(filename)\r\n",
        "    body_text = \"\"\r\n",
        "    abstract = \"\"\r\n",
        "    title = \"\"\r\n",
        "    paper_id = \"\"\r\n",
        "\r\n",
        "    paper_content = json.load(file)\r\n",
        "\r\n",
        "    #get the paper_id\r\n",
        "    if 'paper_id' in paper_content:\r\n",
        "        paper_id = paper_content['paper_id']\r\n",
        "    #get the title, if available\r\n",
        "    if 'title' in paper_content['metadata']:\r\n",
        "        title = paper_content['metadata']['title']\r\n",
        "    #get abstract.text, if available\r\n",
        "    if 'abstract' in paper_content:\r\n",
        "        for abs in paper_content['abstract']:\r\n",
        "            abstract = abstract + abs['text']\r\n",
        "    if 'body_text' in paper_content:\r\n",
        "        for bt in paper_content['body_text']:\r\n",
        "            body_text = body_text + bt['text']\r\n",
        "\r\n",
        "\r\n",
        "    if output_as_list:\r\n",
        "            return [paper_id,title,abstract,body_text]\r\n",
        "    else:\r\n",
        "        return (title + ' ' + abstract + ' ' + body_text + ' ')\r\n"
      ],
      "execution_count": null,
      "outputs": []
    },
    {
      "cell_type": "code",
      "metadata": {
        "id": "0pDNb__l3OLs",
        "colab": {
          "base_uri": "https://localhost:8080/",
          "height": 54
        },
        "outputId": "5495022d-b953-4206-cf63-0db8dabe3d8e"
      },
      "source": [
        "'''\r\n",
        "Each paper is extracted from the relevant json file\r\n",
        "and for each paper the paper_id, title, abstract and body_text is extracted\r\n",
        "and added to the papers_data list.\r\n",
        "'''\r\n",
        "\r\n",
        "papers_data = []\r\n",
        "i = 0\r\n",
        "out = display(progress(0, 350), display_id=True)\r\n",
        "for filename in os.listdir(\"/content/drive/MyDrive/Colab Data/NLP 1 Data\"):\r\n",
        "  paper = extract_text(\"/content/drive/MyDrive/Colab Data/NLP 1 Data/\" + filename, output_as_list= True)\r\n",
        "  papers_data.append(paper)\r\n",
        "  i+=1\r\n",
        "  out.update(progress(i, 350))"
      ],
      "execution_count": null,
      "outputs": [
        {
          "output_type": "display_data",
          "data": {
            "text/html": [
              "\n",
              "        <progress\n",
              "            value='350'\n",
              "            max='350',\n",
              "            style='width: 100%'\n",
              "        >\n",
              "            350\n",
              "        </progress>\n",
              "    "
            ],
            "text/plain": [
              "<IPython.core.display.HTML object>"
            ]
          },
          "metadata": {
            "tags": []
          }
        }
      ]
    },
    {
      "cell_type": "code",
      "metadata": {
        "id": "GsKrMXF8rGFw"
      },
      "source": [
        "def split_sentences(text):\r\n",
        "  '''\r\n",
        "  This function takes the body of text and splits the text by full stops.\r\n",
        "  Then the sentences are stripped of empty space at the start end and then\r\n",
        "  convert the sentence into lower case. It returns a list of sentences.\r\n",
        "  '''\r\n",
        "  final = []\r\n",
        "  sentences = text.split('.')\r\n",
        "  for sentence in sentences:\r\n",
        "    if sentence != []:\r\n",
        "      final.append(sentence.strip().lower())\r\n",
        "  return final\r\n",
        "\r\n",
        "def remove_brackets(sentence):\r\n",
        "  '''\r\n",
        "  This function uses regular expressions to remove any part\r\n",
        "  of the sentences contained between brackets.\r\n",
        "  '''\r\n",
        "  return re.sub(\".[\\(\\[].*?[\\)\\]]\", \"\", sentence)\r\n",
        "\r\n",
        "def remove_punc(sentence):\r\n",
        "  '''\r\n",
        "  Removes all characters other than letters, numbers,\r\n",
        "  hyphens, apostrophes and empty spaces.\r\n",
        "  '''\r\n",
        "  whitelist = set(\"abcdefghijklmnopqrstuvwxyz '-1234567890ABCDEFGHIJKLMNOPQRSTUVWXYZ\")\r\n",
        "  return ''.join(filter(whitelist.__contains__, sentence))\r\n",
        "\r\n",
        "def clean_sentence(sentence):\r\n",
        "  '''\r\n",
        "  Applies the remove_brackets and remove_punc functions\r\n",
        "  to a sentence to convert the raw sentence to a sentence\r\n",
        "  that can be used to train a language model.\r\n",
        "  '''\r\n",
        "  sentence = remove_brackets(sentence)\r\n",
        "  sentence = remove_punc(sentence)\r\n",
        "  return sentence"
      ],
      "execution_count": null,
      "outputs": []
    },
    {
      "cell_type": "markdown",
      "metadata": {
        "id": "JrKujzHEfRmB"
      },
      "source": [
        "## Pre-processing Steps\r\n",
        "\r\n",
        "Each paper is split into sentences and converted completely into lower case.\r\n",
        "\r\n",
        "The papers have many abbreviations and citations both of which are written in brackets. They don't possess much semantic information for the language model so they can be removed. So anything written in brackets is removed from the sentences.\r\n",
        "\r\n",
        "Next all the punctuations except hyphens and apostrophes are removed leaving only the words in lower case which can be easily used for the language model."
      ]
    },
    {
      "cell_type": "code",
      "metadata": {
        "colab": {
          "base_uri": "https://localhost:8080/",
          "height": 54
        },
        "id": "xhN6EJVShGuO",
        "outputId": "6a6ceafd-b986-4116-d0c7-bdfb7ab408cd"
      },
      "source": [
        "'''\r\n",
        "Extracts a list of sentences from the list of papers papers_data.\r\n",
        "'''\r\n",
        "\r\n",
        "sentences=[]\r\n",
        "out = display(progress(0, 350), display_id=True)\r\n",
        "for i in range(len(papers_data)):\r\n",
        "  sentences = sentences + split_sentences(papers_data[i][3])\r\n",
        "  out.update(progress(i, 350))"
      ],
      "execution_count": null,
      "outputs": [
        {
          "output_type": "display_data",
          "data": {
            "text/html": [
              "\n",
              "        <progress\n",
              "            value='349'\n",
              "            max='350',\n",
              "            style='width: 100%'\n",
              "        >\n",
              "            349\n",
              "        </progress>\n",
              "    "
            ],
            "text/plain": [
              "<IPython.core.display.HTML object>"
            ]
          },
          "metadata": {
            "tags": []
          }
        }
      ]
    },
    {
      "cell_type": "code",
      "metadata": {
        "colab": {
          "base_uri": "https://localhost:8080/",
          "height": 73
        },
        "id": "_ORr8iddmeHq",
        "outputId": "161db4c6-eda4-4f5a-ede2-e5560467cc9b"
      },
      "source": [
        "'''\r\n",
        "Each sentence is cleaned using the clean_sentence function.\r\n",
        "'''\r\n",
        "\r\n",
        "sen_data = []\r\n",
        "l = len(sentences)\r\n",
        "print(l)\r\n",
        "out = display(progress(0, l), display_id=True)\r\n",
        "i=0\r\n",
        "for sen in sentences:\r\n",
        "  sen_data.append(clean_sentence(sen))\r\n",
        "  i+=1\r\n",
        "  out.update(progress(i, l))"
      ],
      "execution_count": null,
      "outputs": [
        {
          "output_type": "stream",
          "text": [
            "71703\n"
          ],
          "name": "stdout"
        },
        {
          "output_type": "display_data",
          "data": {
            "text/html": [
              "\n",
              "        <progress\n",
              "            value='71703'\n",
              "            max='71703',\n",
              "            style='width: 100%'\n",
              "        >\n",
              "            71703\n",
              "        </progress>\n",
              "    "
            ],
            "text/plain": [
              "<IPython.core.display.HTML object>"
            ]
          },
          "metadata": {
            "tags": []
          }
        }
      ]
    },
    {
      "cell_type": "code",
      "metadata": {
        "id": "3SUn1IJgxJ1c"
      },
      "source": [
        "def count_words(sentence):\r\n",
        "  '''\r\n",
        "  Counts the words in a sentence.\r\n",
        "  '''\r\n",
        "  return len(sentence.split(\" \"))"
      ],
      "execution_count": null,
      "outputs": []
    },
    {
      "cell_type": "code",
      "metadata": {
        "id": "ZbMjKgCU4dVn",
        "colab": {
          "base_uri": "https://localhost:8080/"
        },
        "outputId": "2109a598-287c-456a-9ef8-a1c6fa9df728"
      },
      "source": [
        "word_count=0\r\n",
        "for sen in sen_data:\r\n",
        "  word_count+= count_words(sen)\r\n",
        "\r\n",
        "print(\"Number of sentences: \"+str(len(sen_data)))\r\n",
        "print(\"Number of words: \"+str(word_count))"
      ],
      "execution_count": null,
      "outputs": [
        {
          "output_type": "stream",
          "text": [
            "Number of sentences: 71703\n",
            "Number of words: 1284387\n"
          ],
          "name": "stdout"
        }
      ]
    },
    {
      "cell_type": "code",
      "metadata": {
        "id": "_Ky_vgl09XGa"
      },
      "source": [
        "'''\r\n",
        "Splits the list of sentences into a list of lists of words.\r\n",
        "'''\r\n",
        "\r\n",
        "words = []\r\n",
        "for sen in sen_data:\r\n",
        "  words.append(sen.split(' '))"
      ],
      "execution_count": null,
      "outputs": []
    },
    {
      "cell_type": "code",
      "metadata": {
        "id": "_-OfLw6O__6C",
        "colab": {
          "base_uri": "https://localhost:8080/"
        },
        "outputId": "08210dda-54ee-44f2-cd99-d57ce3dece5a"
      },
      "source": [
        "'''\r\n",
        "Flatten the list of lists of words and constructs a list of unique words.\r\n",
        "'''\r\n",
        "\r\n",
        "all_words = [word for sen in words for word in sen]\r\n",
        "unique_words = set(all_words)\r\n",
        "print(\"Size of the Voabulary: \"+str(len(unique_words)))"
      ],
      "execution_count": null,
      "outputs": [
        {
          "output_type": "stream",
          "text": [
            "Size of the Voabulary: 58699\n"
          ],
          "name": "stdout"
        }
      ]
    },
    {
      "cell_type": "code",
      "metadata": {
        "id": "wyjJP1m7_dgL",
        "colab": {
          "base_uri": "https://localhost:8080/",
          "height": 54
        },
        "outputId": "0c94911a-c764-421b-ca2a-3db1b46dec24"
      },
      "source": [
        "'''\r\n",
        "Counts the number of terms and the vocabulary size\r\n",
        "after adding each sentence one by one.\r\n",
        "'''\r\n",
        "\r\n",
        "l = len(words)\r\n",
        "out = display(progress(0, l), display_id=True)\r\n",
        "terms = []\r\n",
        "vocab = []\r\n",
        "words_so_far = []\r\n",
        "i=0\r\n",
        "for sen in words:\r\n",
        "  words_so_far = words_so_far + sen\r\n",
        "  unique_words_so_far = list(set(words_so_far))\r\n",
        "  terms.append(len(words_so_far))\r\n",
        "  vocab.append(len(unique_words_so_far))\r\n",
        "  i+=1\r\n",
        "  out.update(progress(i, l))"
      ],
      "execution_count": null,
      "outputs": [
        {
          "output_type": "display_data",
          "data": {
            "text/html": [
              "\n",
              "        <progress\n",
              "            value='71703'\n",
              "            max='71703',\n",
              "            style='width: 100%'\n",
              "        >\n",
              "            71703\n",
              "        </progress>\n",
              "    "
            ],
            "text/plain": [
              "<IPython.core.display.HTML object>"
            ]
          },
          "metadata": {
            "tags": []
          }
        }
      ]
    },
    {
      "cell_type": "code",
      "metadata": {
        "id": "7E2RFRKJH_Rr"
      },
      "source": [
        "beta = 0.6\r\n",
        "K = vocab[-1]/(terms[-1]**beta)"
      ],
      "execution_count": null,
      "outputs": []
    },
    {
      "cell_type": "code",
      "metadata": {
        "id": "Pr9Wxm6zDRb6",
        "colab": {
          "base_uri": "https://localhost:8080/",
          "height": 295
        },
        "outputId": "6c4ebdfa-b32e-415b-8fff-3cb4f624ee1f"
      },
      "source": [
        "'''\r\n",
        "Plots the log of the total number of words vs\r\n",
        "the log of the number of unique words. It compares \r\n",
        "the graph with the projected vocabulary for the number\r\n",
        "of words taking beta = 0.6\r\n",
        "'''\r\n",
        "\r\n",
        "log_terms = [math.log2(term) for term in terms]\r\n",
        "log_vocab = [math.log2(word) for word in vocab]\r\n",
        "plt.plot(log_terms,log_vocab)\r\n",
        "pro_vocab = [K*(term**beta) for term in terms]\r\n",
        "log_pro_vocab = [math.log2(word) for word in pro_vocab]\r\n",
        "plt.plot(log_terms, log_pro_vocab)\r\n",
        "plt.xlabel(\"Log of Terms\")\r\n",
        "plt.ylabel(\"Log of Vocabulary\")\r\n",
        "plt.title(\"Heap's Law\")\r\n",
        "plt.show()"
      ],
      "execution_count": null,
      "outputs": [
        {
          "output_type": "display_data",
          "data": {
            "image/png": "[encoded data removed]",
            "text/plain": [
              "<Figure size 432x288 with 1 Axes>"
            ]
          },
          "metadata": {
            "tags": [],
            "needs_background": "light"
          }
        }
      ]
    },
    {
      "cell_type": "code",
      "metadata": {
        "id": "T67YqHWjHTB3"
      },
      "source": [
        "'''\r\n",
        "Writes the list of lists of words as csv file to use in the next assignment.\r\n",
        "'''\r\n",
        "\r\n",
        "with open(\"words.csv\",\"w\") as f:\r\n",
        "    wr = csv.writer(f)\r\n",
        "    wr.writerows(words)"
      ],
      "execution_count": null,
      "outputs": []
    },
    {
      "cell_type": "code",
      "metadata": {
        "id": "q_FNi12DUaCm",
        "colab": {
          "base_uri": "https://localhost:8080/"
        },
        "outputId": "5b77cdf5-7aee-4931-8cc4-076d25412d0b"
      },
      "source": [
        "with open('words.csv', 'r') as read_obj:\r\n",
        "    # pass the file object to reader() to get the reader object\r\n",
        "    csv_reader = csv.reader(read_obj)\r\n",
        "    # Pass reader object to list() to get a list of lists\r\n",
        "    list_of_rows = list(csv_reader)\r\n",
        "    print(list_of_rows[0:3])"
      ],
      "execution_count": null,
      "outputs": [
        {
          "output_type": "stream",
          "text": [
            "[['respiratory', 'viruses', 'are', 'common', 'causes', 'of', 'human', 'disease'], ['molecular', 'detection', 'techniques', 'have', 'allowed', 'previously', 'known', 'viruses', 'to', 'be', 'more', 'reliably', 'identified', 'and', 'new', 'viruses', 'to', 'be', 'discovered'], ['molecular', 'techniques', 'such', 'as', 'real-time', 'rt-pcr', 'can', 'be', 'performed', 'for', 'each', 'individual', 'virus', 'or', 'they', 'can', 'be', 'combined', 'into', 'a', 'multiplex', 'rt-rtpcr', 'assay']]\n"
          ],
          "name": "stdout"
        }
      ]
    }
  ]
}