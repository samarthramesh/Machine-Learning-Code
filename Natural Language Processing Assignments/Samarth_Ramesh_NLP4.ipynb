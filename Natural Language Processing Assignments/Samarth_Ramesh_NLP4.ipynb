{
  "nbformat": 4,
  "nbformat_minor": 0,
  "metadata": {
    "colab": {
      "name": "Samarth Ramesh NLP Assignment 4.ipynb",
      "provenance": [],
      "collapsed_sections": []
    },
    "kernelspec": {
      "name": "python3",
      "display_name": "Python 3"
    },
    "language_info": {
      "name": "python"
    },
    "accelerator": "GPU"
  },
  "cells": [
    {
      "cell_type": "markdown",
      "metadata": {
        "id": "00c1P2hn1W9F"
      },
      "source": [
        "# NLP Assignment 4\n",
        "## Samarth Ramesh"
      ]
    },
    {
      "cell_type": "code",
      "metadata": {
        "id": "R8VS2uFkVyxR"
      },
      "source": [
        "import os\n",
        "import json\n",
        "import random\n",
        "import torch\n",
        "import torch.nn as nn\n",
        "from torch.autograd import Variable\n",
        "import string\n",
        "import time\n",
        "import math\n",
        "from tqdm import tqdm\n",
        "import re\n",
        "import pickle\n",
        "from pprint import pprint\n",
        "import statistics\n",
        "import matplotlib.pyplot as plt"
      ],
      "execution_count": null,
      "outputs": []
    },
    {
      "cell_type": "code",
      "metadata": {
        "colab": {
          "base_uri": "https://localhost:8080/"
        },
        "id": "-bIDbTKWzS-h",
        "outputId": "3e39fdc6-3ef2-4b10-d88a-5a4355e8f68e"
      },
      "source": [
        "from google.colab import drive\n",
        "drive.mount('/content/drive')"
      ],
      "execution_count": null,
      "outputs": [
        {
          "output_type": "stream",
          "text": [
            "Drive already mounted at /content/drive; to attempt to forcibly remount, call drive.mount(\"/content/drive\", force_remount=True).\n"
          ],
          "name": "stdout"
        }
      ]
    },
    {
      "cell_type": "markdown",
      "metadata": {
        "id": "lFoUlt2bwd3P"
      },
      "source": [
        "# Data Preparation\n",
        "\n",
        "The required input for the character-based RNN is a long string of text from which the model can be trained on random chunks. So each paper is extracted from the corresponding json and all the data is concatenated to form one long string. \n",
        "\n",
        "While training the model would often struggle to properly predict the behaviour of bracket characters because of the large number of brackets present both in that text and as direction to the references. So I removed any text between brackets to improve the model's text generation. \n",
        "\n",
        "I also fixed some inconsistencies in the spacing around full stops and commas so that the model improves at predicting punctuation."
      ]
    },
    {
      "cell_type": "code",
      "metadata": {
        "id": "L1TTVC9eWvcl"
      },
      "source": [
        "def extract_text(filename,output_as_list=False):\n",
        "  '''\n",
        "  Extract the text from the file name (json file) and\n",
        "  index the content from paper_id, title, abstract and body_text fields\n",
        "  Retuns - if output_as_list = True\n",
        "             list of all the above values,\n",
        "           else\n",
        "             text of title, abstract and bodt_text\n",
        "  '''\n",
        "\n",
        "  file = open(filename)\n",
        "  body_text = \"\"\n",
        "  abstract = \"\"\n",
        "  title = \"\"\n",
        "  paper_id = \"\"\n",
        "\n",
        "  paper_content = json.load(file)\n",
        "\n",
        "  #get the paper_id\n",
        "  if 'paper_id' in paper_content:\n",
        "    paper_id = paper_content['paper_id']\n",
        "  #get the title, if available\n",
        "  if 'title' in paper_content['metadata']:\n",
        "    title = paper_content['metadata']['title']\n",
        "  #get abstract.text, if available\n",
        "  if 'abstract' in paper_content:\n",
        "    for abs in paper_content['abstract']:\n",
        "      abstract = abstract + abs['text']\n",
        "  if 'body_text' in paper_content:\n",
        "    for bt in paper_content['body_text']:\n",
        "      body_text = body_text + bt['text']\n",
        "\n",
        "\n",
        "  if output_as_list:\n",
        "    return [paper_id,title,abstract,body_text]\n",
        "  else:\n",
        "    return (title + ' ' + abstract + ' ' + body_text + ' ')\n",
        "\n",
        "def remove_brackets(sentence):\n",
        "  '''\n",
        "  This function uses regular expressions to remove any part\n",
        "  of the sentences contained between brackets.\n",
        "  '''\n",
        "  return re.sub(\".[\\(\\[].*?[\\)\\]]\", \"\", sentence)\n",
        "\n",
        "def fix_punc(sentence):\n",
        "  '''\n",
        "  Corrects the spacing errors around commas and full stops.\n",
        "  '''\n",
        "  return re.sub(\"\\s\\.\", '.', re.sub(\"\\.(?!\\s|$)\", \". \", re.sub(\"\\s\\,\", \",\", re.sub(\"\\,(?!\\s|$)\", \", \", sentence))))\n"
      ],
      "execution_count": null,
      "outputs": []
    },
    {
      "cell_type": "code",
      "metadata": {
        "id": "yPaA-3XnVytu"
      },
      "source": [
        "'''\n",
        "papers_data = []\n",
        "i = 0\n",
        "for filename in os.listdir(\"/content/drive/MyDrive/Colab Data/NLP 1 Data\"):\n",
        "  paper = extract_text(\"/content/drive/MyDrive/Colab Data/NLP 1 Data/\" + filename, output_as_list= False)\n",
        "  papers_data.append(paper)\n",
        "  i+=1\n",
        "  print(i)\n",
        "\n",
        "data=\"\"\n",
        "for paper in papers_data:\n",
        "  data+=paper\n",
        "\n",
        "data = fix_punc(remove_brackets(data))\n",
        "\n",
        "with open('/content/drive/MyDrive/Colab Data/NLP 4 Data/final_data.txt', 'w') as filename:\n",
        "  filename.write(data)\n",
        "  filename.close()\n",
        "'''"
      ],
      "execution_count": null,
      "outputs": []
    },
    {
      "cell_type": "code",
      "metadata": {
        "id": "CS76RKzOrwb9"
      },
      "source": [
        "with open('/content/drive/MyDrive/Colab Data/NLP 4 Data/final_data.txt', 'r+') as filename:\n",
        "  data = filename.readline()"
      ],
      "execution_count": null,
      "outputs": []
    },
    {
      "cell_type": "code",
      "metadata": {
        "colab": {
          "base_uri": "https://localhost:8080/"
        },
        "id": "nbEdSBJJeyEO",
        "outputId": "fb8daa13-0c29-4bf5-fb2f-8aa7a1970b93"
      },
      "source": [
        "total_char = len(data)\n",
        "total_char"
      ],
      "execution_count": null,
      "outputs": [
        {
          "output_type": "execute_result",
          "data": {
            "text/plain": [
              "8451640"
            ]
          },
          "metadata": {
            "tags": []
          },
          "execution_count": 5
        }
      ]
    },
    {
      "cell_type": "markdown",
      "metadata": {
        "id": "UjthRBT_yVVU"
      },
      "source": [
        "# Model\n",
        "\n",
        "I tried a combination unidirectional and bidirectional RNNs in conjencture with all the different possible optimisation algorithms and settled on the best performing architectures which a Bidirectional GRU with the Adamax algorithm.\n",
        "\n",
        "\n",
        "The accuracy was shown to increase with larger number of stacked layer and increase in hidden layer size. I chose 2 stacked layers and a hidden layer size of 200."
      ]
    },
    {
      "cell_type": "code",
      "metadata": {
        "id": "OTLwlRB9VymI"
      },
      "source": [
        "class CharRNN(nn.Module):\n",
        "  def __init__(self, input_size, hidden_size, output_size, model=\"gru\", n_layers=1, bidir = False, dp = 0):\n",
        "    super(CharRNN, self).__init__()\n",
        "    self.model = model.lower()\n",
        "    self.input_size = input_size\n",
        "    self.hidden_size = hidden_size\n",
        "    self.output_size = output_size\n",
        "    self.n_layers = n_layers\n",
        "    self.bidir = bidir\n",
        "    self.dp = dp\n",
        "\n",
        "    self.encoder = nn.Embedding(input_size, hidden_size)\n",
        "    if self.model == \"gru\":\n",
        "      self.rnn = nn.GRU(hidden_size, hidden_size, n_layers, bidirectional = bidir, dropout = dp)\n",
        "    elif self.model == \"lstm\":\n",
        "      self.rnn = nn.LSTM(hidden_size, hidden_size, n_layers, bidirectional = bidir, dropout = dp)\n",
        "        \n",
        "    if self.bidir == True:\n",
        "      self.decoder = nn.Linear(hidden_size*2, output_size)\n",
        "    elif self.bidir == False:\n",
        "      self.decoder = nn.Linear(hidden_size, output_size)\n",
        "\n",
        "  def forward(self, input, hidden):\n",
        "    batch_size = input.size(0)\n",
        "    encoded = self.encoder(input)\n",
        "    output, hidden = self.rnn(encoded.view(1, batch_size, -1), hidden)\n",
        "    output = self.decoder(output.view(batch_size, -1))\n",
        "    return output, hidden\n",
        "\n",
        "  def forward2(self, input, hidden):\n",
        "    encoded = self.encoder(input.view(1, -1))\n",
        "    output, hidden = self.rnn(encoded.view(1, 1, -1), hidden)\n",
        "    output = self.decoder(output.view(1, -1))\n",
        "    return output, hidden\n",
        "\n",
        "  def init_hidden(self, batch_size):\n",
        "    if self.bidir == True:\n",
        "      if self.model == \"lstm\":\n",
        "        return (Variable(torch.zeros(self.n_layers*2, batch_size, self.hidden_size)),\n",
        "                Variable(torch.zeros(self.n_layers*2, batch_size, self.hidden_size)))\n",
        "      else:\n",
        "        return Variable(torch.zeros(self.n_layers*2, batch_size, self.hidden_size))\n",
        "    if self.model == \"lstm\":\n",
        "      return (Variable(torch.zeros(self.n_layers, batch_size, self.hidden_size)),\n",
        "              Variable(torch.zeros(self.n_layers, batch_size, self.hidden_size)))\n",
        "    return Variable(torch.zeros(self.n_layers, batch_size, self.hidden_size))\n",
        "\n",
        "all_characters = string.printable\n",
        "n_characters = len(all_characters)\n",
        "\n",
        "# Turn string into list of longs\n",
        "def char_tensor(string):\n",
        "  tensor = torch.zeros(len(string)).long()\n",
        "  for c in range(len(string)):\n",
        "    try:\n",
        "      tensor[c] = all_characters.index(string[c])\n",
        "    except:\n",
        "      continue\n",
        "  return tensor\n",
        "\n",
        "def random_training_set(chunk_len, batch_size):\n",
        "  inp = torch.LongTensor(batch_size, chunk_len)\n",
        "  target = torch.LongTensor(batch_size, chunk_len)\n",
        "  for bi in range(batch_size):\n",
        "    start_index = random.randint(0, total_char - chunk_len)\n",
        "    end_index = start_index + chunk_len + 1\n",
        "    chunk = data[start_index:end_index]\n",
        "    inp[bi] = char_tensor(chunk[:-1])\n",
        "    target[bi] = char_tensor(chunk[1:])\n",
        "  inp = Variable(inp)\n",
        "  target = Variable(target)\n",
        "  if cuda:\n",
        "    inp = inp.cuda()\n",
        "    target = target.cuda()\n",
        "  return inp, target\n",
        "\n",
        "global acc_list\n",
        "\n",
        "def train(inp, target):\n",
        "  hidden = decoder.init_hidden(batch_size)\n",
        "  if model == \"gru\":\n",
        "    if cuda:\n",
        "      hidden = hidden.cuda()\n",
        "  if model == \"lstm\":\n",
        "    if cuda:\n",
        "      hidden = (hidden[0].cuda(), hidden[1].cuda())\n",
        "  decoder.zero_grad()\n",
        "  loss = 0\n",
        "\n",
        "  for c in range(chunk_len):\n",
        "    output, hidden = decoder(inp[:,c], hidden)\n",
        "    acc_list.append(find_acc(output, target[:,c]))\n",
        "    loss += criterion(output.view(batch_size, -1), target[:,c])\n",
        "\n",
        "  loss.backward()\n",
        "  decoder_optimizer.step()\n",
        "\n",
        "  return loss.data.item() / chunk_len\n",
        "\n",
        "\n",
        "def generate(decoder, prime_str='A', predict_len=100, temperature=0.8, cuda=False):\n",
        "  hidden = decoder.init_hidden(1)\n",
        "  prime_input = Variable(char_tensor(prime_str).unsqueeze(0))\n",
        "  if model == \"gru\":\n",
        "    if cuda:\n",
        "      hidden = hidden.cuda()\n",
        "      prime_input = prime_input.cuda()\n",
        "  if model == \"lstm\":    \n",
        "    if cuda:\n",
        "      hidden = (hidden[0].cuda(), hidden[1].cuda())\n",
        "      prime_input = prime_input.cuda()\n",
        "  predicted = prime_str\n",
        "\n",
        "  # Use priming string to \"build up\" hidden state\n",
        "  for p in range(len(prime_str) - 1):\n",
        "    _, hidden = decoder(prime_input[:,p], hidden)\n",
        "        \n",
        "  inp = prime_input[:,-1]\n",
        "   \n",
        "  for p in range(predict_len):\n",
        "    output, hidden = decoder(inp, hidden)\n",
        "        \n",
        "    # Sample from the network as a multinomial distribution\n",
        "    output_dist = output.data.view(-1).div(temperature).exp()\n",
        "    top_i = torch.multinomial(output_dist, 1)[0]\n",
        "\n",
        "    # Add predicted character to string and use as next input\n",
        "    predicted_char = all_characters[top_i]\n",
        "    predicted += predicted_char\n",
        "    inp = Variable(char_tensor(predicted_char).unsqueeze(0))\n",
        "    if cuda:\n",
        "      inp = inp.cuda()\n",
        "\n",
        "  return predicted\n",
        "\n",
        "def time_since(since):\n",
        "  s = time.time() - since\n",
        "  m = math.floor(s / 60)\n",
        "  s -= m * 60\n",
        "  return '%dm %ds' % (m, s)\n",
        "\n",
        "def find_acc(output_tensor, target_tensor):\n",
        "  predictions = []\n",
        "  for preds in output_tensor:\n",
        "    predsl = preds.tolist()\n",
        "    pred_char = predsl.index(max(predsl))\n",
        "    predictions.append(pred_char)\n",
        "  targets = target_tensor.tolist()\n",
        "  correct = 0\n",
        "  for i in range(len(predictions)):\n",
        "    if predictions[i] == targets[i]:\n",
        "      correct+=1\n",
        "  return correct/len(predictions)\n",
        "\n",
        "def save(path = '/content/drive/MyDrive/Colab Data/dummy.pt'):\n",
        "  torch.save(decoder, path)\n",
        "  print(\"Saving...\")\n",
        "\n",
        "def generate_sample(decoder, prime_str = \"The\", predict_len = 200, cuda = False):\n",
        "  predicted = generate(decoder=decoder, prime_str=prime_str, predict_len=predict_len+200, cuda=cuda)\n",
        "  for i in range(len(predicted)):\n",
        "    if i > predict_len and predicted[i] == '.':\n",
        "      predicted = predicted[:i+1]\n",
        "      break\n",
        "  return predicted"
      ],
      "execution_count": null,
      "outputs": []
    },
    {
      "cell_type": "markdown",
      "metadata": {
        "id": "IcWeeCuAELf2"
      },
      "source": [
        "# Training\n",
        "\n",
        "The model was trained for 10000 epochs on a batch size of 64 random chunks of data. The learning rate is initially set 0.01 and reduced by a afactor 0.95 everytime the model trains for 100 epochs without achieving a new minimum loss.\n",
        "The model took around 2 hours to train on Google Colab GPU."
      ]
    },
    {
      "cell_type": "code",
      "metadata": {
        "id": "IBF8qmIpELb5"
      },
      "source": [
        "#Hyperparameters\n",
        "hidden_size = 200\n",
        "model = \"gru\"\n",
        "n_layers = 2\n",
        "learning_rate = 0.01\n",
        "lr_decay = 0.95\n",
        "steps_decay = 100\n",
        "n_epochs = 10000\n",
        "chunk_len = 200\n",
        "batch_size = 64\n",
        "print_every = 250\n",
        "save_path = '/content/drive/MyDrive/Colab Data/NLP 4 Models/final_model.pt'\n",
        "losses_path = '/content/drive/MyDrive/Colab Data/NLP 4 Data/final_lossesv2.pkl'\n",
        "acc_path = '/content/drive/MyDrive/Colab Data/NLP 4 Data/final_accsv2.pkl'"
      ],
      "execution_count": null,
      "outputs": []
    },
    {
      "cell_type": "code",
      "metadata": {
        "colab": {
          "base_uri": "https://localhost:8080/"
        },
        "id": "7UW59930TtTZ",
        "outputId": "b691a5a1-4726-4a0c-968b-105147a74b52"
      },
      "source": [
        "cuda = torch.cuda.is_available()\n",
        "cuda"
      ],
      "execution_count": null,
      "outputs": [
        {
          "output_type": "execute_result",
          "data": {
            "text/plain": [
              "True"
            ]
          },
          "metadata": {
            "tags": []
          },
          "execution_count": 8
        }
      ]
    },
    {
      "cell_type": "code",
      "metadata": {
        "colab": {
          "base_uri": "https://localhost:8080/"
        },
        "id": "q47anm9BELZH",
        "outputId": "313e9016-259f-4929-cc54-1d16017b5726"
      },
      "source": [
        "if os.path.exists(save_path):\n",
        "  decoder = torch.load(save_path)\n",
        "  print(\"Loading pretrained model\", '\\n')\n",
        "else:\n",
        "  decoder = CharRNN(n_characters, hidden_size, n_characters, model=model, n_layers=n_layers, bidir = True)\n",
        "\n",
        "if cuda:\n",
        "  decoder.cuda()\n",
        "  print(\"Using CUDA\")\n",
        "\n",
        "acc_list = []\n",
        "\n",
        "decoder_optimizer = torch.optim.Adamax(decoder.parameters(), lr=learning_rate)\n",
        "criterion = nn.CrossEntropyLoss()\n",
        "scheduler = torch.optim.lr_scheduler.StepLR(decoder_optimizer, step_size = 1, gamma=lr_decay, last_epoch=-1)\n",
        "\n",
        "start = time.time()\n",
        "\n",
        "if os.path.exists(losses_path):\n",
        "  with open(losses_path, 'rb') as f:\n",
        "    train_losses = pickle.load(f)\n",
        "else:\n",
        "  train_losses = []\n",
        "\n",
        "if os.path.exists(acc_path):\n",
        "  with open(acc_path, 'rb') as f:\n",
        "    train_acc = pickle.load(f)\n",
        "else:\n",
        "  train_acc = []\n",
        "\n",
        "lr = learning_rate\n",
        "\n",
        "if len(train_acc) == 0:\n",
        "  min_loss = 1000\n",
        "else:\n",
        "  min_loss = min(train_losses)\n",
        "\n",
        "last_min = 0\n",
        "\n",
        "print(\"Training for %d epochs...\" % n_epochs)\n",
        "for epoch in tqdm(range(1, n_epochs + 1)):\n",
        "  acc_list = []\n",
        "  loss = train(*random_training_set(chunk_len, batch_size))\n",
        "  train_losses.append(loss)\n",
        "  train_acc.append(statistics.mean(acc_list))\n",
        "\n",
        "  if loss < min_loss:\n",
        "    min_loss = loss\n",
        "    last_min = 0\n",
        "  \n",
        "  last_min +=1\n",
        "\n",
        "  if last_min > steps_decay:\n",
        "    scheduler.step()\n",
        "    last_min = 0\n",
        "    lr = lr*lr_decay\n",
        "    print('\\n'+\"New Learning Rate: \"+str(lr)+'\\n')\n",
        "\n",
        "\n",
        "  if epoch % print_every == 0:\n",
        "    print('[%s (%d %d%%) %.4f]' % (time_since(start), epoch, epoch / n_epochs * 100, loss))\n",
        "    print(generate(decoder, 'The', 100, cuda=cuda), '\\n')\n",
        "    with open(losses_path, 'wb') as f:\n",
        "      pickle.dump(train_losses, f)\n",
        "      f.close\n",
        "    with open(acc_path, 'wb') as f:\n",
        "      pickle.dump(train_acc, f)\n",
        "      f.close\n",
        "    save('/content/drive/MyDrive/Colab Data/NLP 4 Models/final_model.pt')\n",
        "  "
      ],
      "execution_count": null,
      "outputs": [
        {
          "output_type": "stream",
          "text": [
            "\r  0%|          | 0/10000 [00:00<?, ?it/s]"
          ],
          "name": "stderr"
        },
        {
          "output_type": "stream",
          "text": [
            "Using CUDA\n",
            "Training for 10000 epochs...\n"
          ],
          "name": "stdout"
        },
        {
          "output_type": "stream",
          "text": [
            "  2%|▏         | 249/10000 [02:40<1:44:15,  1.56it/s]"
          ],
          "name": "stderr"
        },
        {
          "output_type": "stream",
          "text": [
            "[2m 41s (250 2%) 1.4070]\n",
            "The formation difficient mofile der contains were this contribution of the extraces facilitate one prom \n",
            "\n"
          ],
          "name": "stdout"
        },
        {
          "output_type": "stream",
          "text": [
            "\r  2%|▎         | 250/10000 [02:41<2:06:59,  1.28it/s]"
          ],
          "name": "stderr"
        },
        {
          "output_type": "stream",
          "text": [
            "Saving...\n"
          ],
          "name": "stdout"
        },
        {
          "output_type": "stream",
          "text": [
            "  5%|▌         | 500/10000 [05:22<1:47:35,  1.47it/s]"
          ],
          "name": "stderr"
        },
        {
          "output_type": "stream",
          "text": [
            "[5m 21s (500 5%) 1.2926]\n",
            "The following countries, anti-might responses of SARS CoV Servick virus between 5 0 GDx this strategy b \n",
            "\n",
            "Saving...\n"
          ],
          "name": "stdout"
        },
        {
          "output_type": "stream",
          "text": [
            "  8%|▊         | 750/10000 [08:03<1:44:07,  1.48it/s]"
          ],
          "name": "stderr"
        },
        {
          "output_type": "stream",
          "text": [
            "[8m 3s (750 7%) 1.2709]\n",
            "Therapeutic cost for strains outbreaks for proim el as important to the response to be submitted about  \n",
            "\n",
            "Saving...\n"
          ],
          "name": "stdout"
        },
        {
          "output_type": "stream",
          "text": [
            " 10%|▉         | 983/10000 [10:33<1:36:46,  1.55it/s]"
          ],
          "name": "stderr"
        },
        {
          "output_type": "stream",
          "text": [
            "\n",
            "New Learning Rate: 0.0095\n",
            "\n"
          ],
          "name": "stdout"
        },
        {
          "output_type": "stream",
          "text": [
            " 10%|█         | 1000/10000 [10:44<1:43:12,  1.45it/s]"
          ],
          "name": "stderr"
        },
        {
          "output_type": "stream",
          "text": [
            "[10m 44s (1000 10%) 1.2181]\n",
            "The south specific antibounational and lower states and the therapies in Alakins species with an auto m \n",
            "\n",
            "Saving...\n"
          ],
          "name": "stdout"
        },
        {
          "output_type": "stream",
          "text": [
            " 11%|█         | 1084/10000 [11:39<1:36:27,  1.54it/s]"
          ],
          "name": "stderr"
        },
        {
          "output_type": "stream",
          "text": [
            "\n",
            "New Learning Rate: 0.009025\n",
            "\n"
          ],
          "name": "stdout"
        },
        {
          "output_type": "stream",
          "text": [
            " 12%|█▎        | 1250/10000 [13:29<1:39:48,  1.46it/s]"
          ],
          "name": "stderr"
        },
        {
          "output_type": "stream",
          "text": [
            "[13m 29s (1250 12%) 1.1692]\n",
            "The macrophage in the local limited for did not comment rate of the use of experimental BMI with the 20 \n",
            "\n",
            "Saving...\n"
          ],
          "name": "stdout"
        },
        {
          "output_type": "stream",
          "text": [
            " 13%|█▎        | 1270/10000 [13:42<1:34:52,  1.53it/s]"
          ],
          "name": "stderr"
        },
        {
          "output_type": "stream",
          "text": [
            "\n",
            "New Learning Rate: 0.00857375\n",
            "\n"
          ],
          "name": "stdout"
        },
        {
          "output_type": "stream",
          "text": [
            " 14%|█▍        | 1382/10000 [14:55<1:33:17,  1.54it/s]"
          ],
          "name": "stderr"
        },
        {
          "output_type": "stream",
          "text": [
            "\n",
            "New Learning Rate: 0.0081450625\n",
            "\n"
          ],
          "name": "stdout"
        },
        {
          "output_type": "stream",
          "text": [
            " 15%|█▌        | 1500/10000 [16:11<1:36:39,  1.47it/s]"
          ],
          "name": "stderr"
        },
        {
          "output_type": "stream",
          "text": [
            "[16m 11s (1500 15%) 1.1962]\n",
            "The interpreted strain, influenza virus influenza and to be performed as broad discretion. They cause p \n",
            "\n",
            "Saving...\n"
          ],
          "name": "stdout"
        },
        {
          "output_type": "stream",
          "text": [
            " 15%|█▌        | 1517/10000 [16:22<1:29:39,  1.58it/s]"
          ],
          "name": "stderr"
        },
        {
          "output_type": "stream",
          "text": [
            "\n",
            "New Learning Rate: 0.007737809374999999\n",
            "\n"
          ],
          "name": "stdout"
        },
        {
          "output_type": "stream",
          "text": [
            " 17%|█▋        | 1701/10000 [18:20<1:28:21,  1.57it/s]"
          ],
          "name": "stderr"
        },
        {
          "output_type": "stream",
          "text": [
            "\n",
            "New Learning Rate: 0.007350918906249998\n",
            "\n"
          ],
          "name": "stdout"
        },
        {
          "output_type": "stream",
          "text": [
            " 18%|█▊        | 1750/10000 [18:52<1:33:22,  1.47it/s]"
          ],
          "name": "stderr"
        },
        {
          "output_type": "stream",
          "text": [
            "[18m 52s (1750 17%) 1.1574]\n",
            "The key range of mRNA is an abdoment flow of site to sample to symptom is but was immunized by asthma p \n",
            "\n",
            "Saving...\n"
          ],
          "name": "stdout"
        },
        {
          "output_type": "stream",
          "text": [
            " 18%|█▊        | 1840/10000 [19:50<1:29:18,  1.52it/s]"
          ],
          "name": "stderr"
        },
        {
          "output_type": "stream",
          "text": [
            "\n",
            "New Learning Rate: 0.006983372960937498\n",
            "\n"
          ],
          "name": "stdout"
        },
        {
          "output_type": "stream",
          "text": [
            " 20%|█▉        | 1954/10000 [21:03<1:24:51,  1.58it/s]"
          ],
          "name": "stderr"
        },
        {
          "output_type": "stream",
          "text": [
            "\n",
            "New Learning Rate: 0.006634204312890623\n",
            "\n"
          ],
          "name": "stdout"
        },
        {
          "output_type": "stream",
          "text": [
            " 20%|██        | 2000/10000 [21:32<1:29:34,  1.49it/s]"
          ],
          "name": "stderr"
        },
        {
          "output_type": "stream",
          "text": [
            "[21m 32s (2000 20%) 1.1658]\n",
            "The resource grants from the need for antisense statements in the copyright holder for the biological a \n",
            "\n",
            "Saving...\n"
          ],
          "name": "stdout"
        },
        {
          "output_type": "stream",
          "text": [
            " 21%|██▏       | 2143/10000 [23:06<1:25:38,  1.53it/s]"
          ],
          "name": "stderr"
        },
        {
          "output_type": "stream",
          "text": [
            "\n",
            "New Learning Rate: 0.006302494097246091\n",
            "\n"
          ],
          "name": "stdout"
        },
        {
          "output_type": "stream",
          "text": [
            " 22%|██▎       | 2250/10000 [24:17<1:29:17,  1.45it/s]"
          ],
          "name": "stderr"
        },
        {
          "output_type": "stream",
          "text": [
            "[24m 16s (2250 22%) 1.1079]\n",
            "The strains shock to resulting in the second was significant from less than n. An additional and innova \n",
            "\n",
            "Saving...\n"
          ],
          "name": "stdout"
        },
        {
          "output_type": "stream",
          "text": [
            " 23%|██▎       | 2326/10000 [25:07<1:23:54,  1.52it/s]"
          ],
          "name": "stderr"
        },
        {
          "output_type": "stream",
          "text": [
            "\n",
            "New Learning Rate: 0.005987369392383786\n",
            "\n"
          ],
          "name": "stdout"
        },
        {
          "output_type": "stream",
          "text": [
            " 24%|██▍       | 2443/10000 [26:24<1:21:34,  1.54it/s]"
          ],
          "name": "stderr"
        },
        {
          "output_type": "stream",
          "text": [
            "\n",
            "New Learning Rate: 0.005688000922764597\n",
            "\n"
          ],
          "name": "stdout"
        },
        {
          "output_type": "stream",
          "text": [
            " 25%|██▌       | 2500/10000 [27:01<1:25:58,  1.45it/s]"
          ],
          "name": "stderr"
        },
        {
          "output_type": "stream",
          "text": [
            "[27m 1s (2500 25%) 1.1528]\n",
            "The histosum and support communication of interferon settings showed that the telomeric UpS could be le \n",
            "\n",
            "Saving...\n"
          ],
          "name": "stdout"
        },
        {
          "output_type": "stream",
          "text": [
            " 25%|██▌       | 2544/10000 [27:30<1:20:47,  1.54it/s]"
          ],
          "name": "stderr"
        },
        {
          "output_type": "stream",
          "text": [
            "\n",
            "New Learning Rate: 0.005403600876626367\n",
            "\n"
          ],
          "name": "stdout"
        },
        {
          "output_type": "stream",
          "text": [
            " 26%|██▋       | 2645/10000 [28:36<1:20:03,  1.53it/s]"
          ],
          "name": "stderr"
        },
        {
          "output_type": "stream",
          "text": [
            "\n",
            "New Learning Rate: 0.005133420832795048\n",
            "\n"
          ],
          "name": "stdout"
        },
        {
          "output_type": "stream",
          "text": [
            " 27%|██▋       | 2746/10000 [29:41<1:18:33,  1.54it/s]"
          ],
          "name": "stderr"
        },
        {
          "output_type": "stream",
          "text": [
            "\n",
            "New Learning Rate: 0.0048767497911552955\n",
            "\n"
          ],
          "name": "stdout"
        },
        {
          "output_type": "stream",
          "text": [
            " 28%|██▊       | 2750/10000 [29:44<1:22:50,  1.46it/s]"
          ],
          "name": "stderr"
        },
        {
          "output_type": "stream",
          "text": [
            "[29m 44s (2750 27%) 1.1491]\n",
            "The bone research author showing the submitted work, such as follows: Funding coronaviruses, as more se \n",
            "\n",
            "Saving...\n"
          ],
          "name": "stdout"
        },
        {
          "output_type": "stream",
          "text": [
            " 29%|██▉       | 2933/10000 [31:43<1:16:51,  1.53it/s]"
          ],
          "name": "stderr"
        },
        {
          "output_type": "stream",
          "text": [
            "\n",
            "New Learning Rate: 0.00463291230159753\n",
            "\n"
          ],
          "name": "stdout"
        },
        {
          "output_type": "stream",
          "text": [
            " 30%|███       | 3000/10000 [32:26<1:19:41,  1.46it/s]"
          ],
          "name": "stderr"
        },
        {
          "output_type": "stream",
          "text": [
            "[32m 26s (3000 30%) 1.0869]\n",
            "The city syndrome and the regulatory enzyme, they are disciplines of infection, please viral entity or  \n",
            "\n",
            "Saving...\n"
          ],
          "name": "stdout"
        },
        {
          "output_type": "stream",
          "text": [
            " 30%|███       | 3043/10000 [32:54<1:15:07,  1.54it/s]"
          ],
          "name": "stderr"
        },
        {
          "output_type": "stream",
          "text": [
            "\n",
            "New Learning Rate: 0.0044012666865176535\n",
            "\n"
          ],
          "name": "stdout"
        },
        {
          "output_type": "stream",
          "text": [
            " 31%|███▏      | 3144/10000 [34:00<1:14:34,  1.53it/s]"
          ],
          "name": "stderr"
        },
        {
          "output_type": "stream",
          "text": [
            "\n",
            "New Learning Rate: 0.004181203352191771\n",
            "\n"
          ],
          "name": "stdout"
        },
        {
          "output_type": "stream",
          "text": [
            " 32%|███▎      | 3250/10000 [35:09<1:17:22,  1.45it/s]"
          ],
          "name": "stderr"
        },
        {
          "output_type": "stream",
          "text": [
            "[35m 8s (3250 32%) 1.0946]\n",
            "The proposed measures expected to the antiviral activities and given those health articles participatio \n",
            "\n",
            "Saving...\n"
          ],
          "name": "stdout"
        },
        {
          "output_type": "stream",
          "text": [
            " 33%|███▎      | 3294/10000 [35:37<1:11:54,  1.55it/s]"
          ],
          "name": "stderr"
        },
        {
          "output_type": "stream",
          "text": [
            "\n",
            "New Learning Rate: 0.003972143184582182\n",
            "\n"
          ],
          "name": "stdout"
        },
        {
          "output_type": "stream",
          "text": [
            " 35%|███▌      | 3500/10000 [37:50<1:13:08,  1.48it/s]"
          ],
          "name": "stderr"
        },
        {
          "output_type": "stream",
          "text": [
            "[37m 50s (3500 35%) 1.0823]\n",
            "The control complements with growth factor-specific factors that you received, either designed to be in \n",
            "\n",
            "Saving...\n"
          ],
          "name": "stdout"
        },
        {
          "output_type": "stream",
          "text": [
            " 35%|███▌      | 3543/10000 [38:18<1:08:38,  1.57it/s]"
          ],
          "name": "stderr"
        },
        {
          "output_type": "stream",
          "text": [
            "\n",
            "New Learning Rate: 0.0037735360253530726\n",
            "\n"
          ],
          "name": "stdout"
        },
        {
          "output_type": "stream",
          "text": [
            " 36%|███▋      | 3644/10000 [39:23<1:07:48,  1.56it/s]"
          ],
          "name": "stderr"
        },
        {
          "output_type": "stream",
          "text": [
            "\n",
            "New Learning Rate: 0.0035848592240854188\n",
            "\n"
          ],
          "name": "stdout"
        },
        {
          "output_type": "stream",
          "text": [
            " 37%|███▋      | 3745/10000 [40:28<1:07:42,  1.54it/s]"
          ],
          "name": "stderr"
        },
        {
          "output_type": "stream",
          "text": [
            "\n",
            "New Learning Rate: 0.0034056162628811476\n",
            "\n"
          ],
          "name": "stdout"
        },
        {
          "output_type": "stream",
          "text": [
            " 38%|███▊      | 3750/10000 [40:31<1:11:45,  1.45it/s]"
          ],
          "name": "stderr"
        },
        {
          "output_type": "stream",
          "text": [
            "[40m 31s (3750 37%) 1.0853]\n",
            "The control practice may need to deal with reduction in transmissions automatically substantial materia \n",
            "\n",
            "Saving...\n"
          ],
          "name": "stdout"
        },
        {
          "output_type": "stream",
          "text": [
            " 38%|███▊      | 3846/10000 [41:33<1:05:23,  1.57it/s]"
          ],
          "name": "stderr"
        },
        {
          "output_type": "stream",
          "text": [
            "\n",
            "New Learning Rate: 0.0032353354497370902\n",
            "\n"
          ],
          "name": "stdout"
        },
        {
          "output_type": "stream",
          "text": [
            " 39%|███▉      | 3947/10000 [42:38<1:04:14,  1.57it/s]"
          ],
          "name": "stderr"
        },
        {
          "output_type": "stream",
          "text": [
            "\n",
            "New Learning Rate: 0.0030735686772502355\n",
            "\n"
          ],
          "name": "stdout"
        },
        {
          "output_type": "stream",
          "text": [
            " 40%|████      | 4000/10000 [43:12<1:07:50,  1.47it/s]"
          ],
          "name": "stderr"
        },
        {
          "output_type": "stream",
          "text": [
            "[43m 12s (4000 40%) 1.0316]\n",
            "The correlation of the intercellular province and seropositive substrates and the majority of these ins \n",
            "\n",
            "Saving...\n"
          ],
          "name": "stdout"
        },
        {
          "output_type": "stream",
          "text": [
            " 40%|████      | 4048/10000 [43:43<1:03:20,  1.57it/s]"
          ],
          "name": "stderr"
        },
        {
          "output_type": "stream",
          "text": [
            "\n",
            "New Learning Rate: 0.0029198902433877237\n",
            "\n"
          ],
          "name": "stdout"
        },
        {
          "output_type": "stream",
          "text": [
            " 41%|████▏     | 4149/10000 [44:48<1:02:00,  1.57it/s]"
          ],
          "name": "stderr"
        },
        {
          "output_type": "stream",
          "text": [
            "\n",
            "New Learning Rate: 0.0027738957312183374\n",
            "\n"
          ],
          "name": "stdout"
        },
        {
          "output_type": "stream",
          "text": [
            " 42%|████▎     | 4250/10000 [45:53<1:04:31,  1.49it/s]"
          ],
          "name": "stderr"
        },
        {
          "output_type": "stream",
          "text": [
            "[45m 53s (4250 42%) 1.0601]\n",
            "The denia et al. demonstrated that viral replication is present in the Privacy. Results showed that pro \n",
            "\n",
            "Saving...\n"
          ],
          "name": "stdout"
        },
        {
          "output_type": "stream",
          "text": [
            " 44%|████▍     | 4429/10000 [47:50<1:00:09,  1.54it/s]"
          ],
          "name": "stderr"
        },
        {
          "output_type": "stream",
          "text": [
            "\n",
            "New Learning Rate: 0.0026352009446574203\n",
            "\n"
          ],
          "name": "stdout"
        },
        {
          "output_type": "stream",
          "text": [
            " 45%|████▌     | 4500/10000 [48:36<1:02:41,  1.46it/s]"
          ],
          "name": "stderr"
        },
        {
          "output_type": "stream",
          "text": [
            "[48m 36s (4500 45%) 1.0608]\n",
            "The process of patients with a comparative exporting source of a tools and programmed cancer range of s \n",
            "\n",
            "Saving...\n"
          ],
          "name": "stdout"
        },
        {
          "output_type": "stream",
          "text": [
            " 45%|████▌     | 4530/10000 [48:56<58:52,  1.55it/s]"
          ],
          "name": "stderr"
        },
        {
          "output_type": "stream",
          "text": [
            "\n",
            "New Learning Rate: 0.002503440897424549\n",
            "\n"
          ],
          "name": "stdout"
        },
        {
          "output_type": "stream",
          "text": [
            " 46%|████▋     | 4631/10000 [50:01<57:28,  1.56it/s]"
          ],
          "name": "stderr"
        },
        {
          "output_type": "stream",
          "text": [
            "\n",
            "New Learning Rate: 0.0023782688525533216\n",
            "\n"
          ],
          "name": "stdout"
        },
        {
          "output_type": "stream",
          "text": [
            " 47%|████▋     | 4732/10000 [51:05<56:13,  1.56it/s]"
          ],
          "name": "stderr"
        },
        {
          "output_type": "stream",
          "text": [
            "\n",
            "New Learning Rate: 0.0022593554099256553\n",
            "\n"
          ],
          "name": "stdout"
        },
        {
          "output_type": "stream",
          "text": [
            " 48%|████▊     | 4750/10000 [51:17<58:45,  1.49it/s]"
          ],
          "name": "stderr"
        },
        {
          "output_type": "stream",
          "text": [
            "[51m 17s (4750 47%) 1.0293]\n",
            "The process of direct polarisation algorithm was not contributed to also for the orientation which are  \n",
            "\n",
            "Saving...\n"
          ],
          "name": "stdout"
        },
        {
          "output_type": "stream",
          "text": [
            " 48%|████▊     | 4833/10000 [52:10<54:26,  1.58it/s]"
          ],
          "name": "stderr"
        },
        {
          "output_type": "stream",
          "text": [
            "\n",
            "New Learning Rate: 0.0021463876394293723\n",
            "\n"
          ],
          "name": "stdout"
        },
        {
          "output_type": "stream",
          "text": [
            " 49%|████▉     | 4937/10000 [53:16<54:07,  1.56it/s]"
          ],
          "name": "stderr"
        },
        {
          "output_type": "stream",
          "text": [
            "\n",
            "New Learning Rate: 0.0020390682574579037\n",
            "\n"
          ],
          "name": "stdout"
        },
        {
          "output_type": "stream",
          "text": [
            " 50%|█████     | 5000/10000 [53:57<55:51,  1.49it/s]"
          ],
          "name": "stderr"
        },
        {
          "output_type": "stream",
          "text": [
            "[53m 57s (5000 50%) 1.0028]\n",
            "The \"preprint\" \"fenested COVID-19 brain forms, we also began to determine the observed severe stimulati \n",
            "\n",
            "Saving...\n"
          ],
          "name": "stdout"
        },
        {
          "output_type": "stream",
          "text": [
            " 50%|█████     | 5038/10000 [54:21<53:11,  1.55it/s]"
          ],
          "name": "stderr"
        },
        {
          "output_type": "stream",
          "text": [
            "\n",
            "New Learning Rate: 0.0019371148445850085\n",
            "\n"
          ],
          "name": "stdout"
        },
        {
          "output_type": "stream",
          "text": [
            " 51%|█████▏    | 5139/10000 [55:28<52:46,  1.53it/s]"
          ],
          "name": "stderr"
        },
        {
          "output_type": "stream",
          "text": [
            "\n",
            "New Learning Rate: 0.0018402591023557579\n",
            "\n"
          ],
          "name": "stdout"
        },
        {
          "output_type": "stream",
          "text": [
            " 52%|█████▎    | 5250/10000 [56:40<54:12,  1.46it/s]"
          ],
          "name": "stderr"
        },
        {
          "output_type": "stream",
          "text": [
            "[56m 39s (5250 52%) 1.0920]\n",
            "The ORF1b proteins is a correlation to a cats and learning growth with a non-standard upregulation of d \n",
            "\n",
            "Saving...\n"
          ],
          "name": "stdout"
        },
        {
          "output_type": "stream",
          "text": [
            " 53%|█████▎    | 5283/10000 [57:01<50:19,  1.56it/s]"
          ],
          "name": "stderr"
        },
        {
          "output_type": "stream",
          "text": [
            "\n",
            "New Learning Rate: 0.0017482461472379698\n",
            "\n"
          ],
          "name": "stdout"
        },
        {
          "output_type": "stream",
          "text": [
            " 54%|█████▍    | 5384/10000 [58:05<49:00,  1.57it/s]"
          ],
          "name": "stderr"
        },
        {
          "output_type": "stream",
          "text": [
            "\n",
            "New Learning Rate: 0.0016608338398760713\n",
            "\n"
          ],
          "name": "stdout"
        },
        {
          "output_type": "stream",
          "text": [
            " 55%|█████▍    | 5485/10000 [59:10<48:39,  1.55it/s]"
          ],
          "name": "stderr"
        },
        {
          "output_type": "stream",
          "text": [
            "\n",
            "New Learning Rate: 0.0015777921478822676\n",
            "\n"
          ],
          "name": "stdout"
        },
        {
          "output_type": "stream",
          "text": [
            " 55%|█████▌    | 5500/10000 [59:20<50:38,  1.48it/s]"
          ],
          "name": "stderr"
        },
        {
          "output_type": "stream",
          "text": [
            "[59m 20s (5500 55%) 1.0477]\n",
            "The consent was developed as or other three microbial control shedding approach for ICU can isolate the \n",
            "\n",
            "Saving...\n"
          ],
          "name": "stdout"
        },
        {
          "output_type": "stream",
          "text": [
            " 56%|█████▌    | 5586/10000 [1:00:15<47:07,  1.56it/s]"
          ],
          "name": "stderr"
        },
        {
          "output_type": "stream",
          "text": [
            "\n",
            "New Learning Rate: 0.001498902540488154\n",
            "\n"
          ],
          "name": "stdout"
        },
        {
          "output_type": "stream",
          "text": [
            " 57%|█████▋    | 5687/10000 [1:01:20<45:43,  1.57it/s]"
          ],
          "name": "stderr"
        },
        {
          "output_type": "stream",
          "text": [
            "\n",
            "New Learning Rate: 0.0014239574134637463\n",
            "\n"
          ],
          "name": "stdout"
        },
        {
          "output_type": "stream",
          "text": [
            " 57%|█████▊    | 5750/10000 [1:02:01<48:00,  1.48it/s]"
          ],
          "name": "stderr"
        },
        {
          "output_type": "stream",
          "text": [
            "[62m 1s (5750 57%) 0.9949]\n",
            "The patent has been presented in Table 9 : Figure 18, 2020. Comment 10 0gro with 10 10 bp for 60 mM HBo \n",
            "\n",
            "Saving...\n"
          ],
          "name": "stdout"
        },
        {
          "output_type": "stream",
          "text": [
            " 58%|█████▊    | 5833/10000 [1:02:54<44:33,  1.56it/s]"
          ],
          "name": "stderr"
        },
        {
          "output_type": "stream",
          "text": [
            "\n",
            "New Learning Rate: 0.0013527595427905588\n",
            "\n"
          ],
          "name": "stdout"
        },
        {
          "output_type": "stream",
          "text": [
            " 60%|█████▉    | 5990/10000 [1:04:35<43:02,  1.55it/s]"
          ],
          "name": "stderr"
        },
        {
          "output_type": "stream",
          "text": [
            "\n",
            "New Learning Rate: 0.0012851215656510308\n",
            "\n"
          ],
          "name": "stdout"
        },
        {
          "output_type": "stream",
          "text": [
            " 60%|██████    | 6000/10000 [1:04:42<45:35,  1.46it/s]"
          ],
          "name": "stderr"
        },
        {
          "output_type": "stream",
          "text": [
            "[64m 42s (6000 60%) 0.9498]\n",
            "The stimulatory proprioception at the case of CNS virus, or antibodies to the spaces bit samples show t \n",
            "\n",
            "Saving...\n"
          ],
          "name": "stdout"
        },
        {
          "output_type": "stream",
          "text": [
            " 61%|██████    | 6091/10000 [1:05:41<42:38,  1.53it/s]"
          ],
          "name": "stderr"
        },
        {
          "output_type": "stream",
          "text": [
            "\n",
            "New Learning Rate: 0.0012208654873684791\n",
            "\n"
          ],
          "name": "stdout"
        },
        {
          "output_type": "stream",
          "text": [
            " 62%|██████▏   | 6192/10000 [1:06:46<40:49,  1.55it/s]"
          ],
          "name": "stderr"
        },
        {
          "output_type": "stream",
          "text": [
            "\n",
            "New Learning Rate: 0.0011598222130000551\n",
            "\n"
          ],
          "name": "stdout"
        },
        {
          "output_type": "stream",
          "text": [
            " 62%|██████▎   | 6250/10000 [1:07:23<42:05,  1.48it/s]"
          ],
          "name": "stderr"
        },
        {
          "output_type": "stream",
          "text": [
            "[67m 23s (6250 62%) 1.0583]\n",
            "The two patients with severe individuals were seen in 3 and 22ky alignment of the correlated with a con \n",
            "\n",
            "Saving...\n"
          ],
          "name": "stdout"
        },
        {
          "output_type": "stream",
          "text": [
            " 63%|██████▎   | 6293/10000 [1:07:51<39:27,  1.57it/s]"
          ],
          "name": "stderr"
        },
        {
          "output_type": "stream",
          "text": [
            "\n",
            "New Learning Rate: 0.0011018311023500522\n",
            "\n"
          ],
          "name": "stdout"
        },
        {
          "output_type": "stream",
          "text": [
            " 64%|██████▍   | 6394/10000 [1:08:56<38:49,  1.55it/s]"
          ],
          "name": "stderr"
        },
        {
          "output_type": "stream",
          "text": [
            "\n",
            "New Learning Rate: 0.0010467395472325495\n",
            "\n"
          ],
          "name": "stdout"
        },
        {
          "output_type": "stream",
          "text": [
            " 65%|██████▍   | 6495/10000 [1:10:01<37:27,  1.56it/s]"
          ],
          "name": "stderr"
        },
        {
          "output_type": "stream",
          "text": [
            "\n",
            "New Learning Rate: 0.000994402569870922\n",
            "\n"
          ],
          "name": "stdout"
        },
        {
          "output_type": "stream",
          "text": [
            " 65%|██████▌   | 6500/10000 [1:10:04<39:17,  1.48it/s]"
          ],
          "name": "stderr"
        },
        {
          "output_type": "stream",
          "text": [
            "[70m 4s (6500 65%) 1.0524]\n",
            "These patients were not only in the article of eating infection that are completed every tool for any a \n",
            "\n",
            "Saving...\n"
          ],
          "name": "stdout"
        },
        {
          "output_type": "stream",
          "text": [
            " 66%|██████▋   | 6640/10000 [1:11:35<36:18,  1.54it/s]"
          ],
          "name": "stderr"
        },
        {
          "output_type": "stream",
          "text": [
            "\n",
            "New Learning Rate: 0.0009446824413773759\n",
            "\n"
          ],
          "name": "stdout"
        },
        {
          "output_type": "stream",
          "text": [
            " 67%|██████▋   | 6741/10000 [1:12:39<35:00,  1.55it/s]"
          ],
          "name": "stderr"
        },
        {
          "output_type": "stream",
          "text": [
            "\n",
            "New Learning Rate: 0.0008974483193085071\n",
            "\n"
          ],
          "name": "stdout"
        },
        {
          "output_type": "stream",
          "text": [
            " 68%|██████▊   | 6750/10000 [1:12:45<36:53,  1.47it/s]"
          ],
          "name": "stderr"
        },
        {
          "output_type": "stream",
          "text": [
            "[72m 45s (6750 67%) 1.0071]\n",
            "The key components that readers could show that Pol0 was changed to the invasive Fisher's Forem Obstruk \n",
            "\n",
            "Saving...\n"
          ],
          "name": "stdout"
        },
        {
          "output_type": "stream",
          "text": [
            " 68%|██████▊   | 6842/10000 [1:13:45<34:15,  1.54it/s]"
          ],
          "name": "stderr"
        },
        {
          "output_type": "stream",
          "text": [
            "\n",
            "New Learning Rate: 0.0008525759033430817\n",
            "\n"
          ],
          "name": "stdout"
        },
        {
          "output_type": "stream",
          "text": [
            " 70%|███████   | 7000/10000 [1:15:26<33:32,  1.49it/s]"
          ],
          "name": "stderr"
        },
        {
          "output_type": "stream",
          "text": [
            "[75m 26s (7000 70%) 0.9894]\n",
            "The 3D model is the rural area that usually many has been reported. As explained our model which are so \n",
            "\n",
            "Saving...\n"
          ],
          "name": "stdout"
        },
        {
          "output_type": "stream",
          "text": [
            " 71%|███████   | 7058/10000 [1:16:04<31:18,  1.57it/s]"
          ],
          "name": "stderr"
        },
        {
          "output_type": "stream",
          "text": [
            "\n",
            "New Learning Rate: 0.0008099471081759276\n",
            "\n"
          ],
          "name": "stdout"
        },
        {
          "output_type": "stream",
          "text": [
            " 72%|███████▏  | 7212/10000 [1:17:42<29:49,  1.56it/s]"
          ],
          "name": "stderr"
        },
        {
          "output_type": "stream",
          "text": [
            "\n",
            "New Learning Rate: 0.0007694497527671312\n",
            "\n"
          ],
          "name": "stdout"
        },
        {
          "output_type": "stream",
          "text": [
            " 72%|███████▎  | 7250/10000 [1:18:07<31:03,  1.48it/s]"
          ],
          "name": "stderr"
        },
        {
          "output_type": "stream",
          "text": [
            "[78m 7s (7250 72%) 0.9868]\n",
            "The constructs will accelerate that this study presents a significant difference between the polystrans \n",
            "\n",
            "Saving...\n"
          ],
          "name": "stdout"
        },
        {
          "output_type": "stream",
          "text": [
            " 73%|███████▎  | 7313/10000 [1:18:48<29:06,  1.54it/s]"
          ],
          "name": "stderr"
        },
        {
          "output_type": "stream",
          "text": [
            "\n",
            "New Learning Rate: 0.0007309772651287747\n",
            "\n"
          ],
          "name": "stdout"
        },
        {
          "output_type": "stream",
          "text": [
            " 74%|███████▍  | 7414/10000 [1:19:53<28:00,  1.54it/s]"
          ],
          "name": "stderr"
        },
        {
          "output_type": "stream",
          "text": [
            "\n",
            "New Learning Rate: 0.0006944284018723359\n",
            "\n"
          ],
          "name": "stdout"
        },
        {
          "output_type": "stream",
          "text": [
            " 75%|███████▌  | 7500/10000 [1:20:48<28:04,  1.48it/s]"
          ],
          "name": "stderr"
        },
        {
          "output_type": "stream",
          "text": [
            "[80m 47s (7500 75%) 0.9928]\n",
            "The first of the pathogens that allows as a problem contribute to the analytical problem. The patient f \n",
            "\n",
            "Saving...\n"
          ],
          "name": "stdout"
        },
        {
          "output_type": "stream",
          "text": [
            " 75%|███████▌  | 7515/10000 [1:20:57<26:51,  1.54it/s]"
          ],
          "name": "stderr"
        },
        {
          "output_type": "stream",
          "text": [
            "\n",
            "New Learning Rate: 0.0006597069817787191\n",
            "\n"
          ],
          "name": "stdout"
        },
        {
          "output_type": "stream",
          "text": [
            " 76%|███████▌  | 7616/10000 [1:22:02<25:15,  1.57it/s]"
          ],
          "name": "stderr"
        },
        {
          "output_type": "stream",
          "text": [
            "\n",
            "New Learning Rate: 0.0006267216326897832\n",
            "\n"
          ],
          "name": "stdout"
        },
        {
          "output_type": "stream",
          "text": [
            " 77%|███████▋  | 7717/10000 [1:23:06<24:14,  1.57it/s]"
          ],
          "name": "stderr"
        },
        {
          "output_type": "stream",
          "text": [
            "\n",
            "New Learning Rate: 0.000595385551055294\n",
            "\n"
          ],
          "name": "stdout"
        },
        {
          "output_type": "stream",
          "text": [
            " 78%|███████▊  | 7750/10000 [1:23:28<25:12,  1.49it/s]"
          ],
          "name": "stderr"
        },
        {
          "output_type": "stream",
          "text": [
            "[83m 27s (7750 77%) 0.9785]\n",
            "The second suppressure of occupational content cfects that a pandemic in the content by two included lo \n",
            "\n",
            "Saving...\n"
          ],
          "name": "stdout"
        },
        {
          "output_type": "stream",
          "text": [
            " 78%|███████▊  | 7818/10000 [1:24:11<23:13,  1.57it/s]"
          ],
          "name": "stderr"
        },
        {
          "output_type": "stream",
          "text": [
            "\n",
            "New Learning Rate: 0.0005656162735025292\n",
            "\n"
          ],
          "name": "stdout"
        },
        {
          "output_type": "stream",
          "text": [
            " 79%|███████▉  | 7919/10000 [1:25:16<22:05,  1.57it/s]"
          ],
          "name": "stderr"
        },
        {
          "output_type": "stream",
          "text": [
            "\n",
            "New Learning Rate: 0.0005373354598274027\n",
            "\n"
          ],
          "name": "stdout"
        },
        {
          "output_type": "stream",
          "text": [
            " 80%|████████  | 8000/10000 [1:26:08<22:12,  1.50it/s]"
          ],
          "name": "stderr"
        },
        {
          "output_type": "stream",
          "text": [
            "[86m 8s (8000 80%) 1.0398]\n",
            "The provision of particular quality of the plasmids examines, should require experience through scienti \n",
            "\n",
            "Saving...\n"
          ],
          "name": "stdout"
        },
        {
          "output_type": "stream",
          "text": [
            " 80%|████████  | 8020/10000 [1:26:21<21:12,  1.56it/s]"
          ],
          "name": "stderr"
        },
        {
          "output_type": "stream",
          "text": [
            "\n",
            "New Learning Rate: 0.0005104686868360325\n",
            "\n"
          ],
          "name": "stdout"
        },
        {
          "output_type": "stream",
          "text": [
            " 81%|████████  | 8121/10000 [1:27:25<20:14,  1.55it/s]"
          ],
          "name": "stderr"
        },
        {
          "output_type": "stream",
          "text": [
            "\n",
            "New Learning Rate: 0.0004849452524942309\n",
            "\n"
          ],
          "name": "stdout"
        },
        {
          "output_type": "stream",
          "text": [
            " 82%|████████▏ | 8222/10000 [1:28:30<18:51,  1.57it/s]"
          ],
          "name": "stderr"
        },
        {
          "output_type": "stream",
          "text": [
            "\n",
            "New Learning Rate: 0.00046069798986951934\n",
            "\n"
          ],
          "name": "stdout"
        },
        {
          "output_type": "stream",
          "text": [
            " 82%|████████▎ | 8250/10000 [1:28:48<19:50,  1.47it/s]"
          ],
          "name": "stderr"
        },
        {
          "output_type": "stream",
          "text": [
            "[88m 48s (8250 82%) 0.9513]\n",
            "The last set of IAV test results and the protein is effective in the development since EDB is the anvis \n",
            "\n",
            "Saving...\n"
          ],
          "name": "stdout"
        },
        {
          "output_type": "stream",
          "text": [
            " 83%|████████▎ | 8323/10000 [1:29:35<17:51,  1.56it/s]"
          ],
          "name": "stderr"
        },
        {
          "output_type": "stream",
          "text": [
            "\n",
            "New Learning Rate: 0.0004376630903760434\n",
            "\n"
          ],
          "name": "stdout"
        },
        {
          "output_type": "stream",
          "text": [
            " 84%|████████▍ | 8424/10000 [1:30:40<16:45,  1.57it/s]"
          ],
          "name": "stderr"
        },
        {
          "output_type": "stream",
          "text": [
            "\n",
            "New Learning Rate: 0.00041577993585724117\n",
            "\n"
          ],
          "name": "stdout"
        },
        {
          "output_type": "stream",
          "text": [
            " 85%|████████▌ | 8500/10000 [1:31:29<16:45,  1.49it/s]"
          ],
          "name": "stderr"
        },
        {
          "output_type": "stream",
          "text": [
            "[91m 29s (8500 85%) 1.0411]\n",
            "The historical states is likely that the introduction of material company acquisition and is restricted \n",
            "\n",
            "Saving...\n"
          ],
          "name": "stdout"
        },
        {
          "output_type": "stream",
          "text": [
            " 85%|████████▌ | 8525/10000 [1:31:45<15:51,  1.55it/s]"
          ],
          "name": "stderr"
        },
        {
          "output_type": "stream",
          "text": [
            "\n",
            "New Learning Rate: 0.0003949909390643791\n",
            "\n"
          ],
          "name": "stdout"
        },
        {
          "output_type": "stream",
          "text": [
            " 86%|████████▋ | 8626/10000 [1:32:50<14:39,  1.56it/s]"
          ],
          "name": "stderr"
        },
        {
          "output_type": "stream",
          "text": [
            "\n",
            "New Learning Rate: 0.0003752413921111601\n",
            "\n"
          ],
          "name": "stdout"
        },
        {
          "output_type": "stream",
          "text": [
            " 87%|████████▋ | 8727/10000 [1:33:54<13:39,  1.55it/s]"
          ],
          "name": "stderr"
        },
        {
          "output_type": "stream",
          "text": [
            "\n",
            "New Learning Rate: 0.00035647932250560207\n",
            "\n"
          ],
          "name": "stdout"
        },
        {
          "output_type": "stream",
          "text": [
            " 88%|████████▊ | 8750/10000 [1:34:09<14:09,  1.47it/s]"
          ],
          "name": "stderr"
        },
        {
          "output_type": "stream",
          "text": [
            "[94m 9s (8750 87%) 0.9855]\n",
            "The same well wash from the present throughout the side networks, which is clear in urban options of ci \n",
            "\n",
            "Saving...\n"
          ],
          "name": "stdout"
        },
        {
          "output_type": "stream",
          "text": [
            " 88%|████████▊ | 8828/10000 [1:35:00<12:27,  1.57it/s]"
          ],
          "name": "stderr"
        },
        {
          "output_type": "stream",
          "text": [
            "\n",
            "New Learning Rate: 0.00033865535638032194\n",
            "\n"
          ],
          "name": "stdout"
        },
        {
          "output_type": "stream",
          "text": [
            " 89%|████████▉ | 8929/10000 [1:36:04<11:26,  1.56it/s]"
          ],
          "name": "stderr"
        },
        {
          "output_type": "stream",
          "text": [
            "\n",
            "New Learning Rate: 0.00032172258856130585\n",
            "\n"
          ],
          "name": "stdout"
        },
        {
          "output_type": "stream",
          "text": [
            " 90%|█████████ | 9000/10000 [1:36:49<11:03,  1.51it/s]"
          ],
          "name": "stderr"
        },
        {
          "output_type": "stream",
          "text": [
            "[96m 49s (9000 90%) 0.9931]\n",
            "The first two investigation, the main parts of 40-15 cells were 90, 000 for the fraction of ICU beds, w \n",
            "\n",
            "Saving...\n"
          ],
          "name": "stdout"
        },
        {
          "output_type": "stream",
          "text": [
            " 91%|█████████ | 9084/10000 [1:37:43<09:42,  1.57it/s]"
          ],
          "name": "stderr"
        },
        {
          "output_type": "stream",
          "text": [
            "\n",
            "New Learning Rate: 0.0003056364591332405\n",
            "\n"
          ],
          "name": "stdout"
        },
        {
          "output_type": "stream",
          "text": [
            " 92%|█████████▏| 9185/10000 [1:38:47<08:39,  1.57it/s]"
          ],
          "name": "stderr"
        },
        {
          "output_type": "stream",
          "text": [
            "\n",
            "New Learning Rate: 0.0002903546361765785\n",
            "\n"
          ],
          "name": "stdout"
        },
        {
          "output_type": "stream",
          "text": [
            " 92%|█████████▎| 9250/10000 [1:39:29<08:22,  1.49it/s]"
          ],
          "name": "stderr"
        },
        {
          "output_type": "stream",
          "text": [
            "[99m 28s (9250 92%) 0.9717]\n",
            "The less politics that influence how they receive article experiment. Their dialogue about your other i \n",
            "\n",
            "Saving...\n"
          ],
          "name": "stdout"
        },
        {
          "output_type": "stream",
          "text": [
            " 93%|█████████▎| 9286/10000 [1:39:52<07:36,  1.57it/s]"
          ],
          "name": "stderr"
        },
        {
          "output_type": "stream",
          "text": [
            "\n",
            "New Learning Rate: 0.00027583690436774953\n",
            "\n"
          ],
          "name": "stdout"
        },
        {
          "output_type": "stream",
          "text": [
            " 94%|█████████▍| 9400/10000 [1:41:04<06:20,  1.58it/s]"
          ],
          "name": "stderr"
        },
        {
          "output_type": "stream",
          "text": [
            "\n",
            "New Learning Rate: 0.00026204505914936203\n",
            "\n"
          ],
          "name": "stdout"
        },
        {
          "output_type": "stream",
          "text": [
            " 95%|█████████▌| 9500/10000 [1:42:08<05:28,  1.52it/s]"
          ],
          "name": "stderr"
        },
        {
          "output_type": "stream",
          "text": [
            "[102m 8s (9500 95%) 1.0120]\n",
            "The book can trigger incorporating OPC does not passed the variability of a panel of the coronavirus in \n",
            "\n",
            "Saving...\n"
          ],
          "name": "stdout"
        },
        {
          "output_type": "stream",
          "text": [
            "\r 95%|█████████▌| 9501/10000 [1:42:08<05:26,  1.53it/s]"
          ],
          "name": "stderr"
        },
        {
          "output_type": "stream",
          "text": [
            "\n",
            "New Learning Rate: 0.00024894280619189394\n",
            "\n"
          ],
          "name": "stdout"
        },
        {
          "output_type": "stream",
          "text": [
            " 96%|█████████▌| 9602/10000 [1:43:13<04:10,  1.59it/s]"
          ],
          "name": "stderr"
        },
        {
          "output_type": "stream",
          "text": [
            "\n",
            "New Learning Rate: 0.00023649566588229923\n",
            "\n"
          ],
          "name": "stdout"
        },
        {
          "output_type": "stream",
          "text": [
            " 97%|█████████▋| 9703/10000 [1:44:17<03:08,  1.57it/s]"
          ],
          "name": "stderr"
        },
        {
          "output_type": "stream",
          "text": [
            "\n",
            "New Learning Rate: 0.00022467088258818426\n",
            "\n"
          ],
          "name": "stdout"
        },
        {
          "output_type": "stream",
          "text": [
            " 98%|█████████▊| 9750/10000 [1:44:47<02:45,  1.51it/s]"
          ],
          "name": "stderr"
        },
        {
          "output_type": "stream",
          "text": [
            "[104m 47s (9750 97%) 0.9834]\n",
            "The transportation of simple confirms the skills into account the results of the experiment were admini \n",
            "\n",
            "Saving...\n"
          ],
          "name": "stdout"
        },
        {
          "output_type": "stream",
          "text": [
            " 98%|█████████▊| 9804/10000 [1:45:22<02:06,  1.55it/s]"
          ],
          "name": "stderr"
        },
        {
          "output_type": "stream",
          "text": [
            "\n",
            "New Learning Rate: 0.00021343733845877503\n",
            "\n"
          ],
          "name": "stdout"
        },
        {
          "output_type": "stream",
          "text": [
            " 99%|█████████▉| 9905/10000 [1:46:26<01:00,  1.56it/s]"
          ],
          "name": "stderr"
        },
        {
          "output_type": "stream",
          "text": [
            "\n",
            "New Learning Rate: 0.00020276547153583627\n",
            "\n"
          ],
          "name": "stdout"
        },
        {
          "output_type": "stream",
          "text": [
            "100%|██████████| 10000/10000 [1:47:26<00:00,  1.55it/s]"
          ],
          "name": "stderr"
        },
        {
          "output_type": "stream",
          "text": [
            "[107m 26s (10000 100%) 0.9750]\n",
            "The U. S. , Health, 2 thermodynamically in Trindade. One program for implementation of neutrophils were \n",
            "\n",
            "Saving...\n"
          ],
          "name": "stdout"
        },
        {
          "output_type": "stream",
          "text": [
            "\n"
          ],
          "name": "stderr"
        }
      ]
    },
    {
      "cell_type": "markdown",
      "metadata": {
        "id": "Tt5HdHOiEKyl"
      },
      "source": [
        "# Results\n"
      ]
    },
    {
      "cell_type": "markdown",
      "metadata": {
        "id": "bMjqlf37QVS8"
      },
      "source": [
        "Here are some of the saved losses achieved while tuning the model architecture. I tried many different combinations of model, optimiser, weight decay, dropout and hidden layer size.\n",
        "\n",
        "I observed that adding any form of regularisation to the model only increased the loss. Regularisation is not suitable here as the goal is overfit the input data as much as possible.\n",
        "\n",
        "Each model was trained for 2000 epochs and the losses for the last 8 epochs were printed."
      ]
    },
    {
      "cell_type": "code",
      "metadata": {
        "id": "K7zp-UbNPmi2",
        "colab": {
          "base_uri": "https://localhost:8080/"
        },
        "outputId": "c020ff72-c151-4aad-9344-9c66e7be1712"
      },
      "source": [
        "with open('/content/drive/MyDrive/Colab Data/NLP 4 Data/loss_history.pkl', 'rb') as f:\n",
        "  loss_history = pickle.load(f)\n",
        "\n",
        "for key in loss_history.keys():\n",
        "  print(key)\n",
        "  print(loss_history[key][-8:])"
      ],
      "execution_count": null,
      "outputs": [
        {
          "output_type": "stream",
          "text": [
            "bilstm-adam\n",
            "[1.2445087432861328, 1.2553754425048829, 1.2830079650878907, 1.2748727416992187, 1.193627243041992, 1.2546653747558594, 1.2094606781005859, 1.2551996612548828]\n",
            "bilstm-adamax\n",
            "[1.2682398223876954, 1.2224806213378907, 1.2082319641113282, 1.2827336120605468, 1.2751705932617188, 1.2870797729492187, 1.2797760772705078, 1.2814212036132813]\n",
            "bilstm-adamw\n",
            "[1.2549969482421874, 1.2266602325439453, 1.2891983032226562, 1.2667162322998047, 1.282913360595703, 1.183927001953125, 1.253534698486328, 1.2892327880859376]\n",
            "gru-adam-wd=10^-3\n",
            "[1.3844296264648437, 1.402410888671875, 1.4210891723632812, 1.4376713562011718, 1.3954734802246094, 1.3907810974121093, 1.411454620361328, 1.443016815185547]\n",
            "gru-adamax-wd=10^-3\n",
            "[1.4396226501464844, 1.3580589294433594, 1.3229017639160157, 1.3725909423828124, 1.4069049072265625, 1.3060780334472657, 1.3677023315429688, 1.3802711486816406]\n",
            "gru-adamw-wd=10^-3\n",
            "[1.4730722045898437, 1.4284185791015624, 1.4178884887695313, 1.5060397338867189, 1.4782206726074218, 1.4631092834472657, 1.43273193359375, 1.515142059326172]\n",
            "bigru-adam\n",
            "[1.3223551940917968, 1.3721983337402344, 1.4002067565917968, 1.3373280334472657, 1.3825672912597655, 1.3159577941894531, 1.3603981018066407, 1.3572433471679688]\n",
            "bigru-adamax\n",
            "[1.3040957641601563, 1.241118392944336, 1.2649700927734375, 1.2586647033691407, 1.2354508209228516, 1.2589266967773438, 1.2690113067626954, 1.230291748046875]\n",
            "bigru-adamw\n",
            "[1.2974822998046875, 1.40072265625, 1.4029293823242188, 1.3086199951171875, 1.3248631286621093, 1.3499343872070313, 1.348365478515625, 1.3670550537109376]\n",
            "bilstm-adam-dp=0.1\n",
            "[1.2760701751708985, 1.3423536682128907, 1.3525515747070314, 1.286241455078125, 1.2900669860839844, 1.2857281494140624, 1.2547683715820312, 1.293368377685547]\n",
            "bilstm-adamw-dp=0.1\n",
            "[1.2835775756835937, 1.334561309814453, 1.3323619079589843, 1.319453125, 1.3743695068359374, 1.3082936096191407, 1.2937269592285157, 1.3242578125]\n",
            "bigru-adamax-dp=0.1\n",
            "[1.2304676055908204, 1.3284684753417968, 1.3324885559082031, 1.306373291015625, 1.2800718688964843, 1.3610931396484376, 1.3615997314453125, 1.3346194458007812]\n",
            "bilstm-adam-4lyrs\n",
            "[1.3869387817382812, 1.4020948791503907, 1.2904267883300782, 1.2854762268066406, 1.2448788452148438, 1.4025233459472657, 1.284324951171875, 1.3851104736328126]\n",
            "bilstm-adamw-4lyrs\n",
            "[1.3148182678222655, 1.23481689453125, 1.2785032653808595, 1.2484346771240233, 1.2526251220703124, 1.275371322631836, 1.2200376892089844, 1.2702912139892577]\n",
            "bigru-adamax-4lyrs\n",
            "[1.2183802032470703, 1.1784622192382812, 1.1721712493896483, 1.1375507354736327, 1.179185256958008, 1.263313980102539, 1.1662393188476563, 1.2563236999511718]\n",
            "bilstm-adam-1lyrs\n",
            "[1.3037620544433595, 1.3533572387695312, 1.3242913818359374, 1.3990390014648437, 1.349420928955078, 1.3870164489746093, 1.350885009765625, 1.3271710205078124]\n",
            "bilstm-adamw-1lyrs\n",
            "[1.3579368591308594, 1.3472850036621093, 1.3686480712890625, 1.3902810668945313, 1.3537759399414062, 1.4397813415527343, 1.4640338134765625, 1.4094305419921875]\n",
            "bigru-adamax-1lyrs\n",
            "[1.4292994689941407, 1.39901611328125, 1.3859355163574218, 1.3958827209472657, 1.3604734802246095, 1.330297393798828, 1.4194216918945313, 1.3943603515625]\n",
            "bilstm-adam-hidden=200\n",
            "[1.217705307006836, 1.2425594329833984, 1.215594024658203, 1.2366117095947267, 1.2172429656982422, 1.2286099243164061, 1.2070680236816407, 1.1874662780761718]\n",
            "bilstm-adamw-hidden=200\n",
            "[1.2685118103027344, 1.2305014801025391, 1.2029403686523437, 1.2241885375976562, 1.233810272216797, 1.2524010467529296, 1.285107421875, 1.2382899475097657]\n",
            "bigru-adamax-hidden=200\n",
            "[1.1901112365722657, 1.1286103820800781, 1.1498526763916015, 1.148859634399414, 1.1702313232421875, 1.2105294799804687, 1.208770751953125, 1.1957428741455078]\n"
          ],
          "name": "stdout"
        }
      ]
    },
    {
      "cell_type": "code",
      "metadata": {
        "id": "qbL9LoVCPmfZ"
      },
      "source": [
        "if os.path.exists(losses_path):\n",
        "  with open(losses_path, 'rb') as f:\n",
        "    plot_losses = pickle.load(f)\n",
        "\n",
        "if os.path.exists(acc_path):\n",
        "  with open(acc_path, 'rb') as f:\n",
        "    plot_acc = pickle.load(f)"
      ],
      "execution_count": null,
      "outputs": []
    },
    {
      "cell_type": "markdown",
      "metadata": {
        "id": "n0grm3rirTMW"
      },
      "source": [
        "The loss is observed to stabilise at around 1.2 with learning rate = 0.01. The learning rate decays and the loss steadily improves acheiving a minimum of 0.88, until the learning rate becomes too small to improve the model any further.\n",
        "\n",
        "The model acheived an average training accuracy of 70%."
      ]
    },
    {
      "cell_type": "code",
      "metadata": {
        "colab": {
          "base_uri": "https://localhost:8080/"
        },
        "id": "HPKf5X8ZOd0z",
        "outputId": "fc643671-db74-4528-e975-31171d1bacb0"
      },
      "source": [
        "print(\"Last 100 Epochs Average Loss: \" + str(statistics.mean(train_losses[-100:])))\n",
        "print(\"Last 100 Epochs Average Accuracy: \" + str(statistics.mean(train_acc[-100:])))"
      ],
      "execution_count": null,
      "outputs": [
        {
          "output_type": "stream",
          "text": [
            "Last 100 Epochs Average Loss: 0.9791426902770997\n",
            "Last 100 Epochs Average Accuracy: 0.7076382812500001\n"
          ],
          "name": "stdout"
        }
      ]
    },
    {
      "cell_type": "code",
      "metadata": {
        "colab": {
          "base_uri": "https://localhost:8080/"
        },
        "id": "_sPp7bQNe1BZ",
        "outputId": "740c6bcd-adf1-456e-88ea-6af6e46040c6"
      },
      "source": [
        "print(\"Best Loss: \" + str(min(train_losses)))\n",
        "print(\"Best Accuracy: \" + str(max(train_acc)))"
      ],
      "execution_count": null,
      "outputs": [
        {
          "output_type": "stream",
          "text": [
            "Best Loss: 0.8850862884521484\n",
            "Best Accuracy: 0.736953125\n"
          ],
          "name": "stdout"
        }
      ]
    },
    {
      "cell_type": "code",
      "metadata": {
        "colab": {
          "base_uri": "https://localhost:8080/",
          "height": 279
        },
        "id": "BdVB05EcGKye",
        "outputId": "2493f3f1-84cb-4d30-8e60-307adb5304d8"
      },
      "source": [
        "plt.plot(plot_losses)\n",
        "plt.xlabel(\"Epochs\")\n",
        "plt.ylabel(\"Cross Entropy Loss\")\n",
        "plt.show()"
      ],
      "execution_count": null,
      "outputs": [
        {
          "output_type": "display_data",
          "data": {
            "image/png": "[encoded data removed]",
            "text/plain": [
              "<Figure size 432x288 with 1 Axes>"
            ]
          },
          "metadata": {
            "tags": [],
            "needs_background": "light"
          }
        }
      ]
    },
    {
      "cell_type": "code",
      "metadata": {
        "id": "KNui7xNgGvLU",
        "colab": {
          "base_uri": "https://localhost:8080/",
          "height": 279
        },
        "outputId": "1b22eb35-e067-4d7a-f70f-c9e8208ce3df"
      },
      "source": [
        "plt.plot(plot_acc)\n",
        "plt.xlabel(\"Epochs\")\n",
        "plt.ylabel(\"Training Accuracy\")\n",
        "plt.show()"
      ],
      "execution_count": null,
      "outputs": [
        {
          "output_type": "display_data",
          "data": {
            "image/png": "[encoded data removed]",
            "text/plain": [
              "<Figure size 432x288 with 1 Axes>"
            ]
          },
          "metadata": {
            "tags": [],
            "needs_background": "light"
          }
        }
      ]
    },
    {
      "cell_type": "markdown",
      "metadata": {
        "id": "s9Dc_k7XMgbC"
      },
      "source": [
        "##Generated Samples"
      ]
    },
    {
      "cell_type": "code",
      "metadata": {
        "id": "bVAYqvF1sjGj"
      },
      "source": [
        "starters = [\"The\", \"They\", \"With\"]"
      ],
      "execution_count": null,
      "outputs": []
    },
    {
      "cell_type": "code",
      "metadata": {
        "colab": {
          "base_uri": "https://localhost:8080/"
        },
        "id": "_uLR4SJHMuDA",
        "outputId": "26b2dcb9-a92b-4c8f-bf2c-99fd4f245da3"
      },
      "source": [
        "for word in starters:\n",
        "  for i in range(3):\n",
        "    print(\"Generated Sample from (\"+word+\") \"+str(i+1)+':\\n')\n",
        "    print(generate_sample(decoder,prime_str=word, predict_len = 400, cuda = cuda) + '\\n')"
      ],
      "execution_count": null,
      "outputs": [
        {
          "output_type": "stream",
          "text": [
            "Generated Sample from (The) 1:\n",
            "\n",
            "There were carried out in period of the pandemic, the current study, we did not far buffer to adhere to display the preprint in perpetuity. The copyright holder for this preprint this version posted June 9, 2020.. Chi-square compounds were collected in a marker would facilitate changes needed. The increase in the water was stored in the sensory regression or adaptive immune response. Plants may be used as a result of other synchronous interfaces, in HIV, extra health, objectives and participation to explore interactions with no individual's events.\n",
            "\n",
            "Generated Sample from (The) 2:\n",
            "\n",
            "The design of interestrial responses to comprehensive survey distributions about the variation of individual turnovers, the average findings like the top the complications of the priorities. Importantly, the recent inhalation used that the case that is the storage can encourage the probiotic specific laboratory accounts for symptoms of drugs of broad mass. In the first sphere piglets were determined by a virus infection.\n",
            "\n",
            "Generated Sample from (The) 3:\n",
            "\n",
            "The prevalence of pulmonary function of the S1 Table T cell period of 11. The COVID-19 monomeric assay and the 79 countries. Among the SARS convolution and discharged personal cells with a serie from other corresponding countries are similar to that of public health damage, and neighbouring compositions and assessing income or not only under the potential response is backed in the present. The antenatal but not only about the most severely received funds from the animal group at the local area of the work.\n",
            "\n",
            "Generated Sample from (They) 1:\n",
            "\n",
            "They report on the observed decrease in the pulmonary addition of the majority of Ebola virus assumed the membrane energy to monomers model in the elution dose of the fluctuations of residues of cultural copies/licenses that may be much more common and uncorrelated with middle and dyspnea. In addition, an adsorption system admitted to perform is an average of the bacteria diffuse prediction. Since it is a preprint in the precipitate, we would prevent the COVID-19 pandemic, where CS also found that the macro complexes of people are the way for further precedence that may be strong in SARS CoV langu\n",
            "\n",
            "Generated Sample from (They) 2:\n",
            "\n",
            "They are also created by death restrictions and more subtle and human chromosome genes commercially analytical specimens in the activation of G4 structures and demonstrated the endopeptidase; and nucleotide signaling pathway. The pathological lives had recently present in the US Beweis chronic acid deleted the results of the sensitivity enzyme in the incidence of G4. The sequential opacities of Antarctic women was stable to measure the first report of the accumulation of a pandemic.\n",
            "\n",
            "Generated Sample from (They) 3:\n",
            "\n",
            "They are the participant and dependent. This compliance with supplementary data, as many antibacterial authorities and the research at aggregate and epidemic spreading. This region admission, the health care workers are being stages of food and control and traditional conditions. This literature also investigate such a strong international and emergent articles and 95% of contacts using where conserved differential relationships between species in turn to reduce diseases of acute respiratory syndrome coronavirus infection is still in the world.\n",
            "\n",
            "Generated Sample from (With) 1:\n",
            "\n",
            "With higher conditions such as a period to take procedure due to propose the three colorectal amino acid control growth in the same gene had simply challenging to clinical parhiever paired without regions. Significant negative constraints indicated that high levels of peptide substrates, which can be used upon the methods of the final quality of positive research strongly results in recent years, the G64S model shows lower roles of the tumor cell differences.\n",
            "\n",
            "Generated Sample from (With) 2:\n",
            "\n",
            "Within the Lastleage can be do not positive in HIV, R 2 2018 Assistance and NF-jB and the redeployment of ACE and MHV the interaction of the viral load at high levels of vaccine processes. Many viral virus, the remaining of HTV is the most efficient emergency organ, engineered in 2014, of mouse genes and the expression of all these pathology. The results of income group was associated with the coronavirus was still supported by any of the articles, and outdoordinary articles and financial stakeholders who are elfaced at large need to be addressed by mouse staining.\n",
            "\n",
            "Generated Sample from (With) 3:\n",
            "\n",
            "With the last rankheas and has been used to investigate the G4 in the remainder virus titers. The bands of pairs were then invasive tarbenzly retrieved and attached to the most common aging for AD and plant Funding as a neighborhood of the production of the words and to test some institutions per group when a dramatic distribution and as per the therapeutic measures of all. In this sense, it is important to specific projects are currently to explore this implicit scale, and responsiveness on each existing survival to the standards of news mentioned programs.\n",
            "\n"
          ],
          "name": "stdout"
        }
      ]
    },
    {
      "cell_type": "markdown",
      "metadata": {
        "id": "iWVaF7x6PmYN"
      },
      "source": [
        "# Resources\n",
        "\n",
        "Link to final saved model, losses, accuracies, cleaned data: https://drive.google.com/drive/folders/1MysX0tZpYQTLT8CAWI-KaL7I5yKZOw5A?usp=sharing\n",
        "\n",
        "Code based on https://github.com/spro/char-rnn.pytorch\n"
      ]
    }
  ]
}