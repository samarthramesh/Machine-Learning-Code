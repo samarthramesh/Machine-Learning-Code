{
  "nbformat": 4,
  "nbformat_minor": 0,
  "metadata": {
    "colab": {
      "name": "DL1 Part A.ipynb",
      "provenance": [],
      "collapsed_sections": []
    },
    "kernelspec": {
      "name": "python3",
      "display_name": "Python 3"
    },
    "accelerator": "GPU"
  },
  "cells": [
    {
      "cell_type": "code",
      "metadata": {
        "id": "S3phFs4_DIIi"
      },
      "source": [
        "import torch, os\n",
        "import torchvision\n",
        "import torchvision.transforms as transforms\n",
        "from tqdm import tqdm\n",
        "import numpy as np"
      ],
      "execution_count": null,
      "outputs": []
    },
    {
      "cell_type": "code",
      "metadata": {
        "id": "JjpA0l9hDj-z",
        "colab": {
          "base_uri": "https://localhost:8080/",
          "height": 92
        },
        "outputId": "2749805d-34e6-40df-a766-304c718b5ca8"
      },
      "source": [
        "########################################################################\n",
        "# The output of torchvision datasets are PILImage images of range [0, 1].\n",
        "\n",
        "# Apply necessary image transfromations here \n",
        "\n",
        "transform = transforms.Compose([#torchvision.transforms.RandomAffine(degrees=(-10, 10), translate=(0.1, 0.1), scale=(0.8, 1.2)),\n",
        "                                #torchvision.transforms.ColorJitter(hue=.05, saturation=.05),\n",
        "                                #torchvision.transforms.RandomHorizontalFlip(),\n",
        "                                transforms.ToTensor(),\n",
        "                                transforms.Normalize(mean=[0.5,0.5,0.5], std=[0.5, 0.5, 0.5])])\n",
        "print(transform)"
      ],
      "execution_count": null,
      "outputs": [
        {
          "output_type": "stream",
          "text": [
            "Compose(\n",
            "    ToTensor()\n",
            "    Normalize(mean=[0.5, 0.5, 0.5], std=[0.5, 0.5, 0.5])\n",
            ")\n"
          ],
          "name": "stdout"
        }
      ]
    },
    {
      "cell_type": "code",
      "metadata": {
        "id": "K_geFYJLDoi0"
      },
      "source": [
        "train_data_dir = '/content/drive/My Drive/Datasets/3/train' # put path of training dataset\n",
        "val_data_dir = '/content/drive/My Drive/Datasets/3/val' # put path of validation dataset\n",
        "test_data_dir = '/content/drive/My Drive/Datasets/3/test' # put path of test dataset\n",
        "\n",
        "trainset = torchvision.datasets.ImageFolder(root= train_data_dir, transform=transform)\n",
        "trainloader = torch.utils.data.DataLoader(trainset, batch_size=4,\n",
        "                                          shuffle=True, num_workers=4)\n",
        "\n",
        "valset = torchvision.datasets.ImageFolder(root= val_data_dir, transform=transform)\n",
        "valloader = torch.utils.data.DataLoader(valset, batch_size=4,\n",
        "                                         shuffle=False, num_workers=4)\n",
        "\n",
        "testset = torchvision.datasets.ImageFolder(root= test_data_dir, transform=transform)\n",
        "testloader = torch.utils.data.DataLoader(testset, batch_size=4,\n",
        "                                         shuffle=False, num_workers=4)"
      ],
      "execution_count": null,
      "outputs": []
    },
    {
      "cell_type": "code",
      "metadata": {
        "id": "pn1_DhybD6pk"
      },
      "source": [
        "########################################################################\n",
        "# Define a Convolution Neural Network\n",
        "# ^^^^^^^^^^^^^^^^^^^^^^^^^^^^^^^^^^^^^^\n",
        "# Copy the neural network from the Neural Networks section before and modify it to\n",
        "# take 3-channel images (instead of 1-channel images as it was defined).\n",
        "\n",
        "import torch.nn as nn\n",
        "import torch.nn.functional as F\n",
        "import torchvision.models as models"
      ],
      "execution_count": null,
      "outputs": []
    },
    {
      "cell_type": "markdown",
      "metadata": {
        "id": "q46EepzrPiZU"
      },
      "source": [
        "    def __init__(self):\n",
        "        super(Net, self).__init__()\n",
        "\n",
        "        self.conv1 = nn.Conv2d(in_channels=3, out_channels=64, kernel_size=5)\n",
        "        self.pool = nn.MaxPool2d(kernel_size=2, stride=2)\n",
        "        self.conv2 = nn.Conv2d(in_channels=64, out_channels=128, kernel_size=5)\n",
        "        self.conv3 = nn.Conv2d(in_channels=128, out_channels=256, kernel_size=5)\n",
        "        self.fc1 = nn.Linear(in_features=256, out_features=256)\n",
        "        self.fc2 = nn.Linear(in_features=256, out_features=128)\n",
        "        self.fc3 = nn.Linear(in_features=128, out_features=20)      # change out_features according to number of classes\n",
        "\n",
        "    def forward(self, x):\n",
        "        x = self.pool(F.relu(self.conv1(x)))\n",
        "        x = self.pool(F.relu(self.conv2(x)))\n",
        "        x = self.pool(F.relu(self.conv3(x)))\n",
        "        x = F.avg_pool2d(x, kernel_size=x.shape[2:])\n",
        "        x = x.view(x.shape[0], -1)\n",
        "        x = F.relu(self.fc1(x))\n",
        "        x = F.relu(self.fc2(x))\n",
        "        x = self.fc3(x)\n",
        "        return x\n"
      ]
    },
    {
      "cell_type": "code",
      "metadata": {
        "id": "E_Y2EX559YDW"
      },
      "source": [
        "num_epochs = 50         # desired number of training epochs.\n",
        "learning_rate = 0.001"
      ],
      "execution_count": null,
      "outputs": []
    },
    {
      "cell_type": "code",
      "metadata": {
        "id": "B3U4NJa5D_Q1"
      },
      "source": [
        "# <<<<<<<<<<<<<<<<<<<<< EDIT THE MODEL DEFINITION >>>>>>>>>>>>>>>>>>>>>>>>>>\n",
        "# Try experimenting by changing the following:\n",
        "# 1. number of feature maps in conv layer\n",
        "# 2. Number of conv layers\n",
        "# 3. Kernel size\n",
        "# etc etc.,\n",
        "   \n",
        "\n",
        "class Net(nn.Module):\n",
        "    def __init__(self):\n",
        "        super(Net, self).__init__()\n",
        "\n",
        "        self.conv1 = nn.Conv2d(in_channels=3, out_channels=128, kernel_size=7)\n",
        "        self.pool = nn.MaxPool2d(kernel_size=3, stride=2)\n",
        "        self.conv2 = nn.Conv2d(in_channels=128, out_channels=256, kernel_size=7)\n",
        "        self.conv3 = nn.Conv2d(in_channels=256, out_channels=512, kernel_size=7)\n",
        "        self.fc3 = nn.Linear(in_features=512, out_features=33)      # change out_features according to number of classes\n",
        "\n",
        "    def forward(self, x):\n",
        "        x = self.pool(F.relu(self.conv1(x)))\n",
        "        x = self.pool(F.relu(self.conv2(x)))\n",
        "        x = self.pool(F.relu(self.conv3(x)))\n",
        "        x = F.avg_pool2d(x, kernel_size=x.shape[2:])\n",
        "        x = x.view(x.shape[0], -1)\n",
        "        x = self.fc3(x)\n",
        "        return x\n"
      ],
      "execution_count": null,
      "outputs": []
    },
    {
      "cell_type": "code",
      "metadata": {
        "id": "zctr-jbSEBsZ"
      },
      "source": [
        "################### DO NOT EDIT THE BELOW CODE!!! #######################\n",
        "\n",
        "#net = ResNet()\n",
        "net = Net()\n",
        "\n",
        "# transfer the model to GPU\n",
        "if torch.cuda.is_available():\n",
        "    net = net.cuda()"
      ],
      "execution_count": null,
      "outputs": []
    },
    {
      "cell_type": "code",
      "metadata": {
        "id": "nepqEx9h9PDE"
      },
      "source": [
        "import torch.optim as optim"
      ],
      "execution_count": null,
      "outputs": []
    },
    {
      "cell_type": "code",
      "metadata": {
        "id": "KM6INFI-EG4p",
        "colab": {
          "base_uri": "https://localhost:8080/",
          "height": 36
        },
        "outputId": "56bf5df4-d18f-406f-d54d-031a4fd43961"
      },
      "source": [
        "########################################################################\n",
        "# Define a Loss function and optimizer\n",
        "# ^^^^^^^^^^^^^^^^^^^^^^^^^^^^^^^^^^^^^^^\n",
        "# Let's use a Classification Cross-Entropy loss and SGD with momentum.\n",
        "\n",
        "criterion = nn.CrossEntropyLoss()\n",
        "optimizer = optim.SGD(net.parameters(), lr=learning_rate, momentum=0.9, weight_decay=5e-4)\n",
        "\n",
        "num_params = np.sum([p.nelement() for p in net.parameters()])\n",
        "print(num_params, ' parameters')"
      ],
      "execution_count": null,
      "outputs": [
        {
          "output_type": "stream",
          "text": [
            "8064801  parameters\n"
          ],
          "name": "stdout"
        }
      ]
    },
    {
      "cell_type": "code",
      "metadata": {
        "id": "ljOSo51mEMNw"
      },
      "source": [
        "########################################################################\n",
        "# Train the network\n",
        "# ^^^^^^^^^^^^^^^^^^^^\n",
        "\n",
        "def train(epoch, trainloader, optimizer, criterion):\n",
        "    running_loss = 0.0\n",
        "    for i, data in enumerate(tqdm(trainloader), 0):\n",
        "        # get the inputs\n",
        "        inputs, labels = data\n",
        "        if torch.cuda.is_available():\n",
        "            inputs, labels = inputs.cuda(), labels.cuda()\n",
        "\n",
        "        # zero the parameter gradients\n",
        "        optimizer.zero_grad()\n",
        "\n",
        "        # forward + backward + optimize\n",
        "        outputs = net(inputs)\n",
        "        loss = criterion(outputs, labels)\n",
        "        loss.backward()\n",
        "        optimizer.step()\n",
        "\n",
        "        # print statistics\n",
        "        running_loss += loss.item()\n",
        "\n",
        "    print('epoch %d training loss: %.3f' %\n",
        "            (epoch + 1, running_loss / (len(trainloader))))"
      ],
      "execution_count": null,
      "outputs": []
    },
    {
      "cell_type": "code",
      "metadata": {
        "id": "9SwV6s76EQyR"
      },
      "source": [
        "########################################################################\n",
        "# Let us look at how the network performs on the test dataset.\n",
        "\n",
        "def test(testloader, model):\n",
        "    correct = 0\n",
        "    total = 0\n",
        "    with torch.no_grad():\n",
        "        for data in tqdm(testloader):\n",
        "            images, labels = data\n",
        "            if torch.cuda.is_available():\n",
        "                images, labels = images.cuda(), labels.cuda()        \n",
        "            outputs = net(images)\n",
        "            _, predicted = torch.max(outputs.data, 1)\n",
        "            total += labels.size(0)\n",
        "            correct += (predicted == labels).sum().item()\n",
        "\n",
        "    print('Accuracy of the network on the test images: %d %%' % (\n",
        "                                    100 * correct / total))"
      ],
      "execution_count": null,
      "outputs": []
    },
    {
      "cell_type": "code",
      "metadata": {
        "id": "DN8V-JVMES5K"
      },
      "source": [
        "#########################################################################\n",
        "# get details of classes and class to index mapping in a directory\n",
        "def find_classes(dir):\n",
        "    classes = [d for d in os.listdir(dir) if os.path.isdir(os.path.join(dir, d))]\n",
        "    classes.sort()\n",
        "    class_to_idx = {classes[i]: i for i in range(len(classes))}\n",
        "    return classes, class_to_idx"
      ],
      "execution_count": null,
      "outputs": []
    },
    {
      "cell_type": "code",
      "metadata": {
        "id": "cp3MD4usEpCE"
      },
      "source": [
        "########################################################################\n",
        "# class-wise accuracy\n",
        "def classwise_test(testloader, model):\n",
        "    classes, _ = find_classes(train_data_dir)\n",
        "    n_class = len(classes) # number of classes\n",
        "\n",
        "    class_correct = list(0. for i in range(n_class))\n",
        "    class_total = list(0. for i in range(n_class))\n",
        "    with torch.no_grad():\n",
        "        for data in tqdm(testloader):\n",
        "            images, labels = data\n",
        "            if torch.cuda.is_available():\n",
        "                images, labels = images.cuda(), labels.cuda()        \n",
        "            outputs = net(images)\n",
        "            _, predicted = torch.max(outputs, 1)\n",
        "            c = (predicted == labels).squeeze()\n",
        "            for i in range(4):\n",
        "                label = labels[i]\n",
        "                class_correct[label] += c[i].item()\n",
        "                class_total[label] += 1\n",
        "\n",
        "    for i in range(n_class):\n",
        "        print('Accuracy of %10s : %2d %%' % (\n",
        "            classes[i], 100 * class_correct[i] / class_total[i]))"
      ],
      "execution_count": null,
      "outputs": []
    },
    {
      "cell_type": "code",
      "metadata": {
        "id": "XdOXQV4-yNEn",
        "colab": {
          "base_uri": "https://localhost:8080/",
          "height": 1000
        },
        "outputId": "a743d17a-d1a2-4850-c2ae-3190d533eac0"
      },
      "source": [
        "print('Start Training')\n",
        "os.makedirs('./models', exist_ok=True)\n",
        "\n",
        "for epoch in range(num_epochs):  # loop over the dataset multiple times\n",
        "    print('epoch ', epoch + 1)\n",
        "    train(epoch, trainloader, optimizer, criterion)\n",
        "    test(valloader, net)\n",
        "    classwise_test(valloader, net)\n",
        "    # save model checkpoint \n",
        "    torch.save(net.state_dict(), './models/model-'+str(epoch)+'.pth')      \n",
        "\n",
        "print('performing test')\n",
        "test(testloader, net)\n",
        "classwise_test(testloader, net)\n",
        "\n",
        "print('Finished Training')"
      ],
      "execution_count": null,
      "outputs": [
        {
          "output_type": "stream",
          "text": [
            "\r  0%|          | 0/3300 [00:00<?, ?it/s]"
          ],
          "name": "stderr"
        },
        {
          "output_type": "stream",
          "text": [
            "Start Training\n",
            "epoch  1\n"
          ],
          "name": "stdout"
        },
        {
          "output_type": "stream",
          "text": [
            "100%|██████████| 3300/3300 [41:16<00:00,  1.33it/s]\n",
            "  0%|          | 0/825 [00:00<?, ?it/s]"
          ],
          "name": "stderr"
        },
        {
          "output_type": "stream",
          "text": [
            "epoch 1 training loss: 3.058\n"
          ],
          "name": "stdout"
        },
        {
          "output_type": "stream",
          "text": [
            "100%|██████████| 825/825 [10:29<00:00,  1.31it/s]\n",
            "  0%|          | 0/825 [00:00<?, ?it/s]"
          ],
          "name": "stderr"
        },
        {
          "output_type": "stream",
          "text": [
            "Accuracy of the network on the test images: 23 %\n"
          ],
          "name": "stdout"
        },
        {
          "output_type": "stream",
          "text": [
            "100%|██████████| 825/825 [00:06<00:00, 130.11it/s]\n",
            "  0%|          | 0/3300 [00:00<?, ?it/s]"
          ],
          "name": "stderr"
        },
        {
          "output_type": "stream",
          "text": [
            "Accuracy of arctic_fox : 14 %\n",
            "Accuracy of     barrel :  0 %\n",
            "Accuracy of     cannon : 18 %\n",
            "Accuracy of      chime : 13 %\n",
            "Accuracy of      cliff :  9 %\n",
            "Accuracy of       clog :  0 %\n",
            "Accuracy of      crate :  3 %\n",
            "Accuracy of    cuirass :  2 %\n",
            "Accuracy of     dugong : 78 %\n",
            "Accuracy of        ear : 50 %\n",
            "Accuracy of frying_pan :  0 %\n",
            "Accuracy of harvestman : 22 %\n",
            "Accuracy of    holster :  2 %\n",
            "Accuracy of horizontal_bar :  0 %\n",
            "Accuracy of     hotdog : 33 %\n",
            "Accuracy of       iPod :  1 %\n",
            "Accuracy of  jellyfish : 53 %\n",
            "Accuracy of  miniskirt :  9 %\n",
            "Accuracy of    missile : 14 %\n",
            "Accuracy of mixing_bowl :  2 %\n",
            "Accuracy of   nematode :  3 %\n",
            "Accuracy of newfoundland : 36 %\n",
            "Accuracy of       oboe :  0 %\n",
            "Accuracy of      robin :  6 %\n",
            "Accuracy of     saluki :  0 %\n",
            "Accuracy of school_bus : 66 %\n",
            "Accuracy of theater_curtain : 60 %\n",
            "Accuracy of three_toed_sloth : 46 %\n",
            "Accuracy of tibetan_mastiff : 61 %\n",
            "Accuracy of    upright : 62 %\n",
            "Accuracy of walker_hound : 70 %\n",
            "Accuracy of        wok :  6 %\n",
            "Accuracy of worm_fence : 34 %\n",
            "epoch  2\n"
          ],
          "name": "stdout"
        },
        {
          "output_type": "stream",
          "text": [
            "100%|██████████| 3300/3300 [00:56<00:00, 58.74it/s]\n",
            "  0%|          | 0/825 [00:00<?, ?it/s]"
          ],
          "name": "stderr"
        },
        {
          "output_type": "stream",
          "text": [
            "epoch 2 training loss: 2.671\n"
          ],
          "name": "stdout"
        },
        {
          "output_type": "stream",
          "text": [
            "100%|██████████| 825/825 [00:05<00:00, 138.79it/s]\n",
            "  0%|          | 0/825 [00:00<?, ?it/s]"
          ],
          "name": "stderr"
        },
        {
          "output_type": "stream",
          "text": [
            "Accuracy of the network on the test images: 27 %\n"
          ],
          "name": "stdout"
        },
        {
          "output_type": "stream",
          "text": [
            "100%|██████████| 825/825 [00:06<00:00, 129.39it/s]\n",
            "  0%|          | 0/3300 [00:00<?, ?it/s]"
          ],
          "name": "stderr"
        },
        {
          "output_type": "stream",
          "text": [
            "Accuracy of arctic_fox : 37 %\n",
            "Accuracy of     barrel :  0 %\n",
            "Accuracy of     cannon : 24 %\n",
            "Accuracy of      chime : 16 %\n",
            "Accuracy of      cliff : 24 %\n",
            "Accuracy of       clog :  0 %\n",
            "Accuracy of      crate : 30 %\n",
            "Accuracy of    cuirass : 17 %\n",
            "Accuracy of     dugong : 68 %\n",
            "Accuracy of        ear :  9 %\n",
            "Accuracy of frying_pan :  6 %\n",
            "Accuracy of harvestman : 10 %\n",
            "Accuracy of    holster :  0 %\n",
            "Accuracy of horizontal_bar : 23 %\n",
            "Accuracy of     hotdog : 51 %\n",
            "Accuracy of       iPod :  3 %\n",
            "Accuracy of  jellyfish : 52 %\n",
            "Accuracy of  miniskirt : 30 %\n",
            "Accuracy of    missile : 26 %\n",
            "Accuracy of mixing_bowl : 26 %\n",
            "Accuracy of   nematode :  6 %\n",
            "Accuracy of newfoundland :  6 %\n",
            "Accuracy of       oboe :  7 %\n",
            "Accuracy of      robin : 54 %\n",
            "Accuracy of     saluki : 21 %\n",
            "Accuracy of school_bus : 70 %\n",
            "Accuracy of theater_curtain : 64 %\n",
            "Accuracy of three_toed_sloth : 26 %\n",
            "Accuracy of tibetan_mastiff : 60 %\n",
            "Accuracy of    upright : 68 %\n",
            "Accuracy of walker_hound : 26 %\n",
            "Accuracy of        wok :  1 %\n",
            "Accuracy of worm_fence : 55 %\n",
            "epoch  3\n"
          ],
          "name": "stdout"
        },
        {
          "output_type": "stream",
          "text": [
            "100%|██████████| 3300/3300 [00:56<00:00, 58.61it/s]\n",
            "  0%|          | 0/825 [00:00<?, ?it/s]"
          ],
          "name": "stderr"
        },
        {
          "output_type": "stream",
          "text": [
            "epoch 3 training loss: 2.436\n"
          ],
          "name": "stdout"
        },
        {
          "output_type": "stream",
          "text": [
            "100%|██████████| 825/825 [00:05<00:00, 138.43it/s]\n",
            "  0%|          | 0/825 [00:00<?, ?it/s]"
          ],
          "name": "stderr"
        },
        {
          "output_type": "stream",
          "text": [
            "Accuracy of the network on the test images: 31 %\n"
          ],
          "name": "stdout"
        },
        {
          "output_type": "stream",
          "text": [
            "100%|██████████| 825/825 [00:06<00:00, 126.71it/s]\n",
            "  0%|          | 0/3300 [00:00<?, ?it/s]"
          ],
          "name": "stderr"
        },
        {
          "output_type": "stream",
          "text": [
            "Accuracy of arctic_fox : 39 %\n",
            "Accuracy of     barrel :  4 %\n",
            "Accuracy of     cannon :  7 %\n",
            "Accuracy of      chime : 18 %\n",
            "Accuracy of      cliff :  7 %\n",
            "Accuracy of       clog : 12 %\n",
            "Accuracy of      crate : 21 %\n",
            "Accuracy of    cuirass : 19 %\n",
            "Accuracy of     dugong : 83 %\n",
            "Accuracy of        ear : 35 %\n",
            "Accuracy of frying_pan :  1 %\n",
            "Accuracy of harvestman : 45 %\n",
            "Accuracy of    holster :  3 %\n",
            "Accuracy of horizontal_bar : 16 %\n",
            "Accuracy of     hotdog : 86 %\n",
            "Accuracy of       iPod : 22 %\n",
            "Accuracy of  jellyfish : 54 %\n",
            "Accuracy of  miniskirt :  6 %\n",
            "Accuracy of    missile : 33 %\n",
            "Accuracy of mixing_bowl : 32 %\n",
            "Accuracy of   nematode : 14 %\n",
            "Accuracy of newfoundland :  7 %\n",
            "Accuracy of       oboe :  5 %\n",
            "Accuracy of      robin : 56 %\n",
            "Accuracy of     saluki : 16 %\n",
            "Accuracy of school_bus : 73 %\n",
            "Accuracy of theater_curtain : 66 %\n",
            "Accuracy of three_toed_sloth : 60 %\n",
            "Accuracy of tibetan_mastiff : 64 %\n",
            "Accuracy of    upright : 59 %\n",
            "Accuracy of walker_hound : 32 %\n",
            "Accuracy of        wok :  5 %\n",
            "Accuracy of worm_fence : 47 %\n",
            "epoch  4\n"
          ],
          "name": "stdout"
        },
        {
          "output_type": "stream",
          "text": [
            "100%|██████████| 3300/3300 [00:56<00:00, 58.85it/s]\n",
            "  0%|          | 0/825 [00:00<?, ?it/s]"
          ],
          "name": "stderr"
        },
        {
          "output_type": "stream",
          "text": [
            "epoch 4 training loss: 2.231\n"
          ],
          "name": "stdout"
        },
        {
          "output_type": "stream",
          "text": [
            "100%|██████████| 825/825 [00:05<00:00, 138.10it/s]\n",
            "  0%|          | 0/825 [00:00<?, ?it/s]"
          ],
          "name": "stderr"
        },
        {
          "output_type": "stream",
          "text": [
            "Accuracy of the network on the test images: 34 %\n"
          ],
          "name": "stdout"
        },
        {
          "output_type": "stream",
          "text": [
            "100%|██████████| 825/825 [00:06<00:00, 127.81it/s]\n",
            "  0%|          | 0/3300 [00:00<?, ?it/s]"
          ],
          "name": "stderr"
        },
        {
          "output_type": "stream",
          "text": [
            "Accuracy of arctic_fox : 35 %\n",
            "Accuracy of     barrel :  3 %\n",
            "Accuracy of     cannon : 12 %\n",
            "Accuracy of      chime : 22 %\n",
            "Accuracy of      cliff : 12 %\n",
            "Accuracy of       clog :  4 %\n",
            "Accuracy of      crate : 63 %\n",
            "Accuracy of    cuirass : 28 %\n",
            "Accuracy of     dugong : 76 %\n",
            "Accuracy of        ear : 24 %\n",
            "Accuracy of frying_pan : 13 %\n",
            "Accuracy of harvestman : 46 %\n",
            "Accuracy of    holster : 32 %\n",
            "Accuracy of horizontal_bar : 39 %\n",
            "Accuracy of     hotdog : 55 %\n",
            "Accuracy of       iPod : 26 %\n",
            "Accuracy of  jellyfish : 64 %\n",
            "Accuracy of  miniskirt : 33 %\n",
            "Accuracy of    missile : 18 %\n",
            "Accuracy of mixing_bowl : 20 %\n",
            "Accuracy of   nematode : 24 %\n",
            "Accuracy of newfoundland :  2 %\n",
            "Accuracy of       oboe : 20 %\n",
            "Accuracy of      robin : 51 %\n",
            "Accuracy of     saluki : 50 %\n",
            "Accuracy of school_bus : 73 %\n",
            "Accuracy of theater_curtain : 63 %\n",
            "Accuracy of three_toed_sloth : 61 %\n",
            "Accuracy of tibetan_mastiff : 55 %\n",
            "Accuracy of    upright : 38 %\n",
            "Accuracy of walker_hound : 38 %\n",
            "Accuracy of        wok : 19 %\n",
            "Accuracy of worm_fence : 33 %\n",
            "epoch  5\n"
          ],
          "name": "stdout"
        },
        {
          "output_type": "stream",
          "text": [
            "100%|██████████| 3300/3300 [00:56<00:00, 58.65it/s]\n",
            "  0%|          | 0/825 [00:00<?, ?it/s]"
          ],
          "name": "stderr"
        },
        {
          "output_type": "stream",
          "text": [
            "epoch 5 training loss: 2.053\n"
          ],
          "name": "stdout"
        },
        {
          "output_type": "stream",
          "text": [
            "100%|██████████| 825/825 [00:05<00:00, 138.23it/s]\n",
            "  0%|          | 0/825 [00:00<?, ?it/s]"
          ],
          "name": "stderr"
        },
        {
          "output_type": "stream",
          "text": [
            "Accuracy of the network on the test images: 38 %\n"
          ],
          "name": "stdout"
        },
        {
          "output_type": "stream",
          "text": [
            "100%|██████████| 825/825 [00:06<00:00, 126.76it/s]\n",
            "  0%|          | 0/3300 [00:00<?, ?it/s]"
          ],
          "name": "stderr"
        },
        {
          "output_type": "stream",
          "text": [
            "Accuracy of arctic_fox : 50 %\n",
            "Accuracy of     barrel : 11 %\n",
            "Accuracy of     cannon : 40 %\n",
            "Accuracy of      chime : 19 %\n",
            "Accuracy of      cliff : 20 %\n",
            "Accuracy of       clog :  9 %\n",
            "Accuracy of      crate : 51 %\n",
            "Accuracy of    cuirass : 35 %\n",
            "Accuracy of     dugong : 61 %\n",
            "Accuracy of        ear : 19 %\n",
            "Accuracy of frying_pan : 10 %\n",
            "Accuracy of harvestman : 53 %\n",
            "Accuracy of    holster : 30 %\n",
            "Accuracy of horizontal_bar : 35 %\n",
            "Accuracy of     hotdog : 50 %\n",
            "Accuracy of       iPod : 27 %\n",
            "Accuracy of  jellyfish : 55 %\n",
            "Accuracy of  miniskirt : 30 %\n",
            "Accuracy of    missile : 40 %\n",
            "Accuracy of mixing_bowl : 44 %\n",
            "Accuracy of   nematode : 24 %\n",
            "Accuracy of newfoundland : 54 %\n",
            "Accuracy of       oboe : 18 %\n",
            "Accuracy of      robin : 67 %\n",
            "Accuracy of     saluki : 15 %\n",
            "Accuracy of school_bus : 93 %\n",
            "Accuracy of theater_curtain : 69 %\n",
            "Accuracy of three_toed_sloth : 31 %\n",
            "Accuracy of tibetan_mastiff : 43 %\n",
            "Accuracy of    upright : 52 %\n",
            "Accuracy of walker_hound : 31 %\n",
            "Accuracy of        wok : 33 %\n",
            "Accuracy of worm_fence : 37 %\n",
            "epoch  6\n"
          ],
          "name": "stdout"
        },
        {
          "output_type": "stream",
          "text": [
            "100%|██████████| 3300/3300 [00:56<00:00, 58.59it/s]\n",
            "  0%|          | 0/825 [00:00<?, ?it/s]"
          ],
          "name": "stderr"
        },
        {
          "output_type": "stream",
          "text": [
            "epoch 6 training loss: 1.860\n"
          ],
          "name": "stdout"
        },
        {
          "output_type": "stream",
          "text": [
            "100%|██████████| 825/825 [00:06<00:00, 137.39it/s]\n",
            "  0%|          | 0/825 [00:00<?, ?it/s]"
          ],
          "name": "stderr"
        },
        {
          "output_type": "stream",
          "text": [
            "Accuracy of the network on the test images: 39 %\n"
          ],
          "name": "stdout"
        },
        {
          "output_type": "stream",
          "text": [
            "100%|██████████| 825/825 [00:06<00:00, 126.43it/s]\n",
            "  0%|          | 0/3300 [00:00<?, ?it/s]"
          ],
          "name": "stderr"
        },
        {
          "output_type": "stream",
          "text": [
            "Accuracy of arctic_fox : 54 %\n",
            "Accuracy of     barrel :  2 %\n",
            "Accuracy of     cannon : 26 %\n",
            "Accuracy of      chime : 14 %\n",
            "Accuracy of      cliff : 33 %\n",
            "Accuracy of       clog : 28 %\n",
            "Accuracy of      crate : 45 %\n",
            "Accuracy of    cuirass : 40 %\n",
            "Accuracy of     dugong : 91 %\n",
            "Accuracy of        ear : 58 %\n",
            "Accuracy of frying_pan :  9 %\n",
            "Accuracy of harvestman : 59 %\n",
            "Accuracy of    holster : 27 %\n",
            "Accuracy of horizontal_bar : 38 %\n",
            "Accuracy of     hotdog : 60 %\n",
            "Accuracy of       iPod : 34 %\n",
            "Accuracy of  jellyfish : 40 %\n",
            "Accuracy of  miniskirt : 28 %\n",
            "Accuracy of    missile : 30 %\n",
            "Accuracy of mixing_bowl : 43 %\n",
            "Accuracy of   nematode : 13 %\n",
            "Accuracy of newfoundland : 67 %\n",
            "Accuracy of       oboe : 14 %\n",
            "Accuracy of      robin : 47 %\n",
            "Accuracy of     saluki : 38 %\n",
            "Accuracy of school_bus : 79 %\n",
            "Accuracy of theater_curtain : 62 %\n",
            "Accuracy of three_toed_sloth : 33 %\n",
            "Accuracy of tibetan_mastiff : 43 %\n",
            "Accuracy of    upright : 52 %\n",
            "Accuracy of walker_hound : 41 %\n",
            "Accuracy of        wok : 12 %\n",
            "Accuracy of worm_fence : 35 %\n",
            "epoch  7\n"
          ],
          "name": "stdout"
        },
        {
          "output_type": "stream",
          "text": [
            "100%|██████████| 3300/3300 [00:56<00:00, 58.84it/s]\n",
            "  0%|          | 0/825 [00:00<?, ?it/s]"
          ],
          "name": "stderr"
        },
        {
          "output_type": "stream",
          "text": [
            "epoch 7 training loss: 1.666\n"
          ],
          "name": "stdout"
        },
        {
          "output_type": "stream",
          "text": [
            "100%|██████████| 825/825 [00:06<00:00, 136.25it/s]\n",
            "  0%|          | 0/825 [00:00<?, ?it/s]"
          ],
          "name": "stderr"
        },
        {
          "output_type": "stream",
          "text": [
            "Accuracy of the network on the test images: 38 %\n"
          ],
          "name": "stdout"
        },
        {
          "output_type": "stream",
          "text": [
            "100%|██████████| 825/825 [00:06<00:00, 126.68it/s]\n",
            "  0%|          | 0/3300 [00:00<?, ?it/s]"
          ],
          "name": "stderr"
        },
        {
          "output_type": "stream",
          "text": [
            "Accuracy of arctic_fox : 23 %\n",
            "Accuracy of     barrel :  1 %\n",
            "Accuracy of     cannon : 12 %\n",
            "Accuracy of      chime :  5 %\n",
            "Accuracy of      cliff : 29 %\n",
            "Accuracy of       clog : 24 %\n",
            "Accuracy of      crate : 61 %\n",
            "Accuracy of    cuirass : 19 %\n",
            "Accuracy of     dugong : 82 %\n",
            "Accuracy of        ear : 35 %\n",
            "Accuracy of frying_pan : 17 %\n",
            "Accuracy of harvestman : 69 %\n",
            "Accuracy of    holster : 50 %\n",
            "Accuracy of horizontal_bar : 46 %\n",
            "Accuracy of     hotdog : 42 %\n",
            "Accuracy of       iPod : 29 %\n",
            "Accuracy of  jellyfish : 55 %\n",
            "Accuracy of  miniskirt : 41 %\n",
            "Accuracy of    missile : 58 %\n",
            "Accuracy of mixing_bowl : 49 %\n",
            "Accuracy of   nematode : 19 %\n",
            "Accuracy of newfoundland : 13 %\n",
            "Accuracy of       oboe : 14 %\n",
            "Accuracy of      robin : 59 %\n",
            "Accuracy of     saluki : 29 %\n",
            "Accuracy of school_bus : 91 %\n",
            "Accuracy of theater_curtain : 64 %\n",
            "Accuracy of three_toed_sloth : 22 %\n",
            "Accuracy of tibetan_mastiff : 68 %\n",
            "Accuracy of    upright : 62 %\n",
            "Accuracy of walker_hound : 40 %\n",
            "Accuracy of        wok : 14 %\n",
            "Accuracy of worm_fence : 27 %\n",
            "epoch  8\n"
          ],
          "name": "stdout"
        },
        {
          "output_type": "stream",
          "text": [
            "100%|██████████| 3300/3300 [00:56<00:00, 58.82it/s]\n",
            "  0%|          | 0/825 [00:00<?, ?it/s]"
          ],
          "name": "stderr"
        },
        {
          "output_type": "stream",
          "text": [
            "epoch 8 training loss: 1.460\n"
          ],
          "name": "stdout"
        },
        {
          "output_type": "stream",
          "text": [
            "100%|██████████| 825/825 [00:06<00:00, 136.28it/s]\n",
            "  0%|          | 0/825 [00:00<?, ?it/s]"
          ],
          "name": "stderr"
        },
        {
          "output_type": "stream",
          "text": [
            "Accuracy of the network on the test images: 43 %\n"
          ],
          "name": "stdout"
        },
        {
          "output_type": "stream",
          "text": [
            "100%|██████████| 825/825 [00:06<00:00, 129.82it/s]\n",
            "  0%|          | 0/3300 [00:00<?, ?it/s]"
          ],
          "name": "stderr"
        },
        {
          "output_type": "stream",
          "text": [
            "Accuracy of arctic_fox : 39 %\n",
            "Accuracy of     barrel : 10 %\n",
            "Accuracy of     cannon : 18 %\n",
            "Accuracy of      chime : 20 %\n",
            "Accuracy of      cliff : 34 %\n",
            "Accuracy of       clog : 13 %\n",
            "Accuracy of      crate : 48 %\n",
            "Accuracy of    cuirass : 51 %\n",
            "Accuracy of     dugong : 88 %\n",
            "Accuracy of        ear : 32 %\n",
            "Accuracy of frying_pan : 52 %\n",
            "Accuracy of harvestman : 69 %\n",
            "Accuracy of    holster : 27 %\n",
            "Accuracy of horizontal_bar : 45 %\n",
            "Accuracy of     hotdog : 66 %\n",
            "Accuracy of       iPod : 33 %\n",
            "Accuracy of  jellyfish : 50 %\n",
            "Accuracy of  miniskirt : 38 %\n",
            "Accuracy of    missile : 62 %\n",
            "Accuracy of mixing_bowl : 41 %\n",
            "Accuracy of   nematode : 30 %\n",
            "Accuracy of newfoundland : 33 %\n",
            "Accuracy of       oboe : 36 %\n",
            "Accuracy of      robin : 56 %\n",
            "Accuracy of     saluki : 42 %\n",
            "Accuracy of school_bus : 85 %\n",
            "Accuracy of theater_curtain : 50 %\n",
            "Accuracy of three_toed_sloth : 60 %\n",
            "Accuracy of tibetan_mastiff : 72 %\n",
            "Accuracy of    upright : 46 %\n",
            "Accuracy of walker_hound : 49 %\n",
            "Accuracy of        wok :  7 %\n",
            "Accuracy of worm_fence : 36 %\n",
            "epoch  9\n"
          ],
          "name": "stdout"
        },
        {
          "output_type": "stream",
          "text": [
            "100%|██████████| 3300/3300 [00:56<00:00, 58.83it/s]\n",
            "  0%|          | 0/825 [00:00<?, ?it/s]"
          ],
          "name": "stderr"
        },
        {
          "output_type": "stream",
          "text": [
            "epoch 9 training loss: 1.249\n"
          ],
          "name": "stdout"
        },
        {
          "output_type": "stream",
          "text": [
            "100%|██████████| 825/825 [00:06<00:00, 136.34it/s]\n",
            "  0%|          | 0/825 [00:00<?, ?it/s]"
          ],
          "name": "stderr"
        },
        {
          "output_type": "stream",
          "text": [
            "Accuracy of the network on the test images: 42 %\n"
          ],
          "name": "stdout"
        },
        {
          "output_type": "stream",
          "text": [
            "100%|██████████| 825/825 [00:06<00:00, 128.92it/s]\n",
            "  0%|          | 0/3300 [00:00<?, ?it/s]"
          ],
          "name": "stderr"
        },
        {
          "output_type": "stream",
          "text": [
            "Accuracy of arctic_fox : 46 %\n",
            "Accuracy of     barrel : 11 %\n",
            "Accuracy of     cannon : 36 %\n",
            "Accuracy of      chime : 19 %\n",
            "Accuracy of      cliff : 39 %\n",
            "Accuracy of       clog : 24 %\n",
            "Accuracy of      crate : 45 %\n",
            "Accuracy of    cuirass : 45 %\n",
            "Accuracy of     dugong : 73 %\n",
            "Accuracy of        ear : 26 %\n",
            "Accuracy of frying_pan : 14 %\n",
            "Accuracy of harvestman : 68 %\n",
            "Accuracy of    holster : 22 %\n",
            "Accuracy of horizontal_bar : 36 %\n",
            "Accuracy of     hotdog : 74 %\n",
            "Accuracy of       iPod : 19 %\n",
            "Accuracy of  jellyfish : 66 %\n",
            "Accuracy of  miniskirt : 19 %\n",
            "Accuracy of    missile : 32 %\n",
            "Accuracy of mixing_bowl : 47 %\n",
            "Accuracy of   nematode : 19 %\n",
            "Accuracy of newfoundland : 36 %\n",
            "Accuracy of       oboe : 48 %\n",
            "Accuracy of      robin : 74 %\n",
            "Accuracy of     saluki : 25 %\n",
            "Accuracy of school_bus : 74 %\n",
            "Accuracy of theater_curtain : 62 %\n",
            "Accuracy of three_toed_sloth : 68 %\n",
            "Accuracy of tibetan_mastiff : 66 %\n",
            "Accuracy of    upright : 56 %\n",
            "Accuracy of walker_hound : 38 %\n",
            "Accuracy of        wok : 29 %\n",
            "Accuracy of worm_fence : 41 %\n",
            "epoch  10\n"
          ],
          "name": "stdout"
        },
        {
          "output_type": "stream",
          "text": [
            "100%|██████████| 3300/3300 [00:56<00:00, 58.53it/s]\n",
            "  0%|          | 0/825 [00:00<?, ?it/s]"
          ],
          "name": "stderr"
        },
        {
          "output_type": "stream",
          "text": [
            "epoch 10 training loss: 1.026\n"
          ],
          "name": "stdout"
        },
        {
          "output_type": "stream",
          "text": [
            "100%|██████████| 825/825 [00:06<00:00, 133.56it/s]\n",
            "  0%|          | 0/825 [00:00<?, ?it/s]"
          ],
          "name": "stderr"
        },
        {
          "output_type": "stream",
          "text": [
            "Accuracy of the network on the test images: 43 %\n"
          ],
          "name": "stdout"
        },
        {
          "output_type": "stream",
          "text": [
            "100%|██████████| 825/825 [00:06<00:00, 126.80it/s]\n",
            "  0%|          | 0/3300 [00:00<?, ?it/s]"
          ],
          "name": "stderr"
        },
        {
          "output_type": "stream",
          "text": [
            "Accuracy of arctic_fox : 55 %\n",
            "Accuracy of     barrel : 16 %\n",
            "Accuracy of     cannon : 33 %\n",
            "Accuracy of      chime : 18 %\n",
            "Accuracy of      cliff : 33 %\n",
            "Accuracy of       clog : 10 %\n",
            "Accuracy of      crate : 27 %\n",
            "Accuracy of    cuirass : 18 %\n",
            "Accuracy of     dugong : 77 %\n",
            "Accuracy of        ear : 56 %\n",
            "Accuracy of frying_pan : 13 %\n",
            "Accuracy of harvestman : 76 %\n",
            "Accuracy of    holster : 13 %\n",
            "Accuracy of horizontal_bar : 15 %\n",
            "Accuracy of     hotdog : 60 %\n",
            "Accuracy of       iPod : 45 %\n",
            "Accuracy of  jellyfish : 64 %\n",
            "Accuracy of  miniskirt : 25 %\n",
            "Accuracy of    missile : 31 %\n",
            "Accuracy of mixing_bowl : 53 %\n",
            "Accuracy of   nematode : 38 %\n",
            "Accuracy of newfoundland : 44 %\n",
            "Accuracy of       oboe : 59 %\n",
            "Accuracy of      robin : 67 %\n",
            "Accuracy of     saluki : 50 %\n",
            "Accuracy of school_bus : 82 %\n",
            "Accuracy of theater_curtain : 79 %\n",
            "Accuracy of three_toed_sloth : 56 %\n",
            "Accuracy of tibetan_mastiff : 56 %\n",
            "Accuracy of    upright : 50 %\n",
            "Accuracy of walker_hound : 42 %\n",
            "Accuracy of        wok : 21 %\n",
            "Accuracy of worm_fence : 46 %\n",
            "epoch  11\n"
          ],
          "name": "stdout"
        },
        {
          "output_type": "stream",
          "text": [
            "100%|██████████| 3300/3300 [00:56<00:00, 58.70it/s]\n",
            "  0%|          | 0/825 [00:00<?, ?it/s]"
          ],
          "name": "stderr"
        },
        {
          "output_type": "stream",
          "text": [
            "epoch 11 training loss: 0.825\n"
          ],
          "name": "stdout"
        },
        {
          "output_type": "stream",
          "text": [
            "100%|██████████| 825/825 [00:06<00:00, 135.48it/s]\n",
            "  0%|          | 0/825 [00:00<?, ?it/s]"
          ],
          "name": "stderr"
        },
        {
          "output_type": "stream",
          "text": [
            "Accuracy of the network on the test images: 43 %\n"
          ],
          "name": "stdout"
        },
        {
          "output_type": "stream",
          "text": [
            "100%|██████████| 825/825 [00:06<00:00, 130.09it/s]\n",
            "  0%|          | 0/3300 [00:00<?, ?it/s]"
          ],
          "name": "stderr"
        },
        {
          "output_type": "stream",
          "text": [
            "Accuracy of arctic_fox : 48 %\n",
            "Accuracy of     barrel : 11 %\n",
            "Accuracy of     cannon : 18 %\n",
            "Accuracy of      chime : 45 %\n",
            "Accuracy of      cliff : 44 %\n",
            "Accuracy of       clog : 45 %\n",
            "Accuracy of      crate : 25 %\n",
            "Accuracy of    cuirass : 45 %\n",
            "Accuracy of     dugong : 81 %\n",
            "Accuracy of        ear : 67 %\n",
            "Accuracy of frying_pan : 20 %\n",
            "Accuracy of harvestman : 64 %\n",
            "Accuracy of    holster : 17 %\n",
            "Accuracy of horizontal_bar : 38 %\n",
            "Accuracy of     hotdog : 48 %\n",
            "Accuracy of       iPod : 28 %\n",
            "Accuracy of  jellyfish : 59 %\n",
            "Accuracy of  miniskirt : 28 %\n",
            "Accuracy of    missile : 39 %\n",
            "Accuracy of mixing_bowl : 46 %\n",
            "Accuracy of   nematode : 34 %\n",
            "Accuracy of newfoundland : 44 %\n",
            "Accuracy of       oboe : 28 %\n",
            "Accuracy of      robin : 66 %\n",
            "Accuracy of     saluki : 30 %\n",
            "Accuracy of school_bus : 82 %\n",
            "Accuracy of theater_curtain : 61 %\n",
            "Accuracy of three_toed_sloth : 53 %\n",
            "Accuracy of tibetan_mastiff : 62 %\n",
            "Accuracy of    upright : 51 %\n",
            "Accuracy of walker_hound : 33 %\n",
            "Accuracy of        wok : 12 %\n",
            "Accuracy of worm_fence : 51 %\n",
            "epoch  12\n"
          ],
          "name": "stdout"
        },
        {
          "output_type": "stream",
          "text": [
            "100%|██████████| 3300/3300 [00:56<00:00, 58.63it/s]\n",
            "  0%|          | 0/825 [00:00<?, ?it/s]"
          ],
          "name": "stderr"
        },
        {
          "output_type": "stream",
          "text": [
            "epoch 12 training loss: 0.607\n"
          ],
          "name": "stdout"
        },
        {
          "output_type": "stream",
          "text": [
            "100%|██████████| 825/825 [00:06<00:00, 136.04it/s]\n",
            "  0%|          | 0/825 [00:00<?, ?it/s]"
          ],
          "name": "stderr"
        },
        {
          "output_type": "stream",
          "text": [
            "Accuracy of the network on the test images: 42 %\n"
          ],
          "name": "stdout"
        },
        {
          "output_type": "stream",
          "text": [
            "100%|██████████| 825/825 [00:06<00:00, 127.24it/s]\n",
            "  0%|          | 0/3300 [00:00<?, ?it/s]"
          ],
          "name": "stderr"
        },
        {
          "output_type": "stream",
          "text": [
            "Accuracy of arctic_fox : 31 %\n",
            "Accuracy of     barrel : 23 %\n",
            "Accuracy of     cannon : 19 %\n",
            "Accuracy of      chime : 24 %\n",
            "Accuracy of      cliff : 47 %\n",
            "Accuracy of       clog : 31 %\n",
            "Accuracy of      crate : 25 %\n",
            "Accuracy of    cuirass : 22 %\n",
            "Accuracy of     dugong : 73 %\n",
            "Accuracy of        ear : 50 %\n",
            "Accuracy of frying_pan : 35 %\n",
            "Accuracy of harvestman : 68 %\n",
            "Accuracy of    holster : 28 %\n",
            "Accuracy of horizontal_bar : 39 %\n",
            "Accuracy of     hotdog : 50 %\n",
            "Accuracy of       iPod : 30 %\n",
            "Accuracy of  jellyfish : 57 %\n",
            "Accuracy of  miniskirt : 35 %\n",
            "Accuracy of    missile : 30 %\n",
            "Accuracy of mixing_bowl : 38 %\n",
            "Accuracy of   nematode : 41 %\n",
            "Accuracy of newfoundland : 36 %\n",
            "Accuracy of       oboe : 22 %\n",
            "Accuracy of      robin : 61 %\n",
            "Accuracy of     saluki : 45 %\n",
            "Accuracy of school_bus : 80 %\n",
            "Accuracy of theater_curtain : 71 %\n",
            "Accuracy of three_toed_sloth : 53 %\n",
            "Accuracy of tibetan_mastiff : 70 %\n",
            "Accuracy of    upright : 48 %\n",
            "Accuracy of walker_hound : 37 %\n",
            "Accuracy of        wok : 15 %\n",
            "Accuracy of worm_fence : 55 %\n",
            "epoch  13\n"
          ],
          "name": "stdout"
        },
        {
          "output_type": "stream",
          "text": [
            "100%|██████████| 3300/3300 [00:56<00:00, 58.69it/s]\n",
            "  0%|          | 0/825 [00:00<?, ?it/s]"
          ],
          "name": "stderr"
        },
        {
          "output_type": "stream",
          "text": [
            "epoch 13 training loss: 0.456\n"
          ],
          "name": "stdout"
        },
        {
          "output_type": "stream",
          "text": [
            "100%|██████████| 825/825 [00:06<00:00, 135.97it/s]\n",
            "  0%|          | 0/825 [00:00<?, ?it/s]"
          ],
          "name": "stderr"
        },
        {
          "output_type": "stream",
          "text": [
            "Accuracy of the network on the test images: 43 %\n"
          ],
          "name": "stdout"
        },
        {
          "output_type": "stream",
          "text": [
            "100%|██████████| 825/825 [00:06<00:00, 128.24it/s]\n",
            "  0%|          | 0/3300 [00:00<?, ?it/s]"
          ],
          "name": "stderr"
        },
        {
          "output_type": "stream",
          "text": [
            "Accuracy of arctic_fox : 50 %\n",
            "Accuracy of     barrel : 17 %\n",
            "Accuracy of     cannon : 22 %\n",
            "Accuracy of      chime : 44 %\n",
            "Accuracy of      cliff : 39 %\n",
            "Accuracy of       clog : 17 %\n",
            "Accuracy of      crate : 45 %\n",
            "Accuracy of    cuirass : 40 %\n",
            "Accuracy of     dugong : 87 %\n",
            "Accuracy of        ear : 54 %\n",
            "Accuracy of frying_pan : 27 %\n",
            "Accuracy of harvestman : 73 %\n",
            "Accuracy of    holster : 40 %\n",
            "Accuracy of horizontal_bar : 46 %\n",
            "Accuracy of     hotdog : 41 %\n",
            "Accuracy of       iPod : 20 %\n",
            "Accuracy of  jellyfish : 47 %\n",
            "Accuracy of  miniskirt : 39 %\n",
            "Accuracy of    missile : 41 %\n",
            "Accuracy of mixing_bowl : 58 %\n",
            "Accuracy of   nematode : 29 %\n",
            "Accuracy of newfoundland : 38 %\n",
            "Accuracy of       oboe : 30 %\n",
            "Accuracy of      robin : 66 %\n",
            "Accuracy of     saluki : 37 %\n",
            "Accuracy of school_bus : 75 %\n",
            "Accuracy of theater_curtain : 74 %\n",
            "Accuracy of three_toed_sloth : 39 %\n",
            "Accuracy of tibetan_mastiff : 29 %\n",
            "Accuracy of    upright : 54 %\n",
            "Accuracy of walker_hound : 43 %\n",
            "Accuracy of        wok : 21 %\n",
            "Accuracy of worm_fence : 41 %\n",
            "epoch  14\n"
          ],
          "name": "stdout"
        },
        {
          "output_type": "stream",
          "text": [
            "100%|██████████| 3300/3300 [00:56<00:00, 58.57it/s]\n",
            "  0%|          | 0/825 [00:00<?, ?it/s]"
          ],
          "name": "stderr"
        },
        {
          "output_type": "stream",
          "text": [
            "epoch 14 training loss: 0.346\n"
          ],
          "name": "stdout"
        },
        {
          "output_type": "stream",
          "text": [
            "100%|██████████| 825/825 [00:06<00:00, 134.52it/s]\n",
            "  0%|          | 0/825 [00:00<?, ?it/s]"
          ],
          "name": "stderr"
        },
        {
          "output_type": "stream",
          "text": [
            "Accuracy of the network on the test images: 41 %\n"
          ],
          "name": "stdout"
        },
        {
          "output_type": "stream",
          "text": [
            "100%|██████████| 825/825 [00:06<00:00, 124.20it/s]\n",
            "  0%|          | 0/3300 [00:00<?, ?it/s]"
          ],
          "name": "stderr"
        },
        {
          "output_type": "stream",
          "text": [
            "Accuracy of arctic_fox : 55 %\n",
            "Accuracy of     barrel :  9 %\n",
            "Accuracy of     cannon : 37 %\n",
            "Accuracy of      chime : 32 %\n",
            "Accuracy of      cliff : 37 %\n",
            "Accuracy of       clog : 15 %\n",
            "Accuracy of      crate : 24 %\n",
            "Accuracy of    cuirass : 41 %\n",
            "Accuracy of     dugong : 43 %\n",
            "Accuracy of        ear : 42 %\n",
            "Accuracy of frying_pan : 39 %\n",
            "Accuracy of harvestman : 67 %\n",
            "Accuracy of    holster : 31 %\n",
            "Accuracy of horizontal_bar : 40 %\n",
            "Accuracy of     hotdog : 27 %\n",
            "Accuracy of       iPod : 42 %\n",
            "Accuracy of  jellyfish : 79 %\n",
            "Accuracy of  miniskirt : 35 %\n",
            "Accuracy of    missile : 32 %\n",
            "Accuracy of mixing_bowl : 71 %\n",
            "Accuracy of   nematode : 22 %\n",
            "Accuracy of newfoundland : 35 %\n",
            "Accuracy of       oboe : 41 %\n",
            "Accuracy of      robin : 65 %\n",
            "Accuracy of     saluki : 40 %\n",
            "Accuracy of school_bus : 68 %\n",
            "Accuracy of theater_curtain : 62 %\n",
            "Accuracy of three_toed_sloth : 53 %\n",
            "Accuracy of tibetan_mastiff : 63 %\n",
            "Accuracy of    upright : 41 %\n",
            "Accuracy of walker_hound : 45 %\n",
            "Accuracy of        wok :  7 %\n",
            "Accuracy of worm_fence : 34 %\n",
            "epoch  15\n"
          ],
          "name": "stdout"
        },
        {
          "output_type": "stream",
          "text": [
            "100%|██████████| 3300/3300 [00:56<00:00, 58.50it/s]\n",
            "  0%|          | 0/825 [00:00<?, ?it/s]"
          ],
          "name": "stderr"
        },
        {
          "output_type": "stream",
          "text": [
            "epoch 15 training loss: 0.296\n"
          ],
          "name": "stdout"
        },
        {
          "output_type": "stream",
          "text": [
            "100%|██████████| 825/825 [00:06<00:00, 137.41it/s]\n",
            "  0%|          | 0/825 [00:00<?, ?it/s]"
          ],
          "name": "stderr"
        },
        {
          "output_type": "stream",
          "text": [
            "Accuracy of the network on the test images: 44 %\n"
          ],
          "name": "stdout"
        },
        {
          "output_type": "stream",
          "text": [
            "100%|██████████| 825/825 [00:06<00:00, 129.00it/s]\n",
            "  0%|          | 0/3300 [00:00<?, ?it/s]"
          ],
          "name": "stderr"
        },
        {
          "output_type": "stream",
          "text": [
            "Accuracy of arctic_fox : 43 %\n",
            "Accuracy of     barrel :  9 %\n",
            "Accuracy of     cannon : 37 %\n",
            "Accuracy of      chime : 16 %\n",
            "Accuracy of      cliff : 50 %\n",
            "Accuracy of       clog : 27 %\n",
            "Accuracy of      crate : 28 %\n",
            "Accuracy of    cuirass : 43 %\n",
            "Accuracy of     dugong : 84 %\n",
            "Accuracy of        ear : 47 %\n",
            "Accuracy of frying_pan : 29 %\n",
            "Accuracy of harvestman : 74 %\n",
            "Accuracy of    holster : 19 %\n",
            "Accuracy of horizontal_bar : 55 %\n",
            "Accuracy of     hotdog : 66 %\n",
            "Accuracy of       iPod : 25 %\n",
            "Accuracy of  jellyfish : 64 %\n",
            "Accuracy of  miniskirt : 30 %\n",
            "Accuracy of    missile : 41 %\n",
            "Accuracy of mixing_bowl : 49 %\n",
            "Accuracy of   nematode : 37 %\n",
            "Accuracy of newfoundland : 41 %\n",
            "Accuracy of       oboe : 21 %\n",
            "Accuracy of      robin : 65 %\n",
            "Accuracy of     saluki : 41 %\n",
            "Accuracy of school_bus : 69 %\n",
            "Accuracy of theater_curtain : 73 %\n",
            "Accuracy of three_toed_sloth : 70 %\n",
            "Accuracy of tibetan_mastiff : 66 %\n",
            "Accuracy of    upright : 48 %\n",
            "Accuracy of walker_hound : 56 %\n",
            "Accuracy of        wok : 13 %\n",
            "Accuracy of worm_fence : 32 %\n",
            "epoch  16\n"
          ],
          "name": "stdout"
        },
        {
          "output_type": "stream",
          "text": [
            "100%|██████████| 3300/3300 [00:56<00:00, 58.77it/s]\n",
            "  0%|          | 0/825 [00:00<?, ?it/s]"
          ],
          "name": "stderr"
        },
        {
          "output_type": "stream",
          "text": [
            "epoch 16 training loss: 0.242\n"
          ],
          "name": "stdout"
        },
        {
          "output_type": "stream",
          "text": [
            "100%|██████████| 825/825 [00:06<00:00, 136.71it/s]\n",
            "  0%|          | 0/825 [00:00<?, ?it/s]"
          ],
          "name": "stderr"
        },
        {
          "output_type": "stream",
          "text": [
            "Accuracy of the network on the test images: 44 %\n"
          ],
          "name": "stdout"
        },
        {
          "output_type": "stream",
          "text": [
            "100%|██████████| 825/825 [00:06<00:00, 130.65it/s]\n",
            "  0%|          | 0/3300 [00:00<?, ?it/s]"
          ],
          "name": "stderr"
        },
        {
          "output_type": "stream",
          "text": [
            "Accuracy of arctic_fox : 44 %\n",
            "Accuracy of     barrel : 15 %\n",
            "Accuracy of     cannon : 22 %\n",
            "Accuracy of      chime : 26 %\n",
            "Accuracy of      cliff : 20 %\n",
            "Accuracy of       clog : 30 %\n",
            "Accuracy of      crate : 40 %\n",
            "Accuracy of    cuirass : 42 %\n",
            "Accuracy of     dugong : 78 %\n",
            "Accuracy of        ear : 46 %\n",
            "Accuracy of frying_pan : 36 %\n",
            "Accuracy of harvestman : 73 %\n",
            "Accuracy of    holster : 29 %\n",
            "Accuracy of horizontal_bar : 43 %\n",
            "Accuracy of     hotdog : 48 %\n",
            "Accuracy of       iPod : 37 %\n",
            "Accuracy of  jellyfish : 67 %\n",
            "Accuracy of  miniskirt : 36 %\n",
            "Accuracy of    missile : 41 %\n",
            "Accuracy of mixing_bowl : 56 %\n",
            "Accuracy of   nematode : 42 %\n",
            "Accuracy of newfoundland : 33 %\n",
            "Accuracy of       oboe : 34 %\n",
            "Accuracy of      robin : 66 %\n",
            "Accuracy of     saluki : 40 %\n",
            "Accuracy of school_bus : 80 %\n",
            "Accuracy of theater_curtain : 77 %\n",
            "Accuracy of three_toed_sloth : 60 %\n",
            "Accuracy of tibetan_mastiff : 63 %\n",
            "Accuracy of    upright : 45 %\n",
            "Accuracy of walker_hound : 29 %\n",
            "Accuracy of        wok : 15 %\n",
            "Accuracy of worm_fence : 48 %\n",
            "epoch  17\n"
          ],
          "name": "stdout"
        },
        {
          "output_type": "stream",
          "text": [
            "100%|██████████| 3300/3300 [00:56<00:00, 58.52it/s]\n",
            "  0%|          | 0/825 [00:00<?, ?it/s]"
          ],
          "name": "stderr"
        },
        {
          "output_type": "stream",
          "text": [
            "epoch 17 training loss: 0.175\n"
          ],
          "name": "stdout"
        },
        {
          "output_type": "stream",
          "text": [
            "100%|██████████| 825/825 [00:06<00:00, 135.82it/s]\n",
            "  0%|          | 0/825 [00:00<?, ?it/s]"
          ],
          "name": "stderr"
        },
        {
          "output_type": "stream",
          "text": [
            "Accuracy of the network on the test images: 44 %\n"
          ],
          "name": "stdout"
        },
        {
          "output_type": "stream",
          "text": [
            "100%|██████████| 825/825 [00:06<00:00, 128.45it/s]\n",
            "  0%|          | 0/3300 [00:00<?, ?it/s]"
          ],
          "name": "stderr"
        },
        {
          "output_type": "stream",
          "text": [
            "Accuracy of arctic_fox : 53 %\n",
            "Accuracy of     barrel : 11 %\n",
            "Accuracy of     cannon : 31 %\n",
            "Accuracy of      chime : 28 %\n",
            "Accuracy of      cliff : 39 %\n",
            "Accuracy of       clog : 16 %\n",
            "Accuracy of      crate : 40 %\n",
            "Accuracy of    cuirass : 39 %\n",
            "Accuracy of     dugong : 78 %\n",
            "Accuracy of        ear : 63 %\n",
            "Accuracy of frying_pan : 33 %\n",
            "Accuracy of harvestman : 70 %\n",
            "Accuracy of    holster : 28 %\n",
            "Accuracy of horizontal_bar : 45 %\n",
            "Accuracy of     hotdog : 47 %\n",
            "Accuracy of       iPod : 49 %\n",
            "Accuracy of  jellyfish : 62 %\n",
            "Accuracy of  miniskirt : 31 %\n",
            "Accuracy of    missile : 27 %\n",
            "Accuracy of mixing_bowl : 52 %\n",
            "Accuracy of   nematode : 43 %\n",
            "Accuracy of newfoundland : 29 %\n",
            "Accuracy of       oboe : 19 %\n",
            "Accuracy of      robin : 77 %\n",
            "Accuracy of     saluki : 36 %\n",
            "Accuracy of school_bus : 81 %\n",
            "Accuracy of theater_curtain : 78 %\n",
            "Accuracy of three_toed_sloth : 58 %\n",
            "Accuracy of tibetan_mastiff : 55 %\n",
            "Accuracy of    upright : 49 %\n",
            "Accuracy of walker_hound : 38 %\n",
            "Accuracy of        wok : 23 %\n",
            "Accuracy of worm_fence : 54 %\n",
            "epoch  18\n"
          ],
          "name": "stdout"
        },
        {
          "output_type": "stream",
          "text": [
            "100%|██████████| 3300/3300 [00:56<00:00, 58.71it/s]\n",
            "  0%|          | 0/825 [00:00<?, ?it/s]"
          ],
          "name": "stderr"
        },
        {
          "output_type": "stream",
          "text": [
            "epoch 18 training loss: 0.161\n"
          ],
          "name": "stdout"
        },
        {
          "output_type": "stream",
          "text": [
            "100%|██████████| 825/825 [00:06<00:00, 135.88it/s]\n",
            "  0%|          | 0/825 [00:00<?, ?it/s]"
          ],
          "name": "stderr"
        },
        {
          "output_type": "stream",
          "text": [
            "Accuracy of the network on the test images: 44 %\n"
          ],
          "name": "stdout"
        },
        {
          "output_type": "stream",
          "text": [
            "100%|██████████| 825/825 [00:06<00:00, 129.10it/s]\n",
            "  0%|          | 0/3300 [00:00<?, ?it/s]"
          ],
          "name": "stderr"
        },
        {
          "output_type": "stream",
          "text": [
            "Accuracy of arctic_fox : 63 %\n",
            "Accuracy of     barrel : 16 %\n",
            "Accuracy of     cannon : 26 %\n",
            "Accuracy of      chime : 12 %\n",
            "Accuracy of      cliff : 35 %\n",
            "Accuracy of       clog : 28 %\n",
            "Accuracy of      crate : 36 %\n",
            "Accuracy of    cuirass : 38 %\n",
            "Accuracy of     dugong : 79 %\n",
            "Accuracy of        ear : 51 %\n",
            "Accuracy of frying_pan : 29 %\n",
            "Accuracy of harvestman : 68 %\n",
            "Accuracy of    holster : 28 %\n",
            "Accuracy of horizontal_bar : 52 %\n",
            "Accuracy of     hotdog : 48 %\n",
            "Accuracy of       iPod : 41 %\n",
            "Accuracy of  jellyfish : 46 %\n",
            "Accuracy of  miniskirt : 33 %\n",
            "Accuracy of    missile : 40 %\n",
            "Accuracy of mixing_bowl : 55 %\n",
            "Accuracy of   nematode : 41 %\n",
            "Accuracy of newfoundland : 26 %\n",
            "Accuracy of       oboe : 33 %\n",
            "Accuracy of      robin : 77 %\n",
            "Accuracy of     saluki : 39 %\n",
            "Accuracy of school_bus : 79 %\n",
            "Accuracy of theater_curtain : 72 %\n",
            "Accuracy of three_toed_sloth : 59 %\n",
            "Accuracy of tibetan_mastiff : 46 %\n",
            "Accuracy of    upright : 62 %\n",
            "Accuracy of walker_hound : 39 %\n",
            "Accuracy of        wok : 34 %\n",
            "Accuracy of worm_fence : 31 %\n",
            "epoch  19\n"
          ],
          "name": "stdout"
        },
        {
          "output_type": "stream",
          "text": [
            "100%|██████████| 3300/3300 [00:56<00:00, 58.55it/s]\n",
            "  0%|          | 0/825 [00:00<?, ?it/s]"
          ],
          "name": "stderr"
        },
        {
          "output_type": "stream",
          "text": [
            "epoch 19 training loss: 0.107\n"
          ],
          "name": "stdout"
        },
        {
          "output_type": "stream",
          "text": [
            "100%|██████████| 825/825 [00:06<00:00, 136.83it/s]\n",
            "  0%|          | 0/825 [00:00<?, ?it/s]"
          ],
          "name": "stderr"
        },
        {
          "output_type": "stream",
          "text": [
            "Accuracy of the network on the test images: 45 %\n"
          ],
          "name": "stdout"
        },
        {
          "output_type": "stream",
          "text": [
            "100%|██████████| 825/825 [00:06<00:00, 128.03it/s]\n",
            "  0%|          | 0/3300 [00:00<?, ?it/s]"
          ],
          "name": "stderr"
        },
        {
          "output_type": "stream",
          "text": [
            "Accuracy of arctic_fox : 49 %\n",
            "Accuracy of     barrel : 30 %\n",
            "Accuracy of     cannon : 20 %\n",
            "Accuracy of      chime : 32 %\n",
            "Accuracy of      cliff : 40 %\n",
            "Accuracy of       clog : 32 %\n",
            "Accuracy of      crate : 30 %\n",
            "Accuracy of    cuirass : 48 %\n",
            "Accuracy of     dugong : 83 %\n",
            "Accuracy of        ear : 52 %\n",
            "Accuracy of frying_pan : 24 %\n",
            "Accuracy of harvestman : 69 %\n",
            "Accuracy of    holster : 28 %\n",
            "Accuracy of horizontal_bar : 41 %\n",
            "Accuracy of     hotdog : 64 %\n",
            "Accuracy of       iPod : 27 %\n",
            "Accuracy of  jellyfish : 57 %\n",
            "Accuracy of  miniskirt : 27 %\n",
            "Accuracy of    missile : 41 %\n",
            "Accuracy of mixing_bowl : 51 %\n",
            "Accuracy of   nematode : 34 %\n",
            "Accuracy of newfoundland : 33 %\n",
            "Accuracy of       oboe : 40 %\n",
            "Accuracy of      robin : 69 %\n",
            "Accuracy of     saluki : 39 %\n",
            "Accuracy of school_bus : 82 %\n",
            "Accuracy of theater_curtain : 74 %\n",
            "Accuracy of three_toed_sloth : 54 %\n",
            "Accuracy of tibetan_mastiff : 72 %\n",
            "Accuracy of    upright : 56 %\n",
            "Accuracy of walker_hound : 53 %\n",
            "Accuracy of        wok : 20 %\n",
            "Accuracy of worm_fence : 36 %\n",
            "epoch  20\n"
          ],
          "name": "stdout"
        },
        {
          "output_type": "stream",
          "text": [
            "100%|██████████| 3300/3300 [00:56<00:00, 58.45it/s]\n",
            "  0%|          | 0/825 [00:00<?, ?it/s]"
          ],
          "name": "stderr"
        },
        {
          "output_type": "stream",
          "text": [
            "epoch 20 training loss: 0.076\n"
          ],
          "name": "stdout"
        },
        {
          "output_type": "stream",
          "text": [
            "100%|██████████| 825/825 [00:06<00:00, 136.35it/s]\n",
            "  0%|          | 0/825 [00:00<?, ?it/s]"
          ],
          "name": "stderr"
        },
        {
          "output_type": "stream",
          "text": [
            "Accuracy of the network on the test images: 45 %\n"
          ],
          "name": "stdout"
        },
        {
          "output_type": "stream",
          "text": [
            "100%|██████████| 825/825 [00:06<00:00, 127.52it/s]\n",
            "  0%|          | 0/3300 [00:00<?, ?it/s]"
          ],
          "name": "stderr"
        },
        {
          "output_type": "stream",
          "text": [
            "Accuracy of arctic_fox : 46 %\n",
            "Accuracy of     barrel : 13 %\n",
            "Accuracy of     cannon : 38 %\n",
            "Accuracy of      chime : 37 %\n",
            "Accuracy of      cliff : 44 %\n",
            "Accuracy of       clog : 24 %\n",
            "Accuracy of      crate : 45 %\n",
            "Accuracy of    cuirass : 54 %\n",
            "Accuracy of     dugong : 60 %\n",
            "Accuracy of        ear : 42 %\n",
            "Accuracy of frying_pan : 31 %\n",
            "Accuracy of harvestman : 65 %\n",
            "Accuracy of    holster : 28 %\n",
            "Accuracy of horizontal_bar : 37 %\n",
            "Accuracy of     hotdog : 54 %\n",
            "Accuracy of       iPod : 32 %\n",
            "Accuracy of  jellyfish : 69 %\n",
            "Accuracy of  miniskirt : 29 %\n",
            "Accuracy of    missile : 35 %\n",
            "Accuracy of mixing_bowl : 45 %\n",
            "Accuracy of   nematode : 36 %\n",
            "Accuracy of newfoundland : 34 %\n",
            "Accuracy of       oboe : 39 %\n",
            "Accuracy of      robin : 68 %\n",
            "Accuracy of     saluki : 42 %\n",
            "Accuracy of school_bus : 91 %\n",
            "Accuracy of theater_curtain : 77 %\n",
            "Accuracy of three_toed_sloth : 72 %\n",
            "Accuracy of tibetan_mastiff : 52 %\n",
            "Accuracy of    upright : 54 %\n",
            "Accuracy of walker_hound : 39 %\n",
            "Accuracy of        wok : 26 %\n",
            "Accuracy of worm_fence : 42 %\n",
            "epoch  21\n"
          ],
          "name": "stdout"
        },
        {
          "output_type": "stream",
          "text": [
            "100%|██████████| 3300/3300 [00:56<00:00, 58.84it/s]\n",
            "  0%|          | 0/825 [00:00<?, ?it/s]"
          ],
          "name": "stderr"
        },
        {
          "output_type": "stream",
          "text": [
            "epoch 21 training loss: 0.079\n"
          ],
          "name": "stdout"
        },
        {
          "output_type": "stream",
          "text": [
            "100%|██████████| 825/825 [00:06<00:00, 135.70it/s]\n",
            "  0%|          | 0/825 [00:00<?, ?it/s]"
          ],
          "name": "stderr"
        },
        {
          "output_type": "stream",
          "text": [
            "Accuracy of the network on the test images: 44 %\n"
          ],
          "name": "stdout"
        },
        {
          "output_type": "stream",
          "text": [
            " 25%|██▍       | 205/825 [00:01<00:05, 123.59it/s]"
          ],
          "name": "stderr"
        }
      ]
    },
    {
      "cell_type": "code",
      "metadata": {
        "id": "5XhbC4vEVIvG"
      },
      "source": [
        "torch.save(net.state_dict(), './models/Final_Model_2.pth')"
      ],
      "execution_count": null,
      "outputs": []
    },
    {
      "cell_type": "code",
      "metadata": {
        "id": "qp7PO14w-Yp0"
      },
      "source": [
        "torch.save(net.state_dict(), '/content/drive/My Drive/Datasets/Final_Model_2.pth')"
      ],
      "execution_count": null,
      "outputs": []
    },
    {
      "cell_type": "code",
      "metadata": {
        "id": "C9TCJ-EIbkOC"
      },
      "source": [
        "import seaborn as sns"
      ],
      "execution_count": null,
      "outputs": []
    },
    {
      "cell_type": "markdown",
      "metadata": {
        "id": "jrs4rpXTPtQZ"
      },
      "source": [
        "class Net2(nn.Module):\n",
        "    def __init__(self):\n",
        "        super(Net2, self).__init__()\n",
        "\n",
        "        self.conv1 = nn.Conv2d(in_channels=3, out_channels=64, kernel_size=5)\n",
        "        self.pool = nn.MaxPool2d(kernel_size=5, stride=3)\n",
        "        self.conv2 = nn.Conv2d(in_channels=64, out_channels=128, kernel_size=5)\n",
        "        self.conv3 = nn.Conv2d(in_channels=128, out_channels=256, kernel_size=5)\n",
        "        self.fc1 = nn.Linear(in_features=256, out_features=33)      # change out_features according to number of classes\n",
        "\n",
        "    def forward(self, x):\n",
        "        x = self.pool(F.relu(self.conv1(x)))\n",
        "        x = self.pool(F.relu(self.conv2(x)))\n",
        "        x = self.pool(F.relu(self.conv3(x)))\n",
        "        x = F.avg_pool2d(x, kernel_size=x.shape[2:])\n",
        "        x = x.view(x.shape[0], -1)\n",
        "        x = self.fc1(x)\n",
        "        return x"
      ]
    },
    {
      "cell_type": "markdown",
      "metadata": {
        "id": "5dgV32dKe5Ro"
      },
      "source": [
        "#net = ResNet()\n",
        "net2 = Net2()\n",
        "\n",
        "# transfer the model to GPU\n",
        "if torch.cuda.is_available():\n",
        "    net2 = net2.cuda()"
      ]
    },
    {
      "cell_type": "markdown",
      "metadata": {
        "id": "BXK2gBtze8yB"
      },
      "source": [
        "criterion2 = nn.CrossEntropyLoss()\n",
        "optimizer2 = optim.SGD(net2.parameters(), lr=learning_rate, momentum=0.9, weight_decay=5e-4)\n",
        "\n",
        "num_params = np.sum([p.nelement() for p in net2.parameters()])\n",
        "print(num_params, ' parameters')"
      ]
    },
    {
      "cell_type": "markdown",
      "metadata": {
        "id": "J32dl6JHt2gn"
      },
      "source": [
        "num_epochs2 = 100"
      ]
    },
    {
      "cell_type": "markdown",
      "metadata": {
        "id": "69jzvlPQ_Xme"
      },
      "source": [
        "def train2(epoch, trainloader, optimizer, criterion):\n",
        "    running_loss = 0.0\n",
        "    for i, data in enumerate(tqdm(trainloader), 0):\n",
        "        # get the inputs\n",
        "        inputs, labels = data\n",
        "        if torch.cuda.is_available():\n",
        "            inputs, labels = inputs.cuda(), labels.cuda()\n",
        "\n",
        "        # zero the parameter gradients\n",
        "        optimizer.zero_grad()\n",
        "\n",
        "        # forward + backward + optimize\n",
        "        outputs = net2(inputs)\n",
        "        loss = criterion(outputs, labels)\n",
        "        loss.backward()\n",
        "        optimizer.step()\n",
        "\n",
        "        # print statistics\n",
        "        running_loss += loss.item()\n",
        "\n",
        "    print('epoch %d training loss: %.3f' %\n",
        "            (epoch + 1, running_loss / (len(trainloader))))"
      ]
    },
    {
      "cell_type": "markdown",
      "metadata": {
        "id": "XPuKTfnh_fxh"
      },
      "source": [
        "def test2(testloader, model):\n",
        "    correct = 0\n",
        "    total = 0\n",
        "    with torch.no_grad():\n",
        "        for data in tqdm(testloader):\n",
        "            images, labels = data\n",
        "            if torch.cuda.is_available():\n",
        "                images, labels = images.cuda(), labels.cuda()        \n",
        "            outputs = net2(images)\n",
        "            _, predicted = torch.max(outputs.data, 1)\n",
        "            total += labels.size(0)\n",
        "            correct += (predicted == labels).sum().item()\n",
        "\n",
        "    print('Accuracy of the network on the test images: %d %%' % (\n",
        "                                    100 * correct / total))\n",
        "    return (100*correct/total)"
      ]
    },
    {
      "cell_type": "markdown",
      "metadata": {
        "id": "xvj6bcKv_oMf"
      },
      "source": [
        "def classwise_test2(testloader, model):\n",
        "    classes, _ = find_classes(train_data_dir)\n",
        "    n_class = len(classes) # number of classes\n",
        "\n",
        "    class_correct = list(0. for i in range(n_class))\n",
        "    class_total = list(0. for i in range(n_class))\n",
        "    with torch.no_grad():\n",
        "        for data in tqdm(testloader):\n",
        "            images, labels = data\n",
        "            if torch.cuda.is_available():\n",
        "                images, labels = images.cuda(), labels.cuda()        \n",
        "            outputs = net2(images)\n",
        "            _, predicted = torch.max(outputs, 1)\n",
        "            c = (predicted == labels).squeeze()\n",
        "            for i in range(4):\n",
        "                label = labels[i]\n",
        "                class_correct[label] += c[i].item()\n",
        "                class_total[label] += 1\n",
        "\n",
        "    for i in range(n_class):\n",
        "        print('Accuracy of %10s : %2d %%' % (\n",
        "            classes[i], 100 * class_correct[i] / class_total[i]))"
      ]
    },
    {
      "cell_type": "markdown",
      "metadata": {
        "id": "8NMnx4-F9vlS"
      },
      "source": [
        "train_errors = []\n",
        "val_errors = []"
      ]
    },
    {
      "cell_type": "markdown",
      "metadata": {
        "id": "AYzyjhL1fPyI"
      },
      "source": [
        "print('Start Training')\n",
        "os.makedirs('./models', exist_ok=True)\n",
        "\n",
        "for epoch in range(num_epochs2):  # loop over the dataset multiple times\n",
        "    print('epoch ', epoch + 1)\n",
        "    train2(epoch, trainloader, optimizer2, criterion2)\n",
        "    test2(valloader, net2)\n",
        "    classwise_test2(valloader, net2)\n",
        "    # save model checkpoint \n",
        "    torch.save(net2.state_dict(), './models/model2-'+str(epoch)+'.pth')      \n",
        "\n",
        "print('performing test')\n",
        "test2(testloader, net2)\n",
        "classwise_test2(testloader, net2)\n",
        "\n",
        "print('Finished Training')"
      ]
    },
    {
      "cell_type": "code",
      "metadata": {
        "id": "MppD2omPmRRK",
        "colab": {
          "base_uri": "https://localhost:8080/",
          "height": 54
        },
        "outputId": "e82b7095-b6f2-4968-e3d5-96d077f3f0d1"
      },
      "source": [
        "import os\n",
        "k=0\n",
        "folder = \"/content/drive/My Drive/Datasets/3/test/theater_curtain/\"\n",
        "for filename in os.listdir(folder):\n",
        "  img = Image.open(folder + filename)\n",
        "  trans1 = transforms.ToTensor()\n",
        "  tensor = trans1(img)\n",
        "  input = (tensor.unsqueeze(0)).cuda()\n",
        "  output = net(input)  \n",
        "  if not (torch.eq(torch.max(output[0]), output[0][10])):\n",
        "    k+=1\n",
        "    print(filename)\n",
        "  if k ==2:\n",
        "    break"
      ],
      "execution_count": null,
      "outputs": [
        {
          "output_type": "stream",
          "text": [
            "n0441835700000851.jpg\n",
            "n0441835700000843.jpg\n"
          ],
          "name": "stdout"
        }
      ]
    },
    {
      "cell_type": "code",
      "metadata": {
        "id": "mMxduUhxeMFo",
        "colab": {
          "base_uri": "https://localhost:8080/",
          "height": 166
        },
        "outputId": "8d5720a5-5e07-41a6-f719-5022132a1f00"
      },
      "source": [
        "img = Image.open(\"/content/drive/My Drive/Datasets/3/test/theater_curtain/n0441835700000851.jpg\")\n",
        "print(type(img))\n",
        "trans1 = transforms.ToTensor()\n",
        "tensor = trans1(img)\n",
        "input = (tensor.unsqueeze(0)).cuda()\n",
        "output = net(input)  \n",
        "print(torch.max(output[0]))\n",
        "print(output[0])\n",
        "print(torch.eq(torch.max(output[0]), output[0][10]))"
      ],
      "execution_count": null,
      "outputs": [
        {
          "output_type": "stream",
          "text": [
            "<class 'PIL.JpegImagePlugin.JpegImageFile'>\n",
            "tensor(9.3926, device='cuda:0', grad_fn=<MaxBackward1>)\n",
            "tensor([-0.6653, -3.5559, -0.4938,  4.4987,  1.6962,  1.1809,  2.0780, -2.0070,\n",
            "         3.8930, -0.1977, -3.6705,  5.0937, -2.3125, -0.0881, -6.9735,  1.5067,\n",
            "         4.9451, -1.2821,  1.4358,  4.8600,  9.3926, -2.0716,  1.0182, -2.1787,\n",
            "        -2.4436, -0.8348, -0.9974, -2.0181, -6.4050, -3.1676, -1.5695, -4.5216,\n",
            "         5.8049], device='cuda:0', grad_fn=<SelectBackward>)\n",
            "tensor(False, device='cuda:0')\n"
          ],
          "name": "stdout"
        }
      ]
    },
    {
      "cell_type": "code",
      "metadata": {
        "id": "vCsNd99tmeqw",
        "colab": {
          "base_uri": "https://localhost:8080/",
          "height": 287
        },
        "outputId": "25da0709-1f4c-4c92-a07b-da89c0270e59"
      },
      "source": [
        "plt.imshow(img)"
      ],
      "execution_count": null,
      "outputs": [
        {
          "output_type": "execute_result",
          "data": {
            "text/plain": [
              "<matplotlib.image.AxesImage at 0x7f2e907751d0>"
            ]
          },
          "metadata": {
            "tags": []
          },
          "execution_count": 31
        },
        {
          "output_type": "display_data",
          "data": {
            "image/png": "[encoded data removed]",
            "text/plain": [
              "<Figure size 432x288 with 1 Axes>"
            ]
          },
          "metadata": {
            "tags": [],
            "needs_background": "light"
          }
        }
      ]
    }
  ]
}