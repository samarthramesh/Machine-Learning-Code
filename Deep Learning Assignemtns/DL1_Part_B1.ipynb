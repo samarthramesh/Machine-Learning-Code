{
  "nbformat": 4,
  "nbformat_minor": 0,
  "metadata": {
    "colab": {
      "name": "DL1 Part B1.ipynb",
      "provenance": [],
      "collapsed_sections": []
    },
    "kernelspec": {
      "name": "python3",
      "display_name": "Python 3"
    },
    "accelerator": "GPU"
  },
  "cells": [
    {
      "cell_type": "code",
      "metadata": {
        "id": "sKsI8E6Qd4Ue"
      },
      "source": [
        "import torch, os\n",
        "import torchvision\n",
        "import torchvision.transforms as transforms\n",
        "from tqdm import tqdm\n",
        "import numpy as np\n",
        "from PIL import Image\n",
        "import seaborn as sns"
      ],
      "execution_count": null,
      "outputs": []
    },
    {
      "cell_type": "code",
      "metadata": {
        "id": "X2NvwLaVeFDf",
        "colab": {
          "base_uri": "https://localhost:8080/",
          "height": 92
        },
        "outputId": "39029fc3-7931-4229-acf7-60610946aeeb"
      },
      "source": [
        "########################################################################\n",
        "# The output of torchvision datasets are PILImage images of range [0, 1].\n",
        "\n",
        "# Apply necessary image transfromations here \n",
        "\n",
        "transform = transforms.Compose([#torchvision.transforms.RandomAffine(degrees=(-10, 10), translate=(0.1, 0.1), scale=(0.8, 1.2)),\n",
        "                                #torchvision.transforms.ColorJitter(hue=.05, saturation=.05),\n",
        "                                #torchvision.transforms.RandomHorizontalFlip(),\n",
        "                                transforms.ToTensor(),\n",
        "                                transforms.Normalize(mean=[0.5,0.5,0.5], std=[0.5, 0.5, 0.5])])\n",
        "print(transform)"
      ],
      "execution_count": null,
      "outputs": [
        {
          "output_type": "stream",
          "text": [
            "Compose(\n",
            "    ToTensor()\n",
            "    Normalize(mean=[0.5, 0.5, 0.5], std=[0.5, 0.5, 0.5])\n",
            ")\n"
          ],
          "name": "stdout"
        }
      ]
    },
    {
      "cell_type": "code",
      "metadata": {
        "id": "aj4qBTV9eFq5"
      },
      "source": [
        "train_data_dir = '/content/drive/My Drive/Datasets/3/train' # put path of training dataset\n",
        "val_data_dir = '/content/drive/My Drive/Datasets/3/val' # put path of validation dataset\n",
        "test_data_dir = '/content/drive/My Drive/Datasets/3/test' # put path of test dataset\n",
        "\n",
        "trainset = torchvision.datasets.ImageFolder(root= train_data_dir, transform=transform)\n",
        "trainloader = torch.utils.data.DataLoader(trainset, batch_size=4,\n",
        "                                          shuffle=True, num_workers=4)\n",
        "\n",
        "valset = torchvision.datasets.ImageFolder(root= val_data_dir, transform=transform)\n",
        "valloader = torch.utils.data.DataLoader(valset, batch_size=4,\n",
        "                                         shuffle=False, num_workers=4)\n",
        "\n",
        "testset = torchvision.datasets.ImageFolder(root= test_data_dir, transform=transform)\n",
        "testloader = torch.utils.data.DataLoader(testset, batch_size=4,\n",
        "                                         shuffle=False, num_workers=4)"
      ],
      "execution_count": null,
      "outputs": []
    },
    {
      "cell_type": "code",
      "metadata": {
        "id": "SMLVEOfXeMkg"
      },
      "source": [
        "########################################################################\n",
        "# Define a Convolution Neural Network\n",
        "# ^^^^^^^^^^^^^^^^^^^^^^^^^^^^^^^^^^^^^^\n",
        "# Copy the neural network from the Neural Networks section before and modify it to\n",
        "# take 3-channel images (instead of 1-channel images as it was defined).\n",
        "\n",
        "import torch.nn as nn\n",
        "import torch.nn.functional as F\n",
        "import torchvision.models as models"
      ],
      "execution_count": null,
      "outputs": []
    },
    {
      "cell_type": "code",
      "metadata": {
        "id": "kiH8ZT6FePqs"
      },
      "source": [
        "# <<<<<<<<<<<<<<<<<<<<< EDIT THE MODEL DEFINITION >>>>>>>>>>>>>>>>>>>>>>>>>>\n",
        "# Try experimenting by changing the following:\n",
        "# 1. number of feature maps in conv layer\n",
        "# 2. Number of conv layers\n",
        "# 3. Kernel size\n",
        "# etc etc.,\n",
        "   \n",
        "\n",
        "class Net(nn.Module):\n",
        "    def __init__(self):\n",
        "        super(Net, self).__init__()\n",
        "\n",
        "        self.conv1 = nn.Conv2d(in_channels=3, out_channels=128, kernel_size=5)\n",
        "        self.pool = nn.MaxPool2d(kernel_size=3, stride=2)\n",
        "        self.conv2 = nn.Conv2d(in_channels=128, out_channels=256, kernel_size=5)\n",
        "        self.conv3 = nn.Conv2d(in_channels=256, out_channels=512, kernel_size=5)\n",
        "        self.fc3 = nn.Linear(in_features=512, out_features=33)      # change out_features according to number of classes\n",
        "\n",
        "    def forward(self, x):\n",
        "        x = self.pool(F.relu(self.conv1(x)))\n",
        "        x = self.pool(F.relu(self.conv2(x)))\n",
        "        x = self.pool(F.relu(self.conv3(x)))\n",
        "        x = F.avg_pool2d(x, kernel_size=x.shape[2:])\n",
        "        x = x.view(x.shape[0], -1)\n",
        "        x = self.fc3(x)\n",
        "        return x\n"
      ],
      "execution_count": null,
      "outputs": []
    },
    {
      "cell_type": "code",
      "metadata": {
        "id": "V4IYpIWPeWCW"
      },
      "source": [
        "################### DO NOT EDIT THE BELOW CODE!!! #######################\n",
        "\n",
        "#net = ResNet()\n",
        "net = Net()\n",
        "\n",
        "# transfer the model to GPU\n",
        "if torch.cuda.is_available():\n",
        "    net = net.cuda()"
      ],
      "execution_count": null,
      "outputs": []
    },
    {
      "cell_type": "code",
      "metadata": {
        "id": "4UqORdf8exED",
        "colab": {
          "base_uri": "https://localhost:8080/",
          "height": 148
        },
        "outputId": "6ca118b9-704a-47cf-a72b-9365a3d89035"
      },
      "source": [
        "net.load_state_dict(torch.load('/content/drive/My Drive/Datasets/Final_Model.pth'))\n",
        "net.eval()"
      ],
      "execution_count": null,
      "outputs": [
        {
          "output_type": "execute_result",
          "data": {
            "text/plain": [
              "Net(\n",
              "  (conv1): Conv2d(3, 128, kernel_size=(5, 5), stride=(1, 1))\n",
              "  (pool): MaxPool2d(kernel_size=3, stride=2, padding=0, dilation=1, ceil_mode=False)\n",
              "  (conv2): Conv2d(128, 256, kernel_size=(5, 5), stride=(1, 1))\n",
              "  (conv3): Conv2d(256, 512, kernel_size=(5, 5), stride=(1, 1))\n",
              "  (fc3): Linear(in_features=512, out_features=33, bias=True)\n",
              ")"
            ]
          },
          "metadata": {
            "tags": []
          },
          "execution_count": 7
        }
      ]
    },
    {
      "cell_type": "code",
      "metadata": {
        "id": "BwIBhUJRjdh3"
      },
      "source": [
        "def occlusion(model, image, label, occ_size = 50, occ_stride = 50, occ_pixel = 0.5):\n",
        "  \n",
        "    #get the width and height of the image\n",
        "    width, height = image.shape[-2], image.shape[-1]\n",
        "  \n",
        "    #setting the output image width and height\n",
        "    output_height = int(np.ceil((height-occ_size)/occ_stride))\n",
        "    output_width = int(np.ceil((width-occ_size)/occ_stride))\n",
        "  \n",
        "    #create a white image of sizes we defined\n",
        "    heatmap = torch.zeros((output_height, output_width))\n",
        "    \n",
        "    #iterate all the pixels in each column\n",
        "    for h in range(0, height):\n",
        "        for w in range(0, width):\n",
        "            \n",
        "            h_start = h*occ_stride\n",
        "            w_start = w*occ_stride\n",
        "            h_end = min(height, h_start + occ_size)\n",
        "            w_end = min(width, w_start + occ_size)\n",
        "            \n",
        "            if (w_end) >= width or (h_end) >= height:\n",
        "                continue\n",
        "            \n",
        "            input_image = image.clone().detach()\n",
        "            \n",
        "            #replacing all the pixel information in the image with occ_pixel(grey) in the specified location\n",
        "            input_image[:, w_start:w_end, h_start:h_end] = occ_pixel\n",
        "\n",
        "            input_image = (torch.unsqueeze(input_image, 0)).cuda()\n",
        "            \n",
        "            #run inference on modified image\n",
        "            output = model(input_image)\n",
        "            output = nn.functional.softmax(output, dim=1)\n",
        "            prob = output.tolist()[0][label]\n",
        "            \n",
        "            #setting the heatmap location to probability value\n",
        "            heatmap[h, w] = prob \n",
        "\n",
        "    return heatmap\n",
        "#This function was adapted from https://towardsdatascience.com/visualizing-convolution-neural-networks-using-pytorch-3dfa8443e74e"
      ],
      "execution_count": null,
      "outputs": []
    },
    {
      "cell_type": "code",
      "metadata": {
        "id": "CM7OTT4rnjN8"
      },
      "source": [
        "def plot_heatmap(model, image, label, occ_size = 3, occ_stride = 1, occ_pixel = 0.5):\n",
        "  heatmap = occlusion(model, image, label, occ_size, occ_stride, occ_pixel)\n",
        "\n",
        "  #displaying the image using seaborn heatmap and also setting the maximum value of gradient to probability\n",
        "  imgplot = sns.heatmap(heatmap, xticklabels=False, yticklabels=False)\n",
        "  figure = imgplot.get_figure()"
      ],
      "execution_count": null,
      "outputs": []
    },
    {
      "cell_type": "code",
      "metadata": {
        "id": "-PmbKt2TiGGB",
        "colab": {
          "base_uri": "https://localhost:8080/",
          "height": 54
        },
        "outputId": "db7ef14f-6635-41ef-a94f-3cad28ad0a6f"
      },
      "source": [
        "import os\n",
        "k=0\n",
        "folder = \"/content/drive/My Drive/Datasets/3/test/frying_pan/\"\n",
        "for filename in os.listdir(folder):\n",
        "  img = Image.open(folder + filename)\n",
        "  trans1 = transforms.ToTensor()\n",
        "  tensor = trans1(img)\n",
        "  input = (tensor.unsqueeze(0)).cuda()\n",
        "  output = net(input)  \n",
        "  if torch.eq(torch.max(output[0]), output[0][10]):\n",
        "    k+=1\n",
        "    print(filename)\n",
        "  if k ==2:\n",
        "    break\n"
      ],
      "execution_count": null,
      "outputs": [
        {
          "output_type": "stream",
          "text": [
            "n0340023100000822.jpg\n",
            "n0340023100000844.jpg\n"
          ],
          "name": "stdout"
        }
      ]
    },
    {
      "cell_type": "code",
      "metadata": {
        "id": "ImKJ2lvte-QT",
        "colab": {
          "base_uri": "https://localhost:8080/",
          "height": 166
        },
        "outputId": "45324bf1-2a29-49b0-e155-c09e227bda52"
      },
      "source": [
        "img = Image.open(\"/content/drive/My Drive/Datasets/3/test/frying_pan/n0340023100000844.jpg\")\n",
        "print(type(img))\n",
        "trans1 = transforms.ToTensor()\n",
        "tensor = trans1(img)\n",
        "input = (tensor.unsqueeze(0)).cuda()\n",
        "output = net(input)  \n",
        "print(torch.max(output[0]))\n",
        "print(output[0])\n",
        "print(torch.eq(torch.max(output[0]), output[0][10]))"
      ],
      "execution_count": null,
      "outputs": [
        {
          "output_type": "stream",
          "text": [
            "<class 'PIL.JpegImagePlugin.JpegImageFile'>\n",
            "tensor(5.6470, device='cuda:0', grad_fn=<MaxBackward1>)\n",
            "tensor([ 1.7186,  4.3766, -4.6335,  1.9029, -0.4405,  3.4578,  1.3772,  0.2593,\n",
            "         2.4365, -1.5706,  5.6470,  0.9799, -3.1920, -1.5036, -2.8335,  3.1338,\n",
            "        -0.3243, -3.4037,  3.1597,  5.2929,  3.1672, -3.0863, -0.9179, -1.6296,\n",
            "         0.0882, -1.1678, -3.3321, -1.9664, -5.2096, -1.8843,  0.7884, -0.1084,\n",
            "         0.0615], device='cuda:0', grad_fn=<SelectBackward>)\n",
            "tensor(True, device='cuda:0')\n"
          ],
          "name": "stdout"
        }
      ]
    },
    {
      "cell_type": "code",
      "metadata": {
        "id": "cqTtLyBmptm3",
        "colab": {
          "base_uri": "https://localhost:8080/",
          "height": 248
        },
        "outputId": "3d0f81bd-5573-4520-9cf9-af6e29db253e"
      },
      "source": [
        "plot_heatmap(net, trans1(img), 10)"
      ],
      "execution_count": null,
      "outputs": [
        {
          "output_type": "display_data",
          "data": {
            "image/png": "[encoded data removed]",
            "text/plain": [
              "<Figure size 432x288 with 2 Axes>"
            ]
          },
          "metadata": {
            "tags": [],
            "needs_background": "light"
          }
        }
      ]
    }
  ]
}