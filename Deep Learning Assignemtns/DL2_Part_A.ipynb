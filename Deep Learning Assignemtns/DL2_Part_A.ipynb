{
  "nbformat": 4,
  "nbformat_minor": 0,
  "metadata": {
    "colab": {
      "name": "DL2 Part A.ipynb",
      "provenance": [],
      "collapsed_sections": []
    },
    "kernelspec": {
      "name": "python3",
      "display_name": "Python 3"
    },
    "accelerator": "GPU"
  },
  "cells": [
    {
      "cell_type": "code",
      "metadata": {
        "id": "S3phFs4_DIIi"
      },
      "source": [
        "import torch, os\n",
        "import torchvision\n",
        "import torchvision.transforms as transforms\n",
        "from tqdm import tqdm\n",
        "import numpy as np"
      ],
      "execution_count": null,
      "outputs": []
    },
    {
      "cell_type": "code",
      "metadata": {
        "id": "JjpA0l9hDj-z",
        "colab": {
          "base_uri": "https://localhost:8080/"
        },
        "outputId": "1195f4f8-ac8f-4e40-cbae-01d758b72f97"
      },
      "source": [
        "########################################################################\n",
        "# The output of torchvision datasets are PILImage images of range [0, 1].\n",
        "\n",
        "# Apply necessary image transfromations here \n",
        "\n",
        "transform = transforms.Compose([#torchvision.transforms.RandomAffine(degrees=(-10, 10), translate=(0.1, 0.1), scale=(0.8, 1.2)),\n",
        "                                #torchvision.transforms.ColorJitter(hue=.05, saturation=.05),\n",
        "                                #torchvision.transforms.RandomHorizontalFlip(),\n",
        "                                transforms.ToTensor(),\n",
        "                                transforms.Normalize(mean=[0.5,0.5,0.5], std=[0.5, 0.5, 0.5])])\n",
        "print(transform)"
      ],
      "execution_count": null,
      "outputs": [
        {
          "output_type": "stream",
          "text": [
            "Compose(\n",
            "    ToTensor()\n",
            "    Normalize(mean=[0.5, 0.5, 0.5], std=[0.5, 0.5, 0.5])\n",
            ")\n"
          ],
          "name": "stdout"
        }
      ]
    },
    {
      "cell_type": "code",
      "metadata": {
        "id": "K_geFYJLDoi0"
      },
      "source": [
        "train_data_dir = '/content/drive/My Drive/Datasets/3/train' # put path of training dataset\n",
        "val_data_dir = '/content/drive/My Drive/Datasets/3/val' # put path of validation dataset\n",
        "test_data_dir = '/content/drive/My Drive/Datasets/3/test' # put path of test dataset\n",
        "\n",
        "trainset = torchvision.datasets.ImageFolder(root= train_data_dir, transform=transform)\n",
        "trainloader = torch.utils.data.DataLoader(trainset, batch_size=8,\n",
        "                                          shuffle=True, num_workers=8)\n",
        "\n",
        "valset = torchvision.datasets.ImageFolder(root= val_data_dir, transform=transform)\n",
        "valloader = torch.utils.data.DataLoader(valset, batch_size=8,\n",
        "                                         shuffle=False, num_workers=8)\n",
        "\n",
        "testset = torchvision.datasets.ImageFolder(root= test_data_dir, transform=transform)\n",
        "testloader = torch.utils.data.DataLoader(testset, batch_size=8,\n",
        "                                         shuffle=False, num_workers=8)"
      ],
      "execution_count": null,
      "outputs": []
    },
    {
      "cell_type": "code",
      "metadata": {
        "id": "pn1_DhybD6pk"
      },
      "source": [
        "########################################################################\n",
        "# Define a Convolution Neural Network\n",
        "# ^^^^^^^^^^^^^^^^^^^^^^^^^^^^^^^^^^^^^^\n",
        "# Copy the neural network from the Neural Networks section before and modify it to\n",
        "# take 3-channel images (instead of 1-channel images as it was defined).\n",
        "\n",
        "import torch.nn as nn\n",
        "import torch.nn.functional as F\n",
        "import torchvision.models as models"
      ],
      "execution_count": null,
      "outputs": []
    },
    {
      "cell_type": "code",
      "metadata": {
        "id": "E_Y2EX559YDW"
      },
      "source": [
        "num_epochs = 50         # desired number of training epochs.\n",
        "learning_rate = 0.001"
      ],
      "execution_count": null,
      "outputs": []
    },
    {
      "cell_type": "code",
      "metadata": {
        "id": "B3U4NJa5D_Q1"
      },
      "source": [
        "# <<<<<<<<<<<<<<<<<<<<< EDIT THE MODEL DEFINITION >>>>>>>>>>>>>>>>>>>>>>>>>>\n",
        "# Try experimenting by changing the following:\n",
        "# 1. number of feature maps in conv layer\n",
        "# 2. Number of conv layers\n",
        "# 3. Kernel size\n",
        "# etc etc.,\n",
        "   \n",
        "\n",
        "class Net(nn.Module):\n",
        "    def __init__(self):\n",
        "        super(Net, self).__init__()\n",
        "\n",
        "        self.conv1 = nn.Conv2d(in_channels=3, out_channels=128, kernel_size=5)\n",
        "        self.pool = nn.MaxPool2d(kernel_size=3, stride=2)\n",
        "        self.conv2 = nn.Conv2d(in_channels=128, out_channels=256, kernel_size=5)\n",
        "        self.conv3 = nn.Conv2d(in_channels=256, out_channels=512, kernel_size=5)\n",
        "        self.fc3 = nn.Linear(in_features=512, out_features=33)      # change out_features according to number of classes\n",
        "\n",
        "    def forward(self, x):\n",
        "        x = self.pool(F.relu(self.conv1(x)))\n",
        "        x = self.pool(F.relu(self.conv2(x)))\n",
        "        x = self.pool(F.relu(self.conv3(x)))\n",
        "        x = F.avg_pool2d(x, kernel_size=x.shape[2:])\n",
        "        x = x.view(x.shape[0], -1)\n",
        "        x = self.fc3(x)\n",
        "        return x\n"
      ],
      "execution_count": null,
      "outputs": []
    },
    {
      "cell_type": "code",
      "metadata": {
        "id": "zctr-jbSEBsZ"
      },
      "source": [
        "################### DO NOT EDIT THE BELOW CODE!!! #######################\n",
        "\n",
        "#net = ResNet()\n",
        "net = Net()\n",
        "\n",
        "# transfer the model to GPU\n",
        "if torch.cuda.is_available():\n",
        "    net = net.cuda()"
      ],
      "execution_count": null,
      "outputs": []
    },
    {
      "cell_type": "code",
      "metadata": {
        "id": "nepqEx9h9PDE"
      },
      "source": [
        "import torch.optim as optim"
      ],
      "execution_count": null,
      "outputs": []
    },
    {
      "cell_type": "code",
      "metadata": {
        "id": "KM6INFI-EG4p",
        "colab": {
          "base_uri": "https://localhost:8080/"
        },
        "outputId": "dbc1cdce-b800-4e6c-eb4c-fcdb0f5e1c06"
      },
      "source": [
        "########################################################################\n",
        "# Define a Loss function and optimizer\n",
        "# ^^^^^^^^^^^^^^^^^^^^^^^^^^^^^^^^^^^^^^^\n",
        "# Let's use a Classification Cross-Entropy loss and SGD with momentum.\n",
        "\n",
        "criterion = nn.CrossEntropyLoss()\n",
        "optimizer = optim.SGD(net.parameters(), lr=learning_rate, momentum=0.9, weight_decay=5e-4)\n",
        "\n",
        "num_params = np.sum([p.nelement() for p in net.parameters()])\n",
        "print(num_params, ' parameters')"
      ],
      "execution_count": null,
      "outputs": [
        {
          "output_type": "stream",
          "text": [
            "4123425  parameters\n"
          ],
          "name": "stdout"
        }
      ]
    },
    {
      "cell_type": "code",
      "metadata": {
        "id": "ljOSo51mEMNw"
      },
      "source": [
        "########################################################################\n",
        "# Train the network\n",
        "# ^^^^^^^^^^^^^^^^^^^^\n",
        "\n",
        "def train(epoch, trainloader, optimizer, criterion):\n",
        "    running_loss = 0.0\n",
        "    for i, data in enumerate(tqdm(trainloader), 0):\n",
        "        # get the inputs\n",
        "        inputs, labels = data\n",
        "        if torch.cuda.is_available():\n",
        "            inputs, labels = inputs.cuda(), labels.cuda()\n",
        "\n",
        "        # zero the parameter gradients\n",
        "        optimizer.zero_grad()\n",
        "\n",
        "        # forward + backward + optimize\n",
        "        outputs = net(inputs)\n",
        "        loss = criterion(outputs, labels)\n",
        "        loss.backward()\n",
        "        optimizer.step()\n",
        "\n",
        "        # print statistics\n",
        "        running_loss += loss.item()\n",
        "\n",
        "    print('epoch %d training loss: %.3f' %\n",
        "            (epoch + 1, running_loss / (len(trainloader))))"
      ],
      "execution_count": null,
      "outputs": []
    },
    {
      "cell_type": "code",
      "metadata": {
        "id": "9SwV6s76EQyR"
      },
      "source": [
        "########################################################################\n",
        "# Let us look at how the network performs on the test dataset.\n",
        "\n",
        "def test(testloader, model):\n",
        "    correct = 0\n",
        "    total = 0\n",
        "    with torch.no_grad():\n",
        "        for data in tqdm(testloader):\n",
        "            images, labels = data\n",
        "            if torch.cuda.is_available():\n",
        "                images, labels = images.cuda(), labels.cuda()        \n",
        "            outputs = net(images)\n",
        "            _, predicted = torch.max(outputs.data, 1)\n",
        "            total += labels.size(0)\n",
        "            correct += (predicted == labels).sum().item()\n",
        "\n",
        "    print('Accuracy of the network on the test images: %d %%' % (\n",
        "                                    100 * correct / total))\n",
        "    return (100 * correct / total)"
      ],
      "execution_count": null,
      "outputs": []
    },
    {
      "cell_type": "code",
      "metadata": {
        "id": "DN8V-JVMES5K"
      },
      "source": [
        "#########################################################################\n",
        "# get details of classes and class to index mapping in a directory\n",
        "def find_classes(dir):\n",
        "    classes = [d for d in os.listdir(dir) if os.path.isdir(os.path.join(dir, d))]\n",
        "    classes.sort()\n",
        "    class_to_idx = {classes[i]: i for i in range(len(classes))}\n",
        "    return classes, class_to_idx"
      ],
      "execution_count": null,
      "outputs": []
    },
    {
      "cell_type": "code",
      "metadata": {
        "id": "cp3MD4usEpCE"
      },
      "source": [
        "########################################################################\n",
        "# class-wise accuracy\n",
        "def classwise_test(testloader, model):\n",
        "    classes, _ = find_classes(train_data_dir)\n",
        "    n_class = len(classes) # number of classes\n",
        "\n",
        "    class_correct = list(0. for i in range(n_class))\n",
        "    class_total = list(0. for i in range(n_class))\n",
        "    with torch.no_grad():\n",
        "        for data in tqdm(testloader):\n",
        "            images, labels = data\n",
        "            if torch.cuda.is_available():\n",
        "                images, labels = images.cuda(), labels.cuda()        \n",
        "            outputs = net(images)\n",
        "            _, predicted = torch.max(outputs, 1)\n",
        "            c = (predicted == labels).squeeze()\n",
        "            for i in range(4):\n",
        "                label = labels[i]\n",
        "                class_correct[label] += c[i].item()\n",
        "                class_total[label] += 1\n",
        "\n",
        "    for i in range(n_class):\n",
        "        print('Accuracy of %10s : %2d %%' % (\n",
        "            classes[i], 100 * class_correct[i] / class_total[i]))"
      ],
      "execution_count": null,
      "outputs": []
    },
    {
      "cell_type": "code",
      "metadata": {
        "id": "XdOXQV4-yNEn",
        "colab": {
          "base_uri": "https://localhost:8080/"
        },
        "outputId": "46208a7e-845a-4d5f-f086-88cbc852e8f4"
      },
      "source": [
        "values = [5e-5, 7.5e-5, 1e-4, 2.5e-4, 3.75e-4, 5e-4, 7.5e-4, 1e-3, 2.5e-3, 5e-3, 7.5e-3, 1e-2]\n",
        "\n",
        "results = open('/content/drive/My Drive/Models/WD_Results.txt', mode='w')\n",
        "for i in range(len(values)):\n",
        "\n",
        "  net = Net()\n",
        "\n",
        "# transfer the model to GPU\n",
        "  if torch.cuda.is_available():\n",
        "    net = net.cuda()\n",
        "\n",
        "  opt_val = values[i]\n",
        "  optimizerx = optim.SGD(net.parameters(), lr=learning_rate, momentum=0.9, weight_decay=opt_val)\n",
        "\n",
        "\n",
        "  print('Optimiser Weight Decay:' + str(opt_val))\n",
        "  print('Start Training')\n",
        "  os.makedirs('./models', exist_ok=True)\n",
        "\n",
        "  train_accs = []\n",
        "  test_accs = []\n",
        "\n",
        "  for epoch in range(num_epochs):  # loop over the dataset multiple times\n",
        "      print('epoch ', epoch + 1)\n",
        "      train(epoch, trainloader, optimizerx, criterion)\n",
        "      train_acc = test(trainloader, net)\n",
        "      test_acc = test(valloader, net)\n",
        "      train_accs.append(train_acc)\n",
        "      test_accs.append(test_acc)\n",
        "      #classwise_test(valloader, net)\n",
        "      # save model checkpoint \n",
        "      torch.save(net.state_dict(), './models/model-'+str(epoch)+'.pth')      \n",
        "\n",
        "  print('performing test')\n",
        "  acc = test(testloader, net)\n",
        "  classwise_test(testloader, net)\n",
        "\n",
        "  print('Finished Training')\n",
        "\n",
        "  print(train_accs)\n",
        "  print(test_accs)\n",
        "\n",
        "  results.write(str(train_accs))\n",
        "  results.write(str(train_accs))\n",
        "  results.write('Weight Decay: ' + str(opt_val) + \" Accuracy: \" + str(acc) + '%')\n",
        "  torch.save(net.state_dict(), '/content/drive/My Drive/Models/Optimiser_' + str(opt_val) + '.pth')\n",
        "\n",
        "results.close()"
      ],
      "execution_count": null,
      "outputs": [
        {
          "output_type": "stream",
          "text": [
            "\r  0%|          | 0/1650 [00:00<?, ?it/s]"
          ],
          "name": "stderr"
        },
        {
          "output_type": "stream",
          "text": [
            "Optimiser Weight Decay:0.01\n",
            "Start Training\n",
            "epoch  1\n"
          ],
          "name": "stdout"
        },
        {
          "output_type": "stream",
          "text": [
            "100%|██████████| 1650/1650 [00:46<00:00, 35.76it/s]\n",
            "  0%|          | 0/1650 [00:00<?, ?it/s]"
          ],
          "name": "stderr"
        },
        {
          "output_type": "stream",
          "text": [
            "epoch 1 training loss: 3.203\n"
          ],
          "name": "stdout"
        },
        {
          "output_type": "stream",
          "text": [
            "100%|██████████| 1650/1650 [00:17<00:00, 95.25it/s]\n",
            "  0%|          | 0/413 [00:00<?, ?it/s]"
          ],
          "name": "stderr"
        },
        {
          "output_type": "stream",
          "text": [
            "Accuracy of the network on the test images: 17 %\n"
          ],
          "name": "stdout"
        },
        {
          "output_type": "stream",
          "text": [
            "100%|██████████| 413/413 [00:04<00:00, 91.38it/s] \n",
            "  0%|          | 0/1650 [00:00<?, ?it/s]"
          ],
          "name": "stderr"
        },
        {
          "output_type": "stream",
          "text": [
            "Accuracy of the network on the test images: 18 %\n",
            "epoch  2\n"
          ],
          "name": "stdout"
        },
        {
          "output_type": "stream",
          "text": [
            "100%|██████████| 1650/1650 [00:46<00:00, 35.25it/s]\n",
            "  0%|          | 0/1650 [00:00<?, ?it/s]"
          ],
          "name": "stderr"
        },
        {
          "output_type": "stream",
          "text": [
            "epoch 2 training loss: 2.899\n"
          ],
          "name": "stdout"
        },
        {
          "output_type": "stream",
          "text": [
            "100%|██████████| 1650/1650 [00:17<00:00, 96.88it/s] \n",
            "  0%|          | 0/413 [00:00<?, ?it/s]"
          ],
          "name": "stderr"
        },
        {
          "output_type": "stream",
          "text": [
            "Accuracy of the network on the test images: 20 %\n"
          ],
          "name": "stdout"
        },
        {
          "output_type": "stream",
          "text": [
            "100%|██████████| 413/413 [00:04<00:00, 86.75it/s]\n",
            "  0%|          | 0/1650 [00:00<?, ?it/s]"
          ],
          "name": "stderr"
        },
        {
          "output_type": "stream",
          "text": [
            "Accuracy of the network on the test images: 19 %\n",
            "epoch  3\n"
          ],
          "name": "stdout"
        },
        {
          "output_type": "stream",
          "text": [
            "100%|██████████| 1650/1650 [00:47<00:00, 35.01it/s]\n",
            "  0%|          | 0/1650 [00:00<?, ?it/s]"
          ],
          "name": "stderr"
        },
        {
          "output_type": "stream",
          "text": [
            "epoch 3 training loss: 2.763\n"
          ],
          "name": "stdout"
        },
        {
          "output_type": "stream",
          "text": [
            "100%|██████████| 1650/1650 [00:16<00:00, 97.57it/s] \n",
            "  0%|          | 0/413 [00:00<?, ?it/s]"
          ],
          "name": "stderr"
        },
        {
          "output_type": "stream",
          "text": [
            "Accuracy of the network on the test images: 24 %\n"
          ],
          "name": "stdout"
        },
        {
          "output_type": "stream",
          "text": [
            "100%|██████████| 413/413 [00:04<00:00, 94.71it/s] \n",
            "  0%|          | 0/1650 [00:00<?, ?it/s]"
          ],
          "name": "stderr"
        },
        {
          "output_type": "stream",
          "text": [
            "Accuracy of the network on the test images: 22 %\n",
            "epoch  4\n"
          ],
          "name": "stdout"
        },
        {
          "output_type": "stream",
          "text": [
            "100%|██████████| 1650/1650 [00:47<00:00, 34.86it/s]\n",
            "  0%|          | 0/1650 [00:00<?, ?it/s]"
          ],
          "name": "stderr"
        },
        {
          "output_type": "stream",
          "text": [
            "epoch 4 training loss: 2.668\n"
          ],
          "name": "stdout"
        },
        {
          "output_type": "stream",
          "text": [
            "100%|██████████| 1650/1650 [00:16<00:00, 98.95it/s] \n",
            "  0%|          | 0/413 [00:00<?, ?it/s]"
          ],
          "name": "stderr"
        },
        {
          "output_type": "stream",
          "text": [
            "Accuracy of the network on the test images: 28 %\n"
          ],
          "name": "stdout"
        },
        {
          "output_type": "stream",
          "text": [
            "100%|██████████| 413/413 [00:04<00:00, 88.84it/s]\n",
            "  0%|          | 0/1650 [00:00<?, ?it/s]"
          ],
          "name": "stderr"
        },
        {
          "output_type": "stream",
          "text": [
            "Accuracy of the network on the test images: 26 %\n",
            "epoch  5\n"
          ],
          "name": "stdout"
        },
        {
          "output_type": "stream",
          "text": [
            "100%|██████████| 1650/1650 [00:47<00:00, 34.78it/s]\n",
            "  0%|          | 0/1650 [00:00<?, ?it/s]"
          ],
          "name": "stderr"
        },
        {
          "output_type": "stream",
          "text": [
            "epoch 5 training loss: 2.588\n"
          ],
          "name": "stdout"
        },
        {
          "output_type": "stream",
          "text": [
            "100%|██████████| 1650/1650 [00:17<00:00, 97.04it/s] \n",
            "  0%|          | 0/413 [00:00<?, ?it/s]"
          ],
          "name": "stderr"
        },
        {
          "output_type": "stream",
          "text": [
            "Accuracy of the network on the test images: 29 %\n"
          ],
          "name": "stdout"
        },
        {
          "output_type": "stream",
          "text": [
            "100%|██████████| 413/413 [00:04<00:00, 94.09it/s] \n",
            "  0%|          | 0/1650 [00:00<?, ?it/s]"
          ],
          "name": "stderr"
        },
        {
          "output_type": "stream",
          "text": [
            "Accuracy of the network on the test images: 28 %\n",
            "epoch  6\n"
          ],
          "name": "stdout"
        },
        {
          "output_type": "stream",
          "text": [
            "100%|██████████| 1650/1650 [00:47<00:00, 34.67it/s]\n",
            "  0%|          | 0/1650 [00:00<?, ?it/s]"
          ],
          "name": "stderr"
        },
        {
          "output_type": "stream",
          "text": [
            "epoch 6 training loss: 2.534\n"
          ],
          "name": "stdout"
        },
        {
          "output_type": "stream",
          "text": [
            "100%|██████████| 1650/1650 [00:16<00:00, 97.60it/s] \n",
            "  0%|          | 0/413 [00:00<?, ?it/s]"
          ],
          "name": "stderr"
        },
        {
          "output_type": "stream",
          "text": [
            "Accuracy of the network on the test images: 31 %\n"
          ],
          "name": "stdout"
        },
        {
          "output_type": "stream",
          "text": [
            "100%|██████████| 413/413 [00:04<00:00, 91.44it/s] \n",
            "  0%|          | 0/1650 [00:00<?, ?it/s]"
          ],
          "name": "stderr"
        },
        {
          "output_type": "stream",
          "text": [
            "Accuracy of the network on the test images: 31 %\n",
            "epoch  7\n"
          ],
          "name": "stdout"
        },
        {
          "output_type": "stream",
          "text": [
            "100%|██████████| 1650/1650 [00:47<00:00, 34.79it/s]\n",
            "  0%|          | 0/1650 [00:00<?, ?it/s]"
          ],
          "name": "stderr"
        },
        {
          "output_type": "stream",
          "text": [
            "epoch 7 training loss: 2.485\n"
          ],
          "name": "stdout"
        },
        {
          "output_type": "stream",
          "text": [
            "100%|██████████| 1650/1650 [00:17<00:00, 96.83it/s] \n",
            "  0%|          | 0/413 [00:00<?, ?it/s]"
          ],
          "name": "stderr"
        },
        {
          "output_type": "stream",
          "text": [
            "Accuracy of the network on the test images: 32 %\n"
          ],
          "name": "stdout"
        },
        {
          "output_type": "stream",
          "text": [
            "100%|██████████| 413/413 [00:04<00:00, 91.92it/s] \n",
            "  0%|          | 0/1650 [00:00<?, ?it/s]"
          ],
          "name": "stderr"
        },
        {
          "output_type": "stream",
          "text": [
            "Accuracy of the network on the test images: 31 %\n",
            "epoch  8\n"
          ],
          "name": "stdout"
        },
        {
          "output_type": "stream",
          "text": [
            "100%|██████████| 1650/1650 [00:47<00:00, 34.83it/s]\n",
            "  0%|          | 0/1650 [00:00<?, ?it/s]"
          ],
          "name": "stderr"
        },
        {
          "output_type": "stream",
          "text": [
            "epoch 8 training loss: 2.430\n"
          ],
          "name": "stdout"
        },
        {
          "output_type": "stream",
          "text": [
            "100%|██████████| 1650/1650 [00:16<00:00, 97.68it/s] \n",
            "  0%|          | 0/413 [00:00<?, ?it/s]"
          ],
          "name": "stderr"
        },
        {
          "output_type": "stream",
          "text": [
            "Accuracy of the network on the test images: 31 %\n"
          ],
          "name": "stdout"
        },
        {
          "output_type": "stream",
          "text": [
            "100%|██████████| 413/413 [00:04<00:00, 92.10it/s] \n",
            "  0%|          | 0/1650 [00:00<?, ?it/s]"
          ],
          "name": "stderr"
        },
        {
          "output_type": "stream",
          "text": [
            "Accuracy of the network on the test images: 30 %\n",
            "epoch  9\n"
          ],
          "name": "stdout"
        },
        {
          "output_type": "stream",
          "text": [
            "100%|██████████| 1650/1650 [00:47<00:00, 34.68it/s]\n",
            "  0%|          | 0/1650 [00:00<?, ?it/s]"
          ],
          "name": "stderr"
        },
        {
          "output_type": "stream",
          "text": [
            "epoch 9 training loss: 2.399\n"
          ],
          "name": "stdout"
        },
        {
          "output_type": "stream",
          "text": [
            "100%|██████████| 1650/1650 [00:16<00:00, 97.33it/s] \n",
            "  0%|          | 0/413 [00:00<?, ?it/s]"
          ],
          "name": "stderr"
        },
        {
          "output_type": "stream",
          "text": [
            "Accuracy of the network on the test images: 32 %\n"
          ],
          "name": "stdout"
        },
        {
          "output_type": "stream",
          "text": [
            "100%|██████████| 413/413 [00:04<00:00, 94.76it/s] \n",
            "  0%|          | 0/1650 [00:00<?, ?it/s]"
          ],
          "name": "stderr"
        },
        {
          "output_type": "stream",
          "text": [
            "Accuracy of the network on the test images: 30 %\n",
            "epoch  10\n"
          ],
          "name": "stdout"
        },
        {
          "output_type": "stream",
          "text": [
            "100%|██████████| 1650/1650 [00:47<00:00, 34.80it/s]\n",
            "  0%|          | 0/1650 [00:00<?, ?it/s]"
          ],
          "name": "stderr"
        },
        {
          "output_type": "stream",
          "text": [
            "epoch 10 training loss: 2.358\n"
          ],
          "name": "stdout"
        },
        {
          "output_type": "stream",
          "text": [
            "100%|██████████| 1650/1650 [00:17<00:00, 96.84it/s]\n",
            "  0%|          | 0/413 [00:00<?, ?it/s]"
          ],
          "name": "stderr"
        },
        {
          "output_type": "stream",
          "text": [
            "Accuracy of the network on the test images: 33 %\n"
          ],
          "name": "stdout"
        },
        {
          "output_type": "stream",
          "text": [
            "100%|██████████| 413/413 [00:04<00:00, 93.75it/s] \n",
            "  0%|          | 0/1650 [00:00<?, ?it/s]"
          ],
          "name": "stderr"
        },
        {
          "output_type": "stream",
          "text": [
            "Accuracy of the network on the test images: 30 %\n",
            "epoch  11\n"
          ],
          "name": "stdout"
        },
        {
          "output_type": "stream",
          "text": [
            "100%|██████████| 1650/1650 [00:47<00:00, 34.67it/s]\n",
            "  0%|          | 0/1650 [00:00<?, ?it/s]"
          ],
          "name": "stderr"
        },
        {
          "output_type": "stream",
          "text": [
            "epoch 11 training loss: 2.329\n"
          ],
          "name": "stdout"
        },
        {
          "output_type": "stream",
          "text": [
            "100%|██████████| 1650/1650 [00:16<00:00, 98.13it/s] \n",
            "  0%|          | 0/413 [00:00<?, ?it/s]"
          ],
          "name": "stderr"
        },
        {
          "output_type": "stream",
          "text": [
            "Accuracy of the network on the test images: 34 %\n"
          ],
          "name": "stdout"
        },
        {
          "output_type": "stream",
          "text": [
            "100%|██████████| 413/413 [00:04<00:00, 93.98it/s] \n",
            "  0%|          | 0/1650 [00:00<?, ?it/s]"
          ],
          "name": "stderr"
        },
        {
          "output_type": "stream",
          "text": [
            "Accuracy of the network on the test images: 32 %\n",
            "epoch  12\n"
          ],
          "name": "stdout"
        },
        {
          "output_type": "stream",
          "text": [
            "100%|██████████| 1650/1650 [00:47<00:00, 34.70it/s]\n",
            "  0%|          | 0/1650 [00:00<?, ?it/s]"
          ],
          "name": "stderr"
        },
        {
          "output_type": "stream",
          "text": [
            "epoch 12 training loss: 2.293\n"
          ],
          "name": "stdout"
        },
        {
          "output_type": "stream",
          "text": [
            "100%|██████████| 1650/1650 [00:16<00:00, 98.00it/s] \n",
            "  0%|          | 0/413 [00:00<?, ?it/s]"
          ],
          "name": "stderr"
        },
        {
          "output_type": "stream",
          "text": [
            "Accuracy of the network on the test images: 33 %\n"
          ],
          "name": "stdout"
        },
        {
          "output_type": "stream",
          "text": [
            "100%|██████████| 413/413 [00:04<00:00, 93.77it/s]\n",
            "  0%|          | 0/1650 [00:00<?, ?it/s]"
          ],
          "name": "stderr"
        },
        {
          "output_type": "stream",
          "text": [
            "Accuracy of the network on the test images: 32 %\n",
            "epoch  13\n"
          ],
          "name": "stdout"
        },
        {
          "output_type": "stream",
          "text": [
            "100%|██████████| 1650/1650 [00:47<00:00, 34.67it/s]\n",
            "  0%|          | 0/1650 [00:00<?, ?it/s]"
          ],
          "name": "stderr"
        },
        {
          "output_type": "stream",
          "text": [
            "epoch 13 training loss: 2.265\n"
          ],
          "name": "stdout"
        },
        {
          "output_type": "stream",
          "text": [
            "100%|██████████| 1650/1650 [00:16<00:00, 98.60it/s] \n",
            "  0%|          | 0/413 [00:00<?, ?it/s]"
          ],
          "name": "stderr"
        },
        {
          "output_type": "stream",
          "text": [
            "Accuracy of the network on the test images: 35 %\n"
          ],
          "name": "stdout"
        },
        {
          "output_type": "stream",
          "text": [
            "100%|██████████| 413/413 [00:04<00:00, 92.05it/s] \n",
            "  0%|          | 0/1650 [00:00<?, ?it/s]"
          ],
          "name": "stderr"
        },
        {
          "output_type": "stream",
          "text": [
            "Accuracy of the network on the test images: 32 %\n",
            "epoch  14\n"
          ],
          "name": "stdout"
        },
        {
          "output_type": "stream",
          "text": [
            "100%|██████████| 1650/1650 [00:47<00:00, 34.68it/s]\n",
            "  0%|          | 0/1650 [00:00<?, ?it/s]"
          ],
          "name": "stderr"
        },
        {
          "output_type": "stream",
          "text": [
            "epoch 14 training loss: 2.232\n"
          ],
          "name": "stdout"
        },
        {
          "output_type": "stream",
          "text": [
            "100%|██████████| 1650/1650 [00:17<00:00, 96.11it/s] \n",
            "  0%|          | 0/413 [00:00<?, ?it/s]"
          ],
          "name": "stderr"
        },
        {
          "output_type": "stream",
          "text": [
            "Accuracy of the network on the test images: 37 %\n"
          ],
          "name": "stdout"
        },
        {
          "output_type": "stream",
          "text": [
            "100%|██████████| 413/413 [00:04<00:00, 94.95it/s] \n",
            "  0%|          | 0/1650 [00:00<?, ?it/s]"
          ],
          "name": "stderr"
        },
        {
          "output_type": "stream",
          "text": [
            "Accuracy of the network on the test images: 33 %\n",
            "epoch  15\n"
          ],
          "name": "stdout"
        },
        {
          "output_type": "stream",
          "text": [
            "100%|██████████| 1650/1650 [00:47<00:00, 34.79it/s]\n",
            "  0%|          | 0/1650 [00:00<?, ?it/s]"
          ],
          "name": "stderr"
        },
        {
          "output_type": "stream",
          "text": [
            "epoch 15 training loss: 2.211\n"
          ],
          "name": "stdout"
        },
        {
          "output_type": "stream",
          "text": [
            "100%|██████████| 1650/1650 [00:16<00:00, 98.08it/s] \n",
            "  0%|          | 0/413 [00:00<?, ?it/s]"
          ],
          "name": "stderr"
        },
        {
          "output_type": "stream",
          "text": [
            "Accuracy of the network on the test images: 38 %\n"
          ],
          "name": "stdout"
        },
        {
          "output_type": "stream",
          "text": [
            "100%|██████████| 413/413 [00:04<00:00, 92.45it/s]\n",
            "  0%|          | 0/1650 [00:00<?, ?it/s]"
          ],
          "name": "stderr"
        },
        {
          "output_type": "stream",
          "text": [
            "Accuracy of the network on the test images: 34 %\n",
            "epoch  16\n"
          ],
          "name": "stdout"
        },
        {
          "output_type": "stream",
          "text": [
            "100%|██████████| 1650/1650 [00:47<00:00, 34.61it/s]\n",
            "  0%|          | 0/1650 [00:00<?, ?it/s]"
          ],
          "name": "stderr"
        },
        {
          "output_type": "stream",
          "text": [
            "epoch 16 training loss: 2.188\n"
          ],
          "name": "stdout"
        },
        {
          "output_type": "stream",
          "text": [
            "100%|██████████| 1650/1650 [00:16<00:00, 99.18it/s]\n",
            "  0%|          | 0/413 [00:00<?, ?it/s]"
          ],
          "name": "stderr"
        },
        {
          "output_type": "stream",
          "text": [
            "Accuracy of the network on the test images: 39 %\n"
          ],
          "name": "stdout"
        },
        {
          "output_type": "stream",
          "text": [
            "100%|██████████| 413/413 [00:04<00:00, 91.87it/s] \n",
            "  0%|          | 0/1650 [00:00<?, ?it/s]"
          ],
          "name": "stderr"
        },
        {
          "output_type": "stream",
          "text": [
            "Accuracy of the network on the test images: 35 %\n",
            "epoch  17\n"
          ],
          "name": "stdout"
        },
        {
          "output_type": "stream",
          "text": [
            "100%|██████████| 1650/1650 [00:47<00:00, 34.74it/s]\n",
            "  0%|          | 0/1650 [00:00<?, ?it/s]"
          ],
          "name": "stderr"
        },
        {
          "output_type": "stream",
          "text": [
            "epoch 17 training loss: 2.159\n"
          ],
          "name": "stdout"
        },
        {
          "output_type": "stream",
          "text": [
            "100%|██████████| 1650/1650 [00:16<00:00, 99.41it/s] \n",
            "  0%|          | 0/413 [00:00<?, ?it/s]"
          ],
          "name": "stderr"
        },
        {
          "output_type": "stream",
          "text": [
            "Accuracy of the network on the test images: 38 %\n"
          ],
          "name": "stdout"
        },
        {
          "output_type": "stream",
          "text": [
            "100%|██████████| 413/413 [00:04<00:00, 94.29it/s] \n",
            "  0%|          | 0/1650 [00:00<?, ?it/s]"
          ],
          "name": "stderr"
        },
        {
          "output_type": "stream",
          "text": [
            "Accuracy of the network on the test images: 34 %\n",
            "epoch  18\n"
          ],
          "name": "stdout"
        },
        {
          "output_type": "stream",
          "text": [
            "100%|██████████| 1650/1650 [00:47<00:00, 34.77it/s]\n",
            "  0%|          | 0/1650 [00:00<?, ?it/s]"
          ],
          "name": "stderr"
        },
        {
          "output_type": "stream",
          "text": [
            "epoch 18 training loss: 2.143\n"
          ],
          "name": "stdout"
        },
        {
          "output_type": "stream",
          "text": [
            "100%|██████████| 1650/1650 [00:16<00:00, 100.02it/s]\n",
            "  0%|          | 0/413 [00:00<?, ?it/s]"
          ],
          "name": "stderr"
        },
        {
          "output_type": "stream",
          "text": [
            "Accuracy of the network on the test images: 38 %\n"
          ],
          "name": "stdout"
        },
        {
          "output_type": "stream",
          "text": [
            "100%|██████████| 413/413 [00:04<00:00, 92.61it/s] \n",
            "  0%|          | 0/1650 [00:00<?, ?it/s]"
          ],
          "name": "stderr"
        },
        {
          "output_type": "stream",
          "text": [
            "Accuracy of the network on the test images: 33 %\n",
            "epoch  19\n"
          ],
          "name": "stdout"
        },
        {
          "output_type": "stream",
          "text": [
            "100%|██████████| 1650/1650 [00:47<00:00, 34.64it/s]\n",
            "  0%|          | 0/1650 [00:00<?, ?it/s]"
          ],
          "name": "stderr"
        },
        {
          "output_type": "stream",
          "text": [
            "epoch 19 training loss: 2.118\n"
          ],
          "name": "stdout"
        },
        {
          "output_type": "stream",
          "text": [
            "100%|██████████| 1650/1650 [00:16<00:00, 98.07it/s] \n",
            "  0%|          | 0/413 [00:00<?, ?it/s]"
          ],
          "name": "stderr"
        },
        {
          "output_type": "stream",
          "text": [
            "Accuracy of the network on the test images: 40 %\n"
          ],
          "name": "stdout"
        },
        {
          "output_type": "stream",
          "text": [
            "100%|██████████| 413/413 [00:04<00:00, 91.96it/s] \n",
            "  0%|          | 0/1650 [00:00<?, ?it/s]"
          ],
          "name": "stderr"
        },
        {
          "output_type": "stream",
          "text": [
            "Accuracy of the network on the test images: 36 %\n",
            "epoch  20\n"
          ],
          "name": "stdout"
        },
        {
          "output_type": "stream",
          "text": [
            "100%|██████████| 1650/1650 [00:47<00:00, 34.76it/s]\n",
            "  0%|          | 0/1650 [00:00<?, ?it/s]"
          ],
          "name": "stderr"
        },
        {
          "output_type": "stream",
          "text": [
            "epoch 20 training loss: 2.099\n"
          ],
          "name": "stdout"
        },
        {
          "output_type": "stream",
          "text": [
            "100%|██████████| 1650/1650 [00:16<00:00, 98.90it/s] \n",
            "  0%|          | 0/413 [00:00<?, ?it/s]"
          ],
          "name": "stderr"
        },
        {
          "output_type": "stream",
          "text": [
            "Accuracy of the network on the test images: 38 %\n"
          ],
          "name": "stdout"
        },
        {
          "output_type": "stream",
          "text": [
            "100%|██████████| 413/413 [00:04<00:00, 95.71it/s] \n",
            "  0%|          | 0/1650 [00:00<?, ?it/s]"
          ],
          "name": "stderr"
        },
        {
          "output_type": "stream",
          "text": [
            "Accuracy of the network on the test images: 35 %\n",
            "epoch  21\n"
          ],
          "name": "stdout"
        },
        {
          "output_type": "stream",
          "text": [
            "100%|██████████| 1650/1650 [00:47<00:00, 34.76it/s]\n",
            "  0%|          | 0/1650 [00:00<?, ?it/s]"
          ],
          "name": "stderr"
        },
        {
          "output_type": "stream",
          "text": [
            "epoch 21 training loss: 2.081\n"
          ],
          "name": "stdout"
        },
        {
          "output_type": "stream",
          "text": [
            "100%|██████████| 1650/1650 [00:16<00:00, 97.90it/s] \n",
            "  0%|          | 0/413 [00:00<?, ?it/s]"
          ],
          "name": "stderr"
        },
        {
          "output_type": "stream",
          "text": [
            "Accuracy of the network on the test images: 42 %\n"
          ],
          "name": "stdout"
        },
        {
          "output_type": "stream",
          "text": [
            "100%|██████████| 413/413 [00:04<00:00, 92.62it/s] \n",
            "  0%|          | 0/1650 [00:00<?, ?it/s]"
          ],
          "name": "stderr"
        },
        {
          "output_type": "stream",
          "text": [
            "Accuracy of the network on the test images: 37 %\n",
            "epoch  22\n"
          ],
          "name": "stdout"
        },
        {
          "output_type": "stream",
          "text": [
            "100%|██████████| 1650/1650 [00:47<00:00, 34.72it/s]\n",
            "  0%|          | 0/1650 [00:00<?, ?it/s]"
          ],
          "name": "stderr"
        },
        {
          "output_type": "stream",
          "text": [
            "epoch 22 training loss: 2.060\n"
          ],
          "name": "stdout"
        },
        {
          "output_type": "stream",
          "text": [
            "100%|██████████| 1650/1650 [00:16<00:00, 97.56it/s]\n",
            "  0%|          | 0/413 [00:00<?, ?it/s]"
          ],
          "name": "stderr"
        },
        {
          "output_type": "stream",
          "text": [
            "Accuracy of the network on the test images: 43 %\n"
          ],
          "name": "stdout"
        },
        {
          "output_type": "stream",
          "text": [
            "100%|██████████| 413/413 [00:04<00:00, 92.34it/s]\n",
            "  0%|          | 0/1650 [00:00<?, ?it/s]"
          ],
          "name": "stderr"
        },
        {
          "output_type": "stream",
          "text": [
            "Accuracy of the network on the test images: 38 %\n",
            "epoch  23\n"
          ],
          "name": "stdout"
        },
        {
          "output_type": "stream",
          "text": [
            "100%|██████████| 1650/1650 [00:47<00:00, 34.59it/s]\n",
            "  0%|          | 0/1650 [00:00<?, ?it/s]"
          ],
          "name": "stderr"
        },
        {
          "output_type": "stream",
          "text": [
            "epoch 23 training loss: 2.040\n"
          ],
          "name": "stdout"
        },
        {
          "output_type": "stream",
          "text": [
            "100%|██████████| 1650/1650 [00:16<00:00, 100.08it/s]\n",
            "  0%|          | 0/413 [00:00<?, ?it/s]"
          ],
          "name": "stderr"
        },
        {
          "output_type": "stream",
          "text": [
            "Accuracy of the network on the test images: 45 %\n"
          ],
          "name": "stdout"
        },
        {
          "output_type": "stream",
          "text": [
            "100%|██████████| 413/413 [00:04<00:00, 93.12it/s]\n",
            "  0%|          | 0/1650 [00:00<?, ?it/s]"
          ],
          "name": "stderr"
        },
        {
          "output_type": "stream",
          "text": [
            "Accuracy of the network on the test images: 40 %\n",
            "epoch  24\n"
          ],
          "name": "stdout"
        },
        {
          "output_type": "stream",
          "text": [
            "100%|██████████| 1650/1650 [00:47<00:00, 34.67it/s]\n",
            "  0%|          | 0/1650 [00:00<?, ?it/s]"
          ],
          "name": "stderr"
        },
        {
          "output_type": "stream",
          "text": [
            "epoch 24 training loss: 2.031\n"
          ],
          "name": "stdout"
        },
        {
          "output_type": "stream",
          "text": [
            "100%|██████████| 1650/1650 [00:16<00:00, 98.62it/s] \n",
            "  0%|          | 0/413 [00:00<?, ?it/s]"
          ],
          "name": "stderr"
        },
        {
          "output_type": "stream",
          "text": [
            "Accuracy of the network on the test images: 43 %\n"
          ],
          "name": "stdout"
        },
        {
          "output_type": "stream",
          "text": [
            "100%|██████████| 413/413 [00:04<00:00, 93.91it/s] \n",
            "  0%|          | 0/1650 [00:00<?, ?it/s]"
          ],
          "name": "stderr"
        },
        {
          "output_type": "stream",
          "text": [
            "Accuracy of the network on the test images: 40 %\n",
            "epoch  25\n"
          ],
          "name": "stdout"
        },
        {
          "output_type": "stream",
          "text": [
            "100%|██████████| 1650/1650 [00:47<00:00, 34.59it/s]\n",
            "  0%|          | 0/1650 [00:00<?, ?it/s]"
          ],
          "name": "stderr"
        },
        {
          "output_type": "stream",
          "text": [
            "epoch 25 training loss: 2.016\n"
          ],
          "name": "stdout"
        },
        {
          "output_type": "stream",
          "text": [
            "100%|██████████| 1650/1650 [00:16<00:00, 99.85it/s] \n",
            "  0%|          | 0/413 [00:00<?, ?it/s]"
          ],
          "name": "stderr"
        },
        {
          "output_type": "stream",
          "text": [
            "Accuracy of the network on the test images: 43 %\n"
          ],
          "name": "stdout"
        },
        {
          "output_type": "stream",
          "text": [
            "100%|██████████| 413/413 [00:04<00:00, 94.39it/s] \n",
            "  0%|          | 0/1650 [00:00<?, ?it/s]"
          ],
          "name": "stderr"
        },
        {
          "output_type": "stream",
          "text": [
            "Accuracy of the network on the test images: 38 %\n",
            "epoch  26\n"
          ],
          "name": "stdout"
        },
        {
          "output_type": "stream",
          "text": [
            "100%|██████████| 1650/1650 [00:47<00:00, 34.68it/s]\n",
            "  0%|          | 0/1650 [00:00<?, ?it/s]"
          ],
          "name": "stderr"
        },
        {
          "output_type": "stream",
          "text": [
            "epoch 26 training loss: 2.001\n"
          ],
          "name": "stdout"
        },
        {
          "output_type": "stream",
          "text": [
            "100%|██████████| 1650/1650 [00:16<00:00, 99.29it/s] \n",
            "  0%|          | 0/413 [00:00<?, ?it/s]"
          ],
          "name": "stderr"
        },
        {
          "output_type": "stream",
          "text": [
            "Accuracy of the network on the test images: 44 %\n"
          ],
          "name": "stdout"
        },
        {
          "output_type": "stream",
          "text": [
            "100%|██████████| 413/413 [00:04<00:00, 95.02it/s]\n",
            "  0%|          | 0/1650 [00:00<?, ?it/s]"
          ],
          "name": "stderr"
        },
        {
          "output_type": "stream",
          "text": [
            "Accuracy of the network on the test images: 38 %\n",
            "epoch  27\n"
          ],
          "name": "stdout"
        },
        {
          "output_type": "stream",
          "text": [
            "100%|██████████| 1650/1650 [00:47<00:00, 34.75it/s]\n",
            "  0%|          | 0/1650 [00:00<?, ?it/s]"
          ],
          "name": "stderr"
        },
        {
          "output_type": "stream",
          "text": [
            "epoch 27 training loss: 1.987\n"
          ],
          "name": "stdout"
        },
        {
          "output_type": "stream",
          "text": [
            "100%|██████████| 1650/1650 [00:16<00:00, 99.44it/s]\n",
            "  0%|          | 0/413 [00:00<?, ?it/s]"
          ],
          "name": "stderr"
        },
        {
          "output_type": "stream",
          "text": [
            "Accuracy of the network on the test images: 43 %\n"
          ],
          "name": "stdout"
        },
        {
          "output_type": "stream",
          "text": [
            "100%|██████████| 413/413 [00:04<00:00, 95.35it/s] \n",
            "  0%|          | 0/1650 [00:00<?, ?it/s]"
          ],
          "name": "stderr"
        },
        {
          "output_type": "stream",
          "text": [
            "Accuracy of the network on the test images: 39 %\n",
            "epoch  28\n"
          ],
          "name": "stdout"
        },
        {
          "output_type": "stream",
          "text": [
            "100%|██████████| 1650/1650 [00:47<00:00, 34.62it/s]\n",
            "  0%|          | 0/1650 [00:00<?, ?it/s]"
          ],
          "name": "stderr"
        },
        {
          "output_type": "stream",
          "text": [
            "epoch 28 training loss: 1.969\n"
          ],
          "name": "stdout"
        },
        {
          "output_type": "stream",
          "text": [
            "100%|██████████| 1650/1650 [00:16<00:00, 98.33it/s] \n",
            "  0%|          | 0/413 [00:00<?, ?it/s]"
          ],
          "name": "stderr"
        },
        {
          "output_type": "stream",
          "text": [
            "Accuracy of the network on the test images: 45 %\n"
          ],
          "name": "stdout"
        },
        {
          "output_type": "stream",
          "text": [
            "100%|██████████| 413/413 [00:04<00:00, 95.30it/s] \n",
            "  0%|          | 0/1650 [00:00<?, ?it/s]"
          ],
          "name": "stderr"
        },
        {
          "output_type": "stream",
          "text": [
            "Accuracy of the network on the test images: 39 %\n",
            "epoch  29\n"
          ],
          "name": "stdout"
        },
        {
          "output_type": "stream",
          "text": [
            "100%|██████████| 1650/1650 [00:47<00:00, 34.74it/s]\n",
            "  0%|          | 0/1650 [00:00<?, ?it/s]"
          ],
          "name": "stderr"
        },
        {
          "output_type": "stream",
          "text": [
            "epoch 29 training loss: 1.957\n"
          ],
          "name": "stdout"
        },
        {
          "output_type": "stream",
          "text": [
            "100%|██████████| 1650/1650 [00:16<00:00, 97.95it/s] \n",
            "  0%|          | 0/413 [00:00<?, ?it/s]"
          ],
          "name": "stderr"
        },
        {
          "output_type": "stream",
          "text": [
            "Accuracy of the network on the test images: 45 %\n"
          ],
          "name": "stdout"
        },
        {
          "output_type": "stream",
          "text": [
            "100%|██████████| 413/413 [00:04<00:00, 92.69it/s] \n",
            "  0%|          | 0/1650 [00:00<?, ?it/s]"
          ],
          "name": "stderr"
        },
        {
          "output_type": "stream",
          "text": [
            "Accuracy of the network on the test images: 39 %\n",
            "epoch  30\n"
          ],
          "name": "stdout"
        },
        {
          "output_type": "stream",
          "text": [
            "100%|██████████| 1650/1650 [00:47<00:00, 34.67it/s]\n",
            "  0%|          | 0/1650 [00:00<?, ?it/s]"
          ],
          "name": "stderr"
        },
        {
          "output_type": "stream",
          "text": [
            "epoch 30 training loss: 1.949\n"
          ],
          "name": "stdout"
        },
        {
          "output_type": "stream",
          "text": [
            "100%|██████████| 1650/1650 [00:16<00:00, 98.74it/s] \n",
            "  0%|          | 0/413 [00:00<?, ?it/s]"
          ],
          "name": "stderr"
        },
        {
          "output_type": "stream",
          "text": [
            "Accuracy of the network on the test images: 42 %\n"
          ],
          "name": "stdout"
        },
        {
          "output_type": "stream",
          "text": [
            "100%|██████████| 413/413 [00:04<00:00, 94.51it/s] \n",
            "  0%|          | 0/1650 [00:00<?, ?it/s]"
          ],
          "name": "stderr"
        },
        {
          "output_type": "stream",
          "text": [
            "Accuracy of the network on the test images: 36 %\n",
            "epoch  31\n"
          ],
          "name": "stdout"
        },
        {
          "output_type": "stream",
          "text": [
            "100%|██████████| 1650/1650 [00:47<00:00, 34.70it/s]\n",
            "  0%|          | 0/1650 [00:00<?, ?it/s]"
          ],
          "name": "stderr"
        },
        {
          "output_type": "stream",
          "text": [
            "epoch 31 training loss: 1.934\n"
          ],
          "name": "stdout"
        },
        {
          "output_type": "stream",
          "text": [
            "100%|██████████| 1650/1650 [00:16<00:00, 97.47it/s] \n",
            "  0%|          | 0/413 [00:00<?, ?it/s]"
          ],
          "name": "stderr"
        },
        {
          "output_type": "stream",
          "text": [
            "Accuracy of the network on the test images: 47 %\n"
          ],
          "name": "stdout"
        },
        {
          "output_type": "stream",
          "text": [
            "100%|██████████| 413/413 [00:04<00:00, 93.28it/s] \n",
            "  0%|          | 0/1650 [00:00<?, ?it/s]"
          ],
          "name": "stderr"
        },
        {
          "output_type": "stream",
          "text": [
            "Accuracy of the network on the test images: 41 %\n",
            "epoch  32\n"
          ],
          "name": "stdout"
        },
        {
          "output_type": "stream",
          "text": [
            "100%|██████████| 1650/1650 [00:47<00:00, 34.65it/s]\n",
            "  0%|          | 0/1650 [00:00<?, ?it/s]"
          ],
          "name": "stderr"
        },
        {
          "output_type": "stream",
          "text": [
            "epoch 32 training loss: 1.924\n"
          ],
          "name": "stdout"
        },
        {
          "output_type": "stream",
          "text": [
            "100%|██████████| 1650/1650 [00:16<00:00, 98.87it/s] \n",
            "  0%|          | 0/413 [00:00<?, ?it/s]"
          ],
          "name": "stderr"
        },
        {
          "output_type": "stream",
          "text": [
            "Accuracy of the network on the test images: 47 %\n"
          ],
          "name": "stdout"
        },
        {
          "output_type": "stream",
          "text": [
            "100%|██████████| 413/413 [00:04<00:00, 94.40it/s] \n",
            "  0%|          | 0/1650 [00:00<?, ?it/s]"
          ],
          "name": "stderr"
        },
        {
          "output_type": "stream",
          "text": [
            "Accuracy of the network on the test images: 40 %\n",
            "epoch  33\n"
          ],
          "name": "stdout"
        },
        {
          "output_type": "stream",
          "text": [
            "100%|██████████| 1650/1650 [00:47<00:00, 34.70it/s]\n",
            "  0%|          | 0/1650 [00:00<?, ?it/s]"
          ],
          "name": "stderr"
        },
        {
          "output_type": "stream",
          "text": [
            "epoch 33 training loss: 1.912\n"
          ],
          "name": "stdout"
        },
        {
          "output_type": "stream",
          "text": [
            "100%|██████████| 1650/1650 [00:16<00:00, 98.93it/s] \n",
            "  0%|          | 0/413 [00:00<?, ?it/s]"
          ],
          "name": "stderr"
        },
        {
          "output_type": "stream",
          "text": [
            "Accuracy of the network on the test images: 47 %\n"
          ],
          "name": "stdout"
        },
        {
          "output_type": "stream",
          "text": [
            "100%|██████████| 413/413 [00:04<00:00, 96.07it/s] \n",
            "  0%|          | 0/1650 [00:00<?, ?it/s]"
          ],
          "name": "stderr"
        },
        {
          "output_type": "stream",
          "text": [
            "Accuracy of the network on the test images: 40 %\n",
            "epoch  34\n"
          ],
          "name": "stdout"
        },
        {
          "output_type": "stream",
          "text": [
            "100%|██████████| 1650/1650 [00:47<00:00, 34.75it/s]\n",
            "  0%|          | 0/1650 [00:00<?, ?it/s]"
          ],
          "name": "stderr"
        },
        {
          "output_type": "stream",
          "text": [
            "epoch 34 training loss: 1.891\n"
          ],
          "name": "stdout"
        },
        {
          "output_type": "stream",
          "text": [
            "100%|██████████| 1650/1650 [00:16<00:00, 99.12it/s]\n",
            "  0%|          | 0/413 [00:00<?, ?it/s]"
          ],
          "name": "stderr"
        },
        {
          "output_type": "stream",
          "text": [
            "Accuracy of the network on the test images: 48 %\n"
          ],
          "name": "stdout"
        },
        {
          "output_type": "stream",
          "text": [
            "100%|██████████| 413/413 [00:04<00:00, 92.00it/s] \n",
            "  0%|          | 0/1650 [00:00<?, ?it/s]"
          ],
          "name": "stderr"
        },
        {
          "output_type": "stream",
          "text": [
            "Accuracy of the network on the test images: 41 %\n",
            "epoch  35\n"
          ],
          "name": "stdout"
        },
        {
          "output_type": "stream",
          "text": [
            "100%|██████████| 1650/1650 [00:47<00:00, 34.70it/s]\n",
            "  0%|          | 0/1650 [00:00<?, ?it/s]"
          ],
          "name": "stderr"
        },
        {
          "output_type": "stream",
          "text": [
            "epoch 35 training loss: 1.888\n"
          ],
          "name": "stdout"
        },
        {
          "output_type": "stream",
          "text": [
            "100%|██████████| 1650/1650 [00:16<00:00, 99.30it/s] \n",
            "  0%|          | 0/413 [00:00<?, ?it/s]"
          ],
          "name": "stderr"
        },
        {
          "output_type": "stream",
          "text": [
            "Accuracy of the network on the test images: 50 %\n"
          ],
          "name": "stdout"
        },
        {
          "output_type": "stream",
          "text": [
            "100%|██████████| 413/413 [00:04<00:00, 91.70it/s] \n",
            "  0%|          | 0/1650 [00:00<?, ?it/s]"
          ],
          "name": "stderr"
        },
        {
          "output_type": "stream",
          "text": [
            "Accuracy of the network on the test images: 43 %\n",
            "epoch  36\n"
          ],
          "name": "stdout"
        },
        {
          "output_type": "stream",
          "text": [
            "100%|██████████| 1650/1650 [00:47<00:00, 34.77it/s]\n",
            "  0%|          | 0/1650 [00:00<?, ?it/s]"
          ],
          "name": "stderr"
        },
        {
          "output_type": "stream",
          "text": [
            "epoch 36 training loss: 1.886\n"
          ],
          "name": "stdout"
        },
        {
          "output_type": "stream",
          "text": [
            "100%|██████████| 1650/1650 [00:16<00:00, 98.23it/s] \n",
            "  0%|          | 0/413 [00:00<?, ?it/s]"
          ],
          "name": "stderr"
        },
        {
          "output_type": "stream",
          "text": [
            "Accuracy of the network on the test images: 46 %\n"
          ],
          "name": "stdout"
        },
        {
          "output_type": "stream",
          "text": [
            "100%|██████████| 413/413 [00:04<00:00, 91.90it/s] \n",
            "  0%|          | 0/1650 [00:00<?, ?it/s]"
          ],
          "name": "stderr"
        },
        {
          "output_type": "stream",
          "text": [
            "Accuracy of the network on the test images: 40 %\n",
            "epoch  37\n"
          ],
          "name": "stdout"
        },
        {
          "output_type": "stream",
          "text": [
            "100%|██████████| 1650/1650 [00:47<00:00, 34.70it/s]\n",
            "  0%|          | 0/1650 [00:00<?, ?it/s]"
          ],
          "name": "stderr"
        },
        {
          "output_type": "stream",
          "text": [
            "epoch 37 training loss: 1.878\n"
          ],
          "name": "stdout"
        },
        {
          "output_type": "stream",
          "text": [
            "100%|██████████| 1650/1650 [00:16<00:00, 99.76it/s] \n",
            "  0%|          | 0/413 [00:00<?, ?it/s]"
          ],
          "name": "stderr"
        },
        {
          "output_type": "stream",
          "text": [
            "Accuracy of the network on the test images: 47 %\n"
          ],
          "name": "stdout"
        },
        {
          "output_type": "stream",
          "text": [
            "100%|██████████| 413/413 [00:04<00:00, 95.74it/s] \n",
            "  0%|          | 0/1650 [00:00<?, ?it/s]"
          ],
          "name": "stderr"
        },
        {
          "output_type": "stream",
          "text": [
            "Accuracy of the network on the test images: 41 %\n",
            "epoch  38\n"
          ],
          "name": "stdout"
        },
        {
          "output_type": "stream",
          "text": [
            "100%|██████████| 1650/1650 [00:47<00:00, 34.76it/s]\n",
            "  0%|          | 0/1650 [00:00<?, ?it/s]"
          ],
          "name": "stderr"
        },
        {
          "output_type": "stream",
          "text": [
            "epoch 38 training loss: 1.873\n"
          ],
          "name": "stdout"
        },
        {
          "output_type": "stream",
          "text": [
            "100%|██████████| 1650/1650 [00:16<00:00, 98.72it/s] \n",
            "  0%|          | 0/413 [00:00<?, ?it/s]"
          ],
          "name": "stderr"
        },
        {
          "output_type": "stream",
          "text": [
            "Accuracy of the network on the test images: 48 %\n"
          ],
          "name": "stdout"
        },
        {
          "output_type": "stream",
          "text": [
            "100%|██████████| 413/413 [00:04<00:00, 93.10it/s] \n",
            "  0%|          | 0/1650 [00:00<?, ?it/s]"
          ],
          "name": "stderr"
        },
        {
          "output_type": "stream",
          "text": [
            "Accuracy of the network on the test images: 41 %\n",
            "epoch  39\n"
          ],
          "name": "stdout"
        },
        {
          "output_type": "stream",
          "text": [
            "100%|██████████| 1650/1650 [00:47<00:00, 34.70it/s]\n",
            "  0%|          | 0/1650 [00:00<?, ?it/s]"
          ],
          "name": "stderr"
        },
        {
          "output_type": "stream",
          "text": [
            "epoch 39 training loss: 1.853\n"
          ],
          "name": "stdout"
        },
        {
          "output_type": "stream",
          "text": [
            "100%|██████████| 1650/1650 [00:16<00:00, 97.97it/s]\n",
            "  0%|          | 0/413 [00:00<?, ?it/s]"
          ],
          "name": "stderr"
        },
        {
          "output_type": "stream",
          "text": [
            "Accuracy of the network on the test images: 44 %\n"
          ],
          "name": "stdout"
        },
        {
          "output_type": "stream",
          "text": [
            "100%|██████████| 413/413 [00:04<00:00, 96.37it/s] \n",
            "  0%|          | 0/1650 [00:00<?, ?it/s]"
          ],
          "name": "stderr"
        },
        {
          "output_type": "stream",
          "text": [
            "Accuracy of the network on the test images: 39 %\n",
            "epoch  40\n"
          ],
          "name": "stdout"
        },
        {
          "output_type": "stream",
          "text": [
            "100%|██████████| 1650/1650 [00:47<00:00, 34.68it/s]\n",
            "  0%|          | 0/1650 [00:00<?, ?it/s]"
          ],
          "name": "stderr"
        },
        {
          "output_type": "stream",
          "text": [
            "epoch 40 training loss: 1.851\n"
          ],
          "name": "stdout"
        },
        {
          "output_type": "stream",
          "text": [
            "100%|██████████| 1650/1650 [00:16<00:00, 98.14it/s]\n",
            "  0%|          | 0/413 [00:00<?, ?it/s]"
          ],
          "name": "stderr"
        },
        {
          "output_type": "stream",
          "text": [
            "Accuracy of the network on the test images: 48 %\n"
          ],
          "name": "stdout"
        },
        {
          "output_type": "stream",
          "text": [
            "100%|██████████| 413/413 [00:04<00:00, 95.08it/s] \n",
            "  0%|          | 0/1650 [00:00<?, ?it/s]"
          ],
          "name": "stderr"
        },
        {
          "output_type": "stream",
          "text": [
            "Accuracy of the network on the test images: 41 %\n",
            "epoch  41\n"
          ],
          "name": "stdout"
        },
        {
          "output_type": "stream",
          "text": [
            "100%|██████████| 1650/1650 [00:47<00:00, 34.65it/s]\n",
            "  0%|          | 0/1650 [00:00<?, ?it/s]"
          ],
          "name": "stderr"
        },
        {
          "output_type": "stream",
          "text": [
            "epoch 41 training loss: 1.837\n"
          ],
          "name": "stdout"
        },
        {
          "output_type": "stream",
          "text": [
            "100%|██████████| 1650/1650 [00:17<00:00, 96.07it/s] \n",
            "  0%|          | 0/413 [00:00<?, ?it/s]"
          ],
          "name": "stderr"
        },
        {
          "output_type": "stream",
          "text": [
            "Accuracy of the network on the test images: 50 %\n"
          ],
          "name": "stdout"
        },
        {
          "output_type": "stream",
          "text": [
            "100%|██████████| 413/413 [00:04<00:00, 89.01it/s]\n",
            "  0%|          | 0/1650 [00:00<?, ?it/s]"
          ],
          "name": "stderr"
        },
        {
          "output_type": "stream",
          "text": [
            "Accuracy of the network on the test images: 43 %\n",
            "epoch  42\n"
          ],
          "name": "stdout"
        },
        {
          "output_type": "stream",
          "text": [
            "100%|██████████| 1650/1650 [00:47<00:00, 34.76it/s]\n",
            "  0%|          | 0/1650 [00:00<?, ?it/s]"
          ],
          "name": "stderr"
        },
        {
          "output_type": "stream",
          "text": [
            "epoch 42 training loss: 1.821\n"
          ],
          "name": "stdout"
        },
        {
          "output_type": "stream",
          "text": [
            "100%|██████████| 1650/1650 [00:16<00:00, 99.17it/s]\n",
            "  0%|          | 0/413 [00:00<?, ?it/s]"
          ],
          "name": "stderr"
        },
        {
          "output_type": "stream",
          "text": [
            "Accuracy of the network on the test images: 48 %\n"
          ],
          "name": "stdout"
        },
        {
          "output_type": "stream",
          "text": [
            "100%|██████████| 413/413 [00:04<00:00, 93.15it/s] \n",
            "  0%|          | 0/1650 [00:00<?, ?it/s]"
          ],
          "name": "stderr"
        },
        {
          "output_type": "stream",
          "text": [
            "Accuracy of the network on the test images: 42 %\n",
            "epoch  43\n"
          ],
          "name": "stdout"
        },
        {
          "output_type": "stream",
          "text": [
            "100%|██████████| 1650/1650 [00:47<00:00, 34.70it/s]\n",
            "  0%|          | 0/1650 [00:00<?, ?it/s]"
          ],
          "name": "stderr"
        },
        {
          "output_type": "stream",
          "text": [
            "epoch 43 training loss: 1.819\n"
          ],
          "name": "stdout"
        },
        {
          "output_type": "stream",
          "text": [
            "100%|██████████| 1650/1650 [00:16<00:00, 98.23it/s] \n",
            "  0%|          | 0/413 [00:00<?, ?it/s]"
          ],
          "name": "stderr"
        },
        {
          "output_type": "stream",
          "text": [
            "Accuracy of the network on the test images: 50 %\n"
          ],
          "name": "stdout"
        },
        {
          "output_type": "stream",
          "text": [
            "100%|██████████| 413/413 [00:04<00:00, 93.94it/s] \n",
            "  0%|          | 0/1650 [00:00<?, ?it/s]"
          ],
          "name": "stderr"
        },
        {
          "output_type": "stream",
          "text": [
            "Accuracy of the network on the test images: 43 %\n",
            "epoch  44\n"
          ],
          "name": "stdout"
        },
        {
          "output_type": "stream",
          "text": [
            "100%|██████████| 1650/1650 [00:47<00:00, 34.60it/s]\n",
            "  0%|          | 0/1650 [00:00<?, ?it/s]"
          ],
          "name": "stderr"
        },
        {
          "output_type": "stream",
          "text": [
            "epoch 44 training loss: 1.808\n"
          ],
          "name": "stdout"
        },
        {
          "output_type": "stream",
          "text": [
            "100%|██████████| 1650/1650 [00:16<00:00, 99.41it/s] \n",
            "  0%|          | 0/413 [00:00<?, ?it/s]"
          ],
          "name": "stderr"
        },
        {
          "output_type": "stream",
          "text": [
            "Accuracy of the network on the test images: 51 %\n"
          ],
          "name": "stdout"
        },
        {
          "output_type": "stream",
          "text": [
            "100%|██████████| 413/413 [00:04<00:00, 95.39it/s] \n",
            "  0%|          | 0/1650 [00:00<?, ?it/s]"
          ],
          "name": "stderr"
        },
        {
          "output_type": "stream",
          "text": [
            "Accuracy of the network on the test images: 44 %\n",
            "epoch  45\n"
          ],
          "name": "stdout"
        },
        {
          "output_type": "stream",
          "text": [
            "100%|██████████| 1650/1650 [00:47<00:00, 34.66it/s]\n",
            "  0%|          | 0/1650 [00:00<?, ?it/s]"
          ],
          "name": "stderr"
        },
        {
          "output_type": "stream",
          "text": [
            "epoch 45 training loss: 1.798\n"
          ],
          "name": "stdout"
        },
        {
          "output_type": "stream",
          "text": [
            "100%|██████████| 1650/1650 [00:16<00:00, 98.44it/s] \n",
            "  0%|          | 0/413 [00:00<?, ?it/s]"
          ],
          "name": "stderr"
        },
        {
          "output_type": "stream",
          "text": [
            "Accuracy of the network on the test images: 50 %\n"
          ],
          "name": "stdout"
        },
        {
          "output_type": "stream",
          "text": [
            "100%|██████████| 413/413 [00:04<00:00, 93.05it/s] \n",
            "  0%|          | 0/1650 [00:00<?, ?it/s]"
          ],
          "name": "stderr"
        },
        {
          "output_type": "stream",
          "text": [
            "Accuracy of the network on the test images: 43 %\n",
            "epoch  46\n"
          ],
          "name": "stdout"
        },
        {
          "output_type": "stream",
          "text": [
            "100%|██████████| 1650/1650 [00:47<00:00, 34.72it/s]\n",
            "  0%|          | 0/1650 [00:00<?, ?it/s]"
          ],
          "name": "stderr"
        },
        {
          "output_type": "stream",
          "text": [
            "epoch 46 training loss: 1.786\n"
          ],
          "name": "stdout"
        },
        {
          "output_type": "stream",
          "text": [
            "100%|██████████| 1650/1650 [00:16<00:00, 98.74it/s] \n",
            "  0%|          | 0/413 [00:00<?, ?it/s]"
          ],
          "name": "stderr"
        },
        {
          "output_type": "stream",
          "text": [
            "Accuracy of the network on the test images: 50 %\n"
          ],
          "name": "stdout"
        },
        {
          "output_type": "stream",
          "text": [
            "100%|██████████| 413/413 [00:04<00:00, 92.30it/s]\n",
            "  0%|          | 0/1650 [00:00<?, ?it/s]"
          ],
          "name": "stderr"
        },
        {
          "output_type": "stream",
          "text": [
            "Accuracy of the network on the test images: 42 %\n",
            "epoch  47\n"
          ],
          "name": "stdout"
        },
        {
          "output_type": "stream",
          "text": [
            "100%|██████████| 1650/1650 [00:47<00:00, 34.77it/s]\n",
            "  0%|          | 0/1650 [00:00<?, ?it/s]"
          ],
          "name": "stderr"
        },
        {
          "output_type": "stream",
          "text": [
            "epoch 47 training loss: 1.793\n"
          ],
          "name": "stdout"
        },
        {
          "output_type": "stream",
          "text": [
            "100%|██████████| 1650/1650 [00:17<00:00, 96.07it/s]\n",
            "  0%|          | 0/413 [00:00<?, ?it/s]"
          ],
          "name": "stderr"
        },
        {
          "output_type": "stream",
          "text": [
            "Accuracy of the network on the test images: 51 %\n"
          ],
          "name": "stdout"
        },
        {
          "output_type": "stream",
          "text": [
            "100%|██████████| 413/413 [00:04<00:00, 93.83it/s] \n",
            "  0%|          | 0/1650 [00:00<?, ?it/s]"
          ],
          "name": "stderr"
        },
        {
          "output_type": "stream",
          "text": [
            "Accuracy of the network on the test images: 43 %\n",
            "epoch  48\n"
          ],
          "name": "stdout"
        },
        {
          "output_type": "stream",
          "text": [
            "100%|██████████| 1650/1650 [00:47<00:00, 34.82it/s]\n",
            "  0%|          | 0/1650 [00:00<?, ?it/s]"
          ],
          "name": "stderr"
        },
        {
          "output_type": "stream",
          "text": [
            "epoch 48 training loss: 1.772\n"
          ],
          "name": "stdout"
        },
        {
          "output_type": "stream",
          "text": [
            "100%|██████████| 1650/1650 [00:16<00:00, 99.00it/s] \n",
            "  0%|          | 0/413 [00:00<?, ?it/s]"
          ],
          "name": "stderr"
        },
        {
          "output_type": "stream",
          "text": [
            "Accuracy of the network on the test images: 49 %\n"
          ],
          "name": "stdout"
        },
        {
          "output_type": "stream",
          "text": [
            "100%|██████████| 413/413 [00:04<00:00, 90.72it/s]\n",
            "  0%|          | 0/1650 [00:00<?, ?it/s]"
          ],
          "name": "stderr"
        },
        {
          "output_type": "stream",
          "text": [
            "Accuracy of the network on the test images: 42 %\n",
            "epoch  49\n"
          ],
          "name": "stdout"
        },
        {
          "output_type": "stream",
          "text": [
            "100%|██████████| 1650/1650 [00:47<00:00, 34.69it/s]\n",
            "  0%|          | 0/1650 [00:00<?, ?it/s]"
          ],
          "name": "stderr"
        },
        {
          "output_type": "stream",
          "text": [
            "epoch 49 training loss: 1.766\n"
          ],
          "name": "stdout"
        },
        {
          "output_type": "stream",
          "text": [
            "100%|██████████| 1650/1650 [00:16<00:00, 98.48it/s] \n",
            "  0%|          | 0/413 [00:00<?, ?it/s]"
          ],
          "name": "stderr"
        },
        {
          "output_type": "stream",
          "text": [
            "Accuracy of the network on the test images: 51 %\n"
          ],
          "name": "stdout"
        },
        {
          "output_type": "stream",
          "text": [
            "100%|██████████| 413/413 [00:04<00:00, 93.88it/s] \n",
            "  0%|          | 0/1650 [00:00<?, ?it/s]"
          ],
          "name": "stderr"
        },
        {
          "output_type": "stream",
          "text": [
            "Accuracy of the network on the test images: 43 %\n",
            "epoch  50\n"
          ],
          "name": "stdout"
        },
        {
          "output_type": "stream",
          "text": [
            "100%|██████████| 1650/1650 [00:47<00:00, 34.66it/s]\n",
            "  0%|          | 0/1650 [00:00<?, ?it/s]"
          ],
          "name": "stderr"
        },
        {
          "output_type": "stream",
          "text": [
            "epoch 50 training loss: 1.759\n"
          ],
          "name": "stdout"
        },
        {
          "output_type": "stream",
          "text": [
            "100%|██████████| 1650/1650 [00:16<00:00, 98.72it/s]\n",
            "  0%|          | 0/413 [00:00<?, ?it/s]"
          ],
          "name": "stderr"
        },
        {
          "output_type": "stream",
          "text": [
            "Accuracy of the network on the test images: 55 %\n"
          ],
          "name": "stdout"
        },
        {
          "output_type": "stream",
          "text": [
            "100%|██████████| 413/413 [00:04<00:00, 92.68it/s] \n",
            "  0%|          | 0/413 [00:00<?, ?it/s]"
          ],
          "name": "stderr"
        },
        {
          "output_type": "stream",
          "text": [
            "Accuracy of the network on the test images: 45 %\n",
            "performing test\n"
          ],
          "name": "stdout"
        },
        {
          "output_type": "stream",
          "text": [
            "100%|██████████| 413/413 [00:04<00:00, 93.53it/s] \n",
            "  0%|          | 0/413 [00:00<?, ?it/s]"
          ],
          "name": "stderr"
        },
        {
          "output_type": "stream",
          "text": [
            "Accuracy of the network on the test images: 47 %\n"
          ],
          "name": "stdout"
        },
        {
          "output_type": "stream",
          "text": [
            "100%|██████████| 413/413 [00:04<00:00, 91.33it/s] \n"
          ],
          "name": "stderr"
        },
        {
          "output_type": "stream",
          "text": [
            "Accuracy of arctic_fox : 65 %\n",
            "Accuracy of     barrel :  2 %\n",
            "Accuracy of     cannon : 23 %\n",
            "Accuracy of      chime : 29 %\n",
            "Accuracy of      cliff : 67 %\n",
            "Accuracy of       clog : 29 %\n",
            "Accuracy of      crate : 59 %\n",
            "Accuracy of    cuirass : 39 %\n",
            "Accuracy of     dugong : 73 %\n",
            "Accuracy of        ear : 45 %\n",
            "Accuracy of frying_pan : 36 %\n",
            "Accuracy of harvestman : 60 %\n",
            "Accuracy of    holster : 28 %\n",
            "Accuracy of horizontal_bar : 31 %\n",
            "Accuracy of     hotdog : 55 %\n",
            "Accuracy of       iPod : 56 %\n",
            "Accuracy of  jellyfish : 69 %\n",
            "Accuracy of  miniskirt : 35 %\n",
            "Accuracy of    missile : 32 %\n",
            "Accuracy of mixing_bowl : 35 %\n",
            "Accuracy of   nematode : 42 %\n",
            "Accuracy of newfoundland : 41 %\n",
            "Accuracy of       oboe : 15 %\n",
            "Accuracy of      robin : 60 %\n",
            "Accuracy of     saluki : 48 %\n",
            "Accuracy of school_bus : 81 %\n",
            "Accuracy of theater_curtain : 78 %\n",
            "Accuracy of three_toed_sloth : 72 %\n",
            "Accuracy of tibetan_mastiff : 65 %\n",
            "Accuracy of    upright : 56 %\n",
            "Accuracy of walker_hound : 19 %\n",
            "Accuracy of        wok : 31 %\n",
            "Accuracy of worm_fence : 67 %\n",
            "Finished Training\n",
            "[17.62121212121212, 20.825757575757574, 24.28030303030303, 28.106060606060606, 29.143939393939394, 31.727272727272727, 32.95454545454545, 31.939393939393938, 32.59848484848485, 33.583333333333336, 34.946969696969695, 33.68181818181818, 35.74242424242424, 37.515151515151516, 38.28030303030303, 39.77272727272727, 38.50757575757576, 38.196969696969695, 40.196969696969695, 38.53030303030303, 42.78030303030303, 43.42424242424242, 45.015151515151516, 43.79545454545455, 43.95454545454545, 44.34848484848485, 43.65151515151515, 45.03787878787879, 45.46212121212121, 42.17424242424242, 47.11363636363637, 47.31818181818182, 47.39393939393939, 48.75, 50.53030303030303, 46.083333333333336, 47.09848484848485, 48.18181818181818, 44.984848484848484, 48.803030303030305, 50.92424242424242, 48.75757575757576, 50.68181818181818, 51.71212121212121, 50.0, 50.46969696969697, 51.35606060606061, 49.72727272727273, 51.43181818181818, 55.24242424242424]\n",
            "[18.393939393939394, 19.272727272727273, 22.939393939393938, 26.151515151515152, 28.818181818181817, 31.181818181818183, 31.272727272727273, 30.151515151515152, 30.939393939393938, 30.636363636363637, 32.15151515151515, 32.0, 32.81818181818182, 33.93939393939394, 34.78787878787879, 35.666666666666664, 34.878787878787875, 33.90909090909091, 36.75757575757576, 35.24242424242424, 37.54545454545455, 38.60606060606061, 40.515151515151516, 40.0, 38.63636363636363, 38.57575757575758, 39.06060606060606, 39.39393939393939, 39.78787878787879, 36.36363636363637, 41.45454545454545, 40.27272727272727, 40.90909090909091, 41.60606060606061, 43.27272727272727, 40.15151515151515, 41.21212121212121, 41.515151515151516, 39.121212121212125, 41.27272727272727, 43.27272727272727, 42.121212121212125, 43.18181818181818, 44.21212121212121, 43.24242424242424, 42.36363636363637, 43.0, 42.39393939393939, 43.36363636363637, 45.75757575757576]\n"
          ],
          "name": "stdout"
        }
      ]
    },
    {
      "cell_type": "code",
      "metadata": {
        "id": "dDfzZQQB4Soq"
      },
      "source": [
        "results = open('/content/drive/My Drive/Models/WD_Results.txt', mode='r+')\n",
        "results.readlines()\n",
        "results.close()"
      ],
      "execution_count": null,
      "outputs": []
    },
    {
      "cell_type": "code",
      "metadata": {
        "id": "kGoa61jyajFq"
      },
      "source": [
        "import matplotlib.pyplot as plt\n",
        "import math"
      ],
      "execution_count": null,
      "outputs": []
    },
    {
      "cell_type": "code",
      "metadata": {
        "id": "y71uGGp0bSFC"
      },
      "source": [
        "wd_vals = [5e-5, 7.5e-5, 1e-4, 2.5e-4, 3.75e-4, 5e-4, 7.5e-4, 1e-3, 2.5e-3, 5e-3, 7.5e-3, 1e-2]\n",
        "test_accs = [48, 54, 55, 57, 55, 56, 54, 54, 50, 51, 49, 42]\n",
        "val_accs = [49, 53, 54, 55, 53, 55, 53, 53, 51, 51, 48, 43]"
      ],
      "execution_count": null,
      "outputs": []
    },
    {
      "cell_type": "code",
      "metadata": {
        "id": "NiLTTmN-cNdG",
        "colab": {
          "base_uri": "https://localhost:8080/",
          "height": 265
        },
        "outputId": "381c4d96-c051-4817-e1aa-636363887296"
      },
      "source": [
        "test_acc = plt.plot(wd_vals, test_accs, label = 'Test Accuracy', color = 'b')\n",
        "val_acc = plt.plot(wd_vals, val_accs, label = 'Validation Accuracy', color = 'r')\n",
        "plt.legend()\n",
        "plt.show()"
      ],
      "execution_count": null,
      "outputs": [
        {
          "output_type": "display_data",
          "data": {
            "image/png": "[encoded data removed]",
            "text/plain": [
              "<Figure size 432x288 with 1 Axes>"
            ]
          },
          "metadata": {
            "tags": [],
            "needs_background": "light"
          }
        }
      ]
    },
    {
      "cell_type": "code",
      "metadata": {
        "id": "dqjWqd3rcRQS",
        "colab": {
          "base_uri": "https://localhost:8080/"
        },
        "outputId": "1fbc9570-1a94-4d79-9395-757333fbda30"
      },
      "source": [
        "log_vals = filter(math.log, wd_vals)\n",
        "log_vals"
      ],
      "execution_count": null,
      "outputs": [
        {
          "output_type": "execute_result",
          "data": {
            "text/plain": [
              "<filter at 0x7f6cc156e550>"
            ]
          },
          "metadata": {
            "tags": []
          },
          "execution_count": 19
        }
      ]
    },
    {
      "cell_type": "code",
      "metadata": {
        "id": "u-wEZpXOc3H3",
        "colab": {
          "base_uri": "https://localhost:8080/"
        },
        "outputId": "988edc14-dae8-4a7c-af26-fbbe0ceb13eb"
      },
      "source": [
        "log_vals = []\n",
        "for i in wd_vals:\n",
        "  log_vals.append(math.log(i, 10))\n",
        "\n",
        "print(log_vals)\n",
        "print(type(log_vals))"
      ],
      "execution_count": null,
      "outputs": [
        {
          "output_type": "stream",
          "text": [
            "[-4.30102999566398, -4.1249387366083, -3.999999999999999, -3.602059991327962, -3.4259687322722807, -3.301029995663981, -3.1249387366082995, -2.9999999999999996, -2.602059991327962, -2.301029995663981, -2.1249387366083, -1.9999999999999996]\n",
            "<class 'list'>\n"
          ],
          "name": "stdout"
        }
      ]
    },
    {
      "cell_type": "code",
      "metadata": {
        "id": "vRshucTadXjQ",
        "colab": {
          "base_uri": "https://localhost:8080/",
          "height": 265
        },
        "outputId": "4d69c16f-dc9a-4d1d-f4b6-70a9b77484b1"
      },
      "source": [
        "log_test_acc = plt.plot(log_vals, test_accs, label = 'Test Accuracy', color = 'b')\n",
        "log_val_acc = plt.plot(log_vals, val_accs, label = 'Validation Accuracy', color = 'r')\n",
        "plt.legend()\n",
        "plt.show()"
      ],
      "execution_count": null,
      "outputs": [
        {
          "output_type": "display_data",
          "data": {
            "image/png": "[encoded data removed]",
            "text/plain": [
              "<Figure size 432x288 with 1 Axes>"
            ]
          },
          "metadata": {
            "tags": [],
            "needs_background": "light"
          }
        }
      ]
    },
    {
      "cell_type": "code",
      "metadata": {
        "id": "xMGNdagLdrH8"
      },
      "source": [
        "def sigmoid(x):\n",
        "  return 1 / (1 + math.exp(-x))"
      ],
      "execution_count": null,
      "outputs": []
    },
    {
      "cell_type": "code",
      "metadata": {
        "id": "KkoyvkF4vLNn",
        "colab": {
          "base_uri": "https://localhost:8080/"
        },
        "outputId": "1f9540d7-9ce4-46fe-df00-cef5113fb5e0"
      },
      "source": [
        "nums = []\n",
        "for i in range(50):\n",
        "  nums.append(i+1)\n",
        "print(nums)"
      ],
      "execution_count": null,
      "outputs": [
        {
          "output_type": "stream",
          "text": [
            "[1, 2, 3, 4, 5, 6, 7, 8, 9, 10, 11, 12, 13, 14, 15, 16, 17, 18, 19, 20, 21, 22, 23, 24, 25, 26, 27, 28, 29, 30, 31, 32, 33, 34, 35, 36, 37, 38, 39, 40, 41, 42, 43, 44, 45, 46, 47, 48, 49, 50]\n"
          ],
          "name": "stdout"
        }
      ]
    },
    {
      "cell_type": "code",
      "metadata": {
        "id": "vWhdP6gyu3Io"
      },
      "source": [
        "train_acc1 = [19.431818181818183, 23.318181818181817, 26.71212121212121, 30.386363636363637, 34.90909090909091, 37.553030303030305, 38.85606060606061, 42.61363636363637, 45.446969696969695, 47.29545454545455, 51.07575757575758, 51.40151515151515, 52.24242424242424, 59.39393939393939, 60.265151515151516, 62.11363636363637, 64.18181818181819, 67.49242424242425, 70.3030303030303, 73.08333333333333, 74.45454545454545, 78.5530303030303, 78.25757575757575, 83.12878787878788, 85.87121212121212, 88.42424242424242, 89.77272727272727, 92.40151515151516, 92.93939393939394, 95.75, 92.76515151515152, 97.4090909090909, 97.78787878787878, 98.1590909090909, 97.25, 98.95454545454545, 99.89393939393939, 99.78787878787878, 99.74242424242425, 99.77272727272727, 99.95454545454545, 99.89393939393939, 99.56818181818181, 97.37121212121212, 99.34848484848484, 99.87121212121212, 99.0, 99.56818181818181, 99.95454545454545, 99.82575757575758]\n",
        "val_acc1 = [19.939393939393938, 22.242424242424242, 26.90909090909091, 29.21212121212121, 33.27272727272727, 35.484848484848484, 34.0, 37.78787878787879, 39.09090909090909, 40.90909090909091, 41.42424242424242, 42.696969696969695, 43.06060606060606, 47.121212121212125, 45.24242424242424, 46.36363636363637, 46.15151515151515, 47.60606060606061, 47.57575757575758, 47.696969696969695, 46.303030303030305, 47.06060606060606, 46.81818181818182, 46.84848484848485, 49.696969696969695, 48.78787878787879, 48.96969696969697, 48.121212121212125, 47.45454545454545, 48.45454545454545, 47.24242424242424, 49.63636363636363, 49.78787878787879, 50.333333333333336, 49.0, 50.75757575757576, 51.93939393939394, 51.333333333333336, 51.333333333333336, 52.303030303030305, 51.696969696969695, 51.484848484848484, 51.27272727272727, 48.75757575757576, 49.696969696969695, 52.27272727272727, 50.121212121212125, 51.15151515151515, 51.75757575757576, 52.03030303030303]\n",
        "\n",
        "train_acc2 = [19.143939393939394, 21.886363636363637, 28.598484848484848, 31.977272727272727, 33.63636363636363, 36.89393939393939, 38.81818181818182, 42.43939393939394, 44.77272727272727, 46.63636363636363, 49.31060606060606, 48.03787878787879, 54.234848484848484, 55.03030303030303, 58.53787878787879, 59.234848484848484, 63.22727272727273, 66.51515151515152, 68.68939393939394, 70.3030303030303, 73.18181818181819, 75.8409090909091, 75.48484848484848, 80.02272727272727, 81.14393939393939, 83.21969696969697, 88.91666666666667, 84.0909090909091, 91.60606060606061, 92.5909090909091, 95.3409090909091, 93.1590909090909, 94.99242424242425, 95.56818181818181, 97.98484848484848, 94.26515151515152, 98.06818181818181, 99.28030303030303, 99.90151515151516, 99.6969696969697, 99.72727272727273, 99.92424242424242, 99.82575757575758, 93.58333333333333, 99.45454545454545, 99.87121212121212, 99.9469696969697, 99.96212121212122, 99.97727272727273, 99.93939393939394]\n",
        "val_acc2 = [18.484848484848484, 20.696969696969695, 27.848484848484848, 29.939393939393938, 31.03030303030303, 33.18181818181818, 33.90909090909091, 37.03030303030303, 39.0, 40.36363636363637, 41.515151515151516, 40.78787878787879, 42.63636363636363, 43.84848484848485, 45.0, 44.57575757575758, 46.54545454545455, 49.36363636363637, 48.75757575757576, 48.75757575757576, 50.09090909090909, 48.15151515151515, 48.09090909090909, 48.09090909090909, 47.63636363636363, 50.42424242424242, 50.333333333333336, 47.84848484848485, 50.15151515151515, 49.63636363636363, 51.303030303030305, 49.42424242424242, 50.09090909090909, 49.878787878787875, 51.72727272727273, 48.696969696969695, 51.84848484848485, 50.78787878787879, 52.03030303030303, 52.57575757575758, 52.78787878787879, 52.878787878787875, 53.15151515151515, 47.333333333333336, 52.06060606060606, 52.63636363636363, 53.303030303030305, 53.42424242424242, 53.515151515151516, 53.63636363636363]\n",
        "\n",
        "train_acc3 = [17.62121212121212, 20.825757575757574, 24.28030303030303, 28.106060606060606, 29.143939393939394, 31.727272727272727, 32.95454545454545, 31.939393939393938, 32.59848484848485, 33.583333333333336, 34.946969696969695, 33.68181818181818, 35.74242424242424, 37.515151515151516, 38.28030303030303, 39.77272727272727, 38.50757575757576, 38.196969696969695, 40.196969696969695, 38.53030303030303, 42.78030303030303, 43.42424242424242, 45.015151515151516, 43.79545454545455, 43.95454545454545, 44.34848484848485, 43.65151515151515, 45.03787878787879, 45.46212121212121, 42.17424242424242, 47.11363636363637, 47.31818181818182, 47.39393939393939, 48.75, 50.53030303030303, 46.083333333333336, 47.09848484848485, 48.18181818181818, 44.984848484848484, 48.803030303030305, 50.92424242424242, 48.75757575757576, 50.68181818181818, 51.71212121212121, 50.0, 50.46969696969697, 51.35606060606061, 49.72727272727273, 51.43181818181818, 55.24242424242424]\n",
        "val_acc3 = [18.393939393939394, 19.272727272727273, 22.939393939393938, 26.151515151515152, 28.818181818181817, 31.181818181818183, 31.272727272727273, 30.151515151515152, 30.939393939393938, 30.636363636363637, 32.15151515151515, 32.0, 32.81818181818182, 33.93939393939394, 34.78787878787879, 35.666666666666664, 34.878787878787875, 33.90909090909091, 36.75757575757576, 35.24242424242424, 37.54545454545455, 38.60606060606061, 40.515151515151516, 40.0, 38.63636363636363, 38.57575757575758, 39.06060606060606, 39.39393939393939, 39.78787878787879, 36.36363636363637, 41.45454545454545, 40.27272727272727, 40.90909090909091, 41.60606060606061, 43.27272727272727, 40.15151515151515, 41.21212121212121, 41.515151515151516, 39.121212121212125, 41.27272727272727, 43.27272727272727, 42.121212121212125, 43.18181818181818, 44.21212121212121, 43.24242424242424, 42.36363636363637, 43.0, 42.39393939393939, 43.36363636363637, 45.75757575757576]\n"
      ],
      "execution_count": null,
      "outputs": []
    },
    {
      "cell_type": "code",
      "metadata": {
        "id": "c01-EOwDvCoo",
        "colab": {
          "base_uri": "https://localhost:8080/",
          "height": 265
        },
        "outputId": "27bea250-cad1-4b51-ef6f-dbe9abeef48a"
      },
      "source": [
        "train1 = plt.plot(nums, train_acc1, label = 'Training Accuracy', color = 'b')\n",
        "val1 = plt.plot(nums, val_acc1, label = 'Validation Accuracy', color = 'r')\n",
        "plt.legend()\n",
        "plt.show()"
      ],
      "execution_count": null,
      "outputs": [
        {
          "output_type": "display_data",
          "data": {
            "image/png": "[encoded data removed]",
            "text/plain": [
              "<Figure size 432x288 with 1 Axes>"
            ]
          },
          "metadata": {
            "tags": [],
            "needs_background": "light"
          }
        }
      ]
    },
    {
      "cell_type": "code",
      "metadata": {
        "id": "C2C-Ca7m6raC",
        "colab": {
          "base_uri": "https://localhost:8080/",
          "height": 265
        },
        "outputId": "8e5b344c-0f9a-4fdc-877c-266998fb72c0"
      },
      "source": [
        "train2 = plt.plot(nums, train_acc2, label = 'Training Accuracy', color = 'b')\n",
        "val2 = plt.plot(nums, val_acc2, label = 'Validation Accuracy', color = 'r')\n",
        "plt.legend()\n",
        "plt.show()"
      ],
      "execution_count": null,
      "outputs": [
        {
          "output_type": "display_data",
          "data": {
            "image/png": "[encoded data removed]",
            "text/plain": [
              "<Figure size 432x288 with 1 Axes>"
            ]
          },
          "metadata": {
            "tags": [],
            "needs_background": "light"
          }
        }
      ]
    },
    {
      "cell_type": "code",
      "metadata": {
        "id": "WB9EPZzc6rwj",
        "colab": {
          "base_uri": "https://localhost:8080/",
          "height": 265
        },
        "outputId": "01779203-dffc-4f92-a4cb-0adfb723a3b2"
      },
      "source": [
        "train3 = plt.plot(nums, train_acc3, label = 'Training Accuracy', color = 'b')\n",
        "val3 = plt.plot(nums, val_acc3, label = 'Validation Accuracy', color = 'r')\n",
        "plt.legend()\n",
        "plt.show()"
      ],
      "execution_count": null,
      "outputs": [
        {
          "output_type": "display_data",
          "data": {
            "image/png": "[encoded data removed]",
            "text/plain": [
              "<Figure size 432x288 with 1 Axes>"
            ]
          },
          "metadata": {
            "tags": [],
            "needs_background": "light"
          }
        }
      ]
    }
  ]
}