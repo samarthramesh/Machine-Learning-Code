{
 "cells": [
  {
   "cell_type": "code",
   "execution_count": null,
   "metadata": {},
   "outputs": [],
   "source": [
    "import numpy as np\n",
    "import matplotlib.pyplot as plt\n",
    "import matplotlib.image as mpimg\n",
    "from PIL import Image, ImageFilter\n",
    "import math"
   ]
  },
  {
   "cell_type": "code",
   "execution_count": null,
   "metadata": {},
   "outputs": [],
   "source": [
    "cameraman = Image.open('cameraman.tif')\n",
    "cheetah   = Image.open('cheetah.png')\n",
    "einstein  = Image.open('einstein.jpg')\n",
    "hill      = Image.open('hill.png')\n",
    "parrot    = Image.open('parrot.png')"
   ]
  },
  {
   "cell_type": "markdown",
   "metadata": {},
   "source": [
    "# Problem 1"
   ]
  },
  {
   "cell_type": "code",
   "execution_count": null,
   "metadata": {},
   "outputs": [],
   "source": [
    "pr1 = hill.convert('LA')\n",
    "pr1.save('hill_gray.png')\n",
    "pr1"
   ]
  },
  {
   "cell_type": "markdown",
   "metadata": {},
   "source": [
    "# Problem 2"
   ]
  },
  {
   "cell_type": "code",
   "execution_count": null,
   "metadata": {},
   "outputs": [],
   "source": [
    "def linearizeimage(x):\n",
    "    return (((x - x.min())/(x.max() - x.min()))*255)"
   ]
  },
  {
   "cell_type": "code",
   "execution_count": null,
   "metadata": {},
   "outputs": [],
   "source": [
    "def bitsperint(x):\n",
    "    count = [0] * 256\n",
    "    for i in x:\n",
    "        for j in i:\n",
    "            count[j] += 1\n",
    "    return count"
   ]
  },
  {
   "cell_type": "code",
   "execution_count": null,
   "metadata": {},
   "outputs": [],
   "source": [
    "einarray = np.array(einstein)\n",
    "print(\"Width:\", einarray.shape[1])\n",
    "print(\"Height:\", einarray.shape[0])\n",
    "print(\"The count for each bit:\")\n",
    "print(bitsperint(einarray))"
   ]
  },
  {
   "cell_type": "code",
   "execution_count": null,
   "metadata": {},
   "outputs": [],
   "source": [
    "linein = linearizeimage(einarray)\n",
    "linimg = Image.fromarray(linein).convert('RGB')\n",
    "print(\"Original Image:\")\n",
    "display(einstein)\n",
    "print(\"Linearized Image:\")\n",
    "display(linimg)\n",
    "linimg.save('einstein_linearized.jpg')"
   ]
  },
  {
   "cell_type": "markdown",
   "metadata": {},
   "source": [
    "The linearised picture that we obtain seems to be identical to the original image. This is as expected as the maximum and minimum bit values in the image are 0 and 255."
   ]
  },
  {
   "cell_type": "markdown",
   "metadata": {},
   "source": [
    "# Problem 3"
   ]
  },
  {
   "cell_type": "raw",
   "metadata": {},
   "source": [
    "The formulae for padding are as follows:\n",
    "\n",
    "## Zero\n",
    "\n",
    "f_p(i,j)\n",
    "    | (0 <= i < p) || (0 <= j < p) || (M <= i < M+p) || (N <= i < N+p) = rgba(0,0,0,0)\n",
    "    | otherwise = f(i-p,j-p)\n",
    "\n",
    "## Constant\n",
    "\n",
    "f_p(i,j)\n",
    "    | (0 <= i < p) || (0 <= j < p) || (M <= i < M+p) || (N <= i < N+p) = rgba(0,1,0,0)\n",
    "    | otherwise = f(i-p,j-p)\n",
    "\n",
    "## Clamp\n",
    "\n",
    "f_p(i,j)\n",
    "    | (0 <= i < p) && (0 <= j < p) = f(0,0)\n",
    "    | (M <= i < M+p) && (N <= j < N+p) = f(M-1,N-1)  \n",
    "    | (0 <= i < p) && (N <= j < N+p) = f(0,N-1)\n",
    "    | (M <= i < M+p) && (0 <= j < p) = f(M-1,0)\n",
    "    | (0 <= i < p) = f(0,j)\n",
    "    | (0 <= j < p) = f(i,0)\n",
    "    | (M <= i < M+p) = f(M-1,j)\n",
    "    | (N <= j < N+p) = f(i,M-1)\n",
    "    | otherwise = f(i-p,j-p)\n",
    "\n",
    "## Mirror\n",
    "\n",
    "f_p(i,j)\n",
    "    | (0 <= i < p) && (0 <= j < p) = f(p-i,p-j)\n",
    "    | (M <= i < M+p) && (N <= j < N+p) = f(2M-i,2N-j)  \n",
    "    | (0 <= i < p) && (N <= j < N+p) = f(p-i,2N-j)\n",
    "    | (M <= i < M+p) && (0 <= j < p) = f(2M-i,p-j)\n",
    "    | (0 <= i < p) = f(p-i,j)\n",
    "    | (0 <= j < p) = f(i,p-j)\n",
    "    | (M <= i < M+p) = f(2M-i,j)\n",
    "    | (N <= j < N+p) = f(i,2N-j)\n",
    "    | otherwise = f(i-p,j-p)"
   ]
  },
  {
   "cell_type": "markdown",
   "metadata": {},
   "source": [
    "# Problem 4"
   ]
  },
  {
   "cell_type": "code",
   "execution_count": null,
   "metadata": {},
   "outputs": [],
   "source": [
    "def pad(img, padw, padh, *args, **kwargs):\n",
    "    if len((np.array(img)).shape) > 2:\n",
    "        return Image.fromarray(np.pad(np.array(img), ((padw,padw),(padh,padh),(0,0)), *args, **kwargs))\n",
    "    else:\n",
    "        return Image.fromarray(np.pad(np.array(img), ((padw,padw),(padh,padh)), *args, **kwargs))"
   ]
  },
  {
   "cell_type": "code",
   "execution_count": null,
   "metadata": {},
   "outputs": [],
   "source": [
    "images = [\"cheetah\", \"hill\", \"parrot\"]\n",
    "for imgf in images:\n",
    "    print(\"Image:\", imgf)\n",
    "    img = Image.open(imgf+\".png\").convert('RGBA')\n",
    "    display(img)\n",
    "    \n",
    "    for size in [1,2,3]:\n",
    "        print(\"Padding Size:\", size)\n",
    "        \n",
    "        print(\"Zero Padding\")\n",
    "        timg = pad(img, size, size, 'constant')\n",
    "        display(timg)\n",
    "        timg.save(imgf+'_zero.png')\n",
    "        \n",
    "        print(\"Constant Padding\")\n",
    "        cv=(([0,0,255,255],[0,0,255,255]),([0,0,255,255],[0,0,255,255]),(0,0))\n",
    "        timg = pad(img, size, size, 'constant', constant_values=cv)\n",
    "        display(timg)\n",
    "        timg.save(imgf+'_constant.png')\n",
    "        \n",
    "        print(\"Clamp Padding\")\n",
    "        timg = pad(img, size, size, 'edge')\n",
    "        display(timg)\n",
    "        timg.save(imgf+'_clamp.png')\n",
    "        \n",
    "        print(\"Mirror Padding\")\n",
    "        timg = pad(img, size, size, 'reflect')\n",
    "        display(timg)\n",
    "        timg.save(imgf+'_mirror.png')\n"
   ]
  },
  {
   "cell_type": "markdown",
   "metadata": {},
   "source": [
    "# Problem 5"
   ]
  },
  {
   "cell_type": "code",
   "execution_count": null,
   "metadata": {},
   "outputs": [],
   "source": [
    "def convolution2d(img, vertkern, horkern, padmode='constant'):\n",
    "    return convolution1d((convolution1d(img, vertkern, axis=0)), horkern, axis=1)\n",
    "\n",
    "def convolution1d(img, kernel, padmode='constant', axis=0):\n",
    "    #axis=0 - vertical\n",
    "    #axis=1 - horizontal\n",
    "    l = len(kernel)\n",
    "    padsize = math.floor(l/2)\n",
    "    imgarray = np.array(img)\n",
    "    result = imgarray*0\n",
    "    paddedimg = np.array(pad(img, padsize, padsize, mode=padmode))\n",
    "    if axis == 0:\n",
    "        for i in range(result.shape[0]):\n",
    "            for j in range(result.shape[1]):\n",
    "                result[i][j] = np.sum(paddedimg[i:i+l, j]*kernel)\n",
    "    else:\n",
    "        for i in range(result.shape[0]):\n",
    "            for j in range(result.shape[1]):\n",
    "                result[i][j] = np.sum(paddedimg[i, j:j+l]*kernel)\n",
    "    final = Image.fromarray(result)\n",
    "    return final"
   ]
  },
  {
   "cell_type": "code",
   "execution_count": null,
   "metadata": {},
   "outputs": [],
   "source": [
    "def boxfilter(img, size):\n",
    "    kernel = np.array([1/size]*size)\n",
    "    return(convolution1d((convolution1d(img, kernel, axis=0)), kernel, axis = 1))"
   ]
  },
  {
   "cell_type": "code",
   "execution_count": null,
   "metadata": {
    "scrolled": true
   },
   "outputs": [],
   "source": [
    "def gaussiankernel1d(sigma, size):\n",
    "    result = np.zeros(size)\n",
    "    k = 1/(sigma*math.sqrt(2*math.pi))\n",
    "    mid = int((size-1)/2)\n",
    "    for i in range(mid+1):\n",
    "        value = k*math.exp(-i*i/(2*sigma*sigma))\n",
    "        result[mid-i] = value\n",
    "        result[mid+i] = value\n",
    "    return(result)"
   ]
  },
  {
   "cell_type": "code",
   "execution_count": null,
   "metadata": {},
   "outputs": [],
   "source": [
    "def gaussianfilter(img, sigma, size):\n",
    "    kernel = gaussiankernel1d(sigma, size)\n",
    "    result = convolution2d(img, kernel, kernel)\n",
    "    return(result)"
   ]
  },
  {
   "cell_type": "code",
   "execution_count": null,
   "metadata": {
    "scrolled": true
   },
   "outputs": [],
   "source": [
    "sigmas = [1/2,1,2]\n",
    "sizes = [5,7,11]\n",
    "for size in sizes:\n",
    "    for sigma in sigmas:\n",
    "        img = gaussianfilter(einstein, sigma, size)\n",
    "        print('This is a Gaussian Filter of size ' + str(size) + 'x' + str(size) + ' with sigma value ' + str(sigma) + ' applied on the image einstein')\n",
    "        display(img)\n",
    "\n",
    "for size in sizes:\n",
    "    img = boxfilter(einstein, size)\n",
    "    print('This is a Box Filter of size ' + str(size) + 'x' + str(size) + ' applied on the image einstein')\n",
    "    display(img)"
   ]
  },
  {
   "cell_type": "markdown",
   "metadata": {},
   "source": [
    "# Problem 6"
   ]
  },
  {
   "cell_type": "code",
   "execution_count": null,
   "metadata": {},
   "outputs": [],
   "source": [
    "def Gaussthensharpen(img, rad):\n",
    "    return img.filter(ImageFilter.GaussianBlur(radius = rad)).filter(ImageFilter.SHARPEN).filter(ImageFilter.SHARPEN)\n",
    "\n",
    "def Boxthensharpen(img, rad):\n",
    "    return img.filter(ImageFilter.BoxBlur(radius = rad)).filter(ImageFilter.SHARPEN).filter(ImageFilter.SHARPEN)"
   ]
  },
  {
   "cell_type": "markdown",
   "metadata": {},
   "source": [
    "# Problem 7"
   ]
  },
  {
   "cell_type": "code",
   "execution_count": null,
   "metadata": {},
   "outputs": [],
   "source": [
    "def Medianthensharpen(img, size):\n",
    "    return img.filter(ImageFilter.MedianFilter(size = size)).filter(ImageFilter.SHARPEN).filter(ImageFilter.SHARPEN)"
   ]
  },
  {
   "cell_type": "markdown",
   "metadata": {},
   "source": [
    "# Problem 8"
   ]
  },
  {
   "cell_type": "code",
   "execution_count": null,
   "metadata": {
    "scrolled": true
   },
   "outputs": [],
   "source": [
    "images = [\"cheetah\",\"hill\",\"parrot\"]\n",
    "for imgf in images:\n",
    "    print(\"Image:\",imgf)\n",
    "    img = Image.open(imgf+\".png\").convert('RGBA')\n",
    "    display(img)\n",
    "    \n",
    "    sizes = [5, 7, 11]\n",
    "    print(\"Filter: Gaussian\")\n",
    "    for size in sizes:\n",
    "        print(\"Size: \"+str(size)+\"x\"+str(size))\n",
    "        timg = Gaussthensharpen(img, size)\n",
    "        timg.save(imgf + '_gaussian.png')\n",
    "        display(timg)\n",
    "    \n",
    "    print(\"Filter: Box\")\n",
    "    for size in sizes:\n",
    "        print(\"Size: \"+str(size)+\"x\"+str(size))\n",
    "        timg = Boxthensharpen(img, size)\n",
    "        timg.save(imgf + '_box.png')\n",
    "        display(timg)\n",
    "    \n",
    "    print(\"Filter: Median\")\n",
    "    for size in sizes:\n",
    "        print(\"Size: \"+str(size)+\"x\"+str(size))\n",
    "        timg = Medianthensharpen(img, size)\n",
    "        timg.save(imgf + '_median.png')\n",
    "        display(timg)"
   ]
  },
  {
   "cell_type": "markdown",
   "metadata": {},
   "source": [
    "The Median filter tends to do a better job at highlighting the details and edges, doing a good job of enhancing the image. The Box and Gaussian filters reduce the contrast of the image and blur the image well."
   ]
  }
 ],
 "metadata": {
  "kernelspec": {
   "display_name": "Python 3",
   "language": "python",
   "name": "python3"
  },
  "language_info": {
   "codemirror_mode": {
    "name": "ipython",
    "version": 3
   },
   "file_extension": ".py",
   "mimetype": "text/x-python",
   "name": "python",
   "nbconvert_exporter": "python",
   "pygments_lexer": "ipython3",
   "version": "3.7.6"
  }
 },
 "nbformat": 4,
 "nbformat_minor": 2
}
